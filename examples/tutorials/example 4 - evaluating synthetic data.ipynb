{
 "cells": [
  {
   "cell_type": "markdown",
   "metadata": {},
   "source": [
    "# Evaluating Sequential Data\n",
    "\n",
    "This is a quick example to show how to use the evaluation metrics in this library on your synthetic data.\n",
    "\n",
    "Our current repo is still very much work-in-progress, so you may run into some errors. Also, there will likely be some significant changes to the code structure in the future. We aim to update these notebooks at a later stage."
   ]
  },
  {
   "cell_type": "markdown",
   "metadata": {},
   "source": [
    "# Environment"
   ]
  },
  {
   "cell_type": "markdown",
   "metadata": {},
   "source": [
    "## Library Imports"
   ]
  },
  {
   "cell_type": "code",
   "execution_count": 3,
   "metadata": {},
   "outputs": [],
   "source": [
    "import numpy as np\n",
    "import pandas as pd\n",
    "from pathlib import Path\n",
    "import os\n",
    "import sys\n",
    "from itertools import product\n",
    "module_path = os.path.abspath(os.path.join('../..'))\n",
    "if module_path not in sys.path:\n",
    "    sys.path.append(module_path)"
   ]
  },
  {
   "cell_type": "markdown",
   "metadata": {},
   "source": [
    "## Jupyter-specific Imports and Settings"
   ]
  },
  {
   "cell_type": "code",
   "execution_count": 4,
   "metadata": {},
   "outputs": [],
   "source": [
    "# set printing options\n",
    "np.set_printoptions(threshold=sys.maxsize)\n",
    "pd.set_option('display.max_rows', 500)\n",
    "pd.set_option('display.max_columns', 500)\n",
    "pd.set_option('display.width', 1000)\n",
    "pd.set_option('display.expand_frame_repr', False)\n",
    "\n",
    "# Display all cell outputs\n",
    "from IPython.core.interactiveshell import InteractiveShell\n",
    "InteractiveShell.ast_node_interactivity = 'all'\n",
    "\n",
    "from IPython import get_ipython\n",
    "ipython = get_ipython()\n",
    "\n",
    "# autoreload extension\n",
    "if 'autoreload' not in ipython.extension_manager.loaded:\n",
    "    get_ipython().run_line_magic('load_ext', 'autoreload')\n",
    "\n",
    "get_ipython().run_line_magic('autoreload', '2')\n",
    "from importlib import reload"
   ]
  },
  {
   "cell_type": "markdown",
   "metadata": {},
   "source": [
    "## Import local libraries"
   ]
  },
  {
   "cell_type": "code",
   "execution_count": 70,
   "metadata": {},
   "outputs": [],
   "source": [
    "from synthesis.evaluation.metrics import JSDistanceColumns\n",
    "from synthesis.evaluation.efficacy import TrainBothTestOriginalHoldout\n",
    "from synthesis.evaluation._base import BaseMetric, BasePredictiveMetric\n",
    "from synthesis.evaluation.evaluator import SyntheticEvaluator, DEFAULT_METRICS"
   ]
  },
  {
   "cell_type": "code",
   "execution_count": 6,
   "metadata": {},
   "outputs": [
    {
     "data": {
      "text/plain": [
       "'c:\\\\projects\\\\synthetic_data_generation\\\\examples\\\\tutorials'"
      ]
     },
     "execution_count": 6,
     "metadata": {},
     "output_type": "execute_result"
    }
   ],
   "source": [
    "os.getcwd()"
   ]
  },
  {
   "cell_type": "markdown",
   "metadata": {},
   "source": [
    "# Load and Preprocess datasets"
   ]
  },
  {
   "cell_type": "markdown",
   "metadata": {},
   "source": [
    "Load the original and synthetic datasets you created. "
   ]
  },
  {
   "cell_type": "code",
   "execution_count": 22,
   "metadata": {},
   "outputs": [
    {
     "data": {
      "text/html": [
       "<div>\n",
       "<style scoped>\n",
       "    .dataframe tbody tr th:only-of-type {\n",
       "        vertical-align: middle;\n",
       "    }\n",
       "\n",
       "    .dataframe tbody tr th {\n",
       "        vertical-align: top;\n",
       "    }\n",
       "\n",
       "    .dataframe thead th {\n",
       "        text-align: right;\n",
       "    }\n",
       "</style>\n",
       "<table border=\"1\" class=\"dataframe\">\n",
       "  <thead>\n",
       "    <tr style=\"text-align: right;\">\n",
       "      <th></th>\n",
       "      <th>age</th>\n",
       "      <th>workclass</th>\n",
       "      <th>fnlwgt</th>\n",
       "      <th>education</th>\n",
       "      <th>education-num</th>\n",
       "      <th>marital-status</th>\n",
       "      <th>occupation</th>\n",
       "      <th>relationship</th>\n",
       "      <th>race</th>\n",
       "      <th>sex</th>\n",
       "      <th>capital-gain</th>\n",
       "      <th>capital-loss</th>\n",
       "      <th>hours-per-week</th>\n",
       "      <th>native-country</th>\n",
       "      <th>income</th>\n",
       "    </tr>\n",
       "  </thead>\n",
       "  <tbody>\n",
       "    <tr>\n",
       "      <th>0</th>\n",
       "      <td>39</td>\n",
       "      <td>State-gov</td>\n",
       "      <td>77516</td>\n",
       "      <td>Bachelors</td>\n",
       "      <td>13</td>\n",
       "      <td>Never-married</td>\n",
       "      <td>Adm-clerical</td>\n",
       "      <td>Not-in-family</td>\n",
       "      <td>White</td>\n",
       "      <td>Male</td>\n",
       "      <td>2174</td>\n",
       "      <td>0</td>\n",
       "      <td>40</td>\n",
       "      <td>United-States</td>\n",
       "      <td>&lt;=50K</td>\n",
       "    </tr>\n",
       "    <tr>\n",
       "      <th>1</th>\n",
       "      <td>50</td>\n",
       "      <td>Self-emp-not-inc</td>\n",
       "      <td>83311</td>\n",
       "      <td>Bachelors</td>\n",
       "      <td>13</td>\n",
       "      <td>Married-civ-spouse</td>\n",
       "      <td>Exec-managerial</td>\n",
       "      <td>Husband</td>\n",
       "      <td>White</td>\n",
       "      <td>Male</td>\n",
       "      <td>0</td>\n",
       "      <td>0</td>\n",
       "      <td>13</td>\n",
       "      <td>United-States</td>\n",
       "      <td>&lt;=50K</td>\n",
       "    </tr>\n",
       "    <tr>\n",
       "      <th>2</th>\n",
       "      <td>38</td>\n",
       "      <td>Private</td>\n",
       "      <td>215646</td>\n",
       "      <td>HS-grad</td>\n",
       "      <td>9</td>\n",
       "      <td>Divorced</td>\n",
       "      <td>Handlers-cleaners</td>\n",
       "      <td>Not-in-family</td>\n",
       "      <td>White</td>\n",
       "      <td>Male</td>\n",
       "      <td>0</td>\n",
       "      <td>0</td>\n",
       "      <td>40</td>\n",
       "      <td>United-States</td>\n",
       "      <td>&lt;=50K</td>\n",
       "    </tr>\n",
       "    <tr>\n",
       "      <th>3</th>\n",
       "      <td>53</td>\n",
       "      <td>Private</td>\n",
       "      <td>234721</td>\n",
       "      <td>11th</td>\n",
       "      <td>7</td>\n",
       "      <td>Married-civ-spouse</td>\n",
       "      <td>Handlers-cleaners</td>\n",
       "      <td>Husband</td>\n",
       "      <td>Black</td>\n",
       "      <td>Male</td>\n",
       "      <td>0</td>\n",
       "      <td>0</td>\n",
       "      <td>40</td>\n",
       "      <td>United-States</td>\n",
       "      <td>&lt;=50K</td>\n",
       "    </tr>\n",
       "    <tr>\n",
       "      <th>4</th>\n",
       "      <td>28</td>\n",
       "      <td>Private</td>\n",
       "      <td>338409</td>\n",
       "      <td>Bachelors</td>\n",
       "      <td>13</td>\n",
       "      <td>Married-civ-spouse</td>\n",
       "      <td>Prof-specialty</td>\n",
       "      <td>Wife</td>\n",
       "      <td>Black</td>\n",
       "      <td>Female</td>\n",
       "      <td>0</td>\n",
       "      <td>0</td>\n",
       "      <td>40</td>\n",
       "      <td>Cuba</td>\n",
       "      <td>&lt;=50K</td>\n",
       "    </tr>\n",
       "  </tbody>\n",
       "</table>\n",
       "</div>"
      ],
      "text/plain": [
       "   age         workclass  fnlwgt  education  education-num      marital-status         occupation   relationship   race     sex  capital-gain  capital-loss  hours-per-week native-country income\n",
       "0   39         State-gov   77516  Bachelors             13       Never-married       Adm-clerical  Not-in-family  White    Male          2174             0              40  United-States  <=50K\n",
       "1   50  Self-emp-not-inc   83311  Bachelors             13  Married-civ-spouse    Exec-managerial        Husband  White    Male             0             0              13  United-States  <=50K\n",
       "2   38           Private  215646    HS-grad              9            Divorced  Handlers-cleaners  Not-in-family  White    Male             0             0              40  United-States  <=50K\n",
       "3   53           Private  234721       11th              7  Married-civ-spouse  Handlers-cleaners        Husband  Black    Male             0             0              40  United-States  <=50K\n",
       "4   28           Private  338409  Bachelors             13  Married-civ-spouse     Prof-specialty           Wife  Black  Female             0             0              40           Cuba  <=50K"
      ]
     },
     "execution_count": 22,
     "metadata": {},
     "output_type": "execute_result"
    }
   ],
   "source": [
    "df_original = pd.read_csv('../data/original/adult.csv')\n",
    "df_original.head()"
   ]
  },
  {
   "cell_type": "code",
   "execution_count": 11,
   "metadata": {},
   "outputs": [
    {
     "data": {
      "text/html": [
       "<div>\n",
       "<style scoped>\n",
       "    .dataframe tbody tr th:only-of-type {\n",
       "        vertical-align: middle;\n",
       "    }\n",
       "\n",
       "    .dataframe tbody tr th {\n",
       "        vertical-align: top;\n",
       "    }\n",
       "\n",
       "    .dataframe thead th {\n",
       "        text-align: right;\n",
       "    }\n",
       "</style>\n",
       "<table border=\"1\" class=\"dataframe\">\n",
       "  <thead>\n",
       "    <tr style=\"text-align: right;\">\n",
       "      <th></th>\n",
       "      <th>age</th>\n",
       "      <th>workclass</th>\n",
       "      <th>fnlwgt</th>\n",
       "      <th>education</th>\n",
       "      <th>education-num</th>\n",
       "      <th>marital-status</th>\n",
       "      <th>occupation</th>\n",
       "      <th>relationship</th>\n",
       "      <th>race</th>\n",
       "      <th>sex</th>\n",
       "      <th>capital-gain</th>\n",
       "      <th>capital-loss</th>\n",
       "      <th>hours-per-week</th>\n",
       "      <th>native-country</th>\n",
       "      <th>income</th>\n",
       "    </tr>\n",
       "  </thead>\n",
       "  <tbody>\n",
       "    <tr>\n",
       "      <th>0</th>\n",
       "      <td>19</td>\n",
       "      <td>State-gov</td>\n",
       "      <td>344804</td>\n",
       "      <td>Bachelors</td>\n",
       "      <td>10</td>\n",
       "      <td>Divorced</td>\n",
       "      <td>Other-service</td>\n",
       "      <td>Not-in-family</td>\n",
       "      <td>White</td>\n",
       "      <td>Female</td>\n",
       "      <td>0</td>\n",
       "      <td>0</td>\n",
       "      <td>72</td>\n",
       "      <td>United-States</td>\n",
       "      <td>&lt;=50K</td>\n",
       "    </tr>\n",
       "    <tr>\n",
       "      <th>1</th>\n",
       "      <td>24</td>\n",
       "      <td>Private</td>\n",
       "      <td>37314</td>\n",
       "      <td>Some-college</td>\n",
       "      <td>14</td>\n",
       "      <td>Never-married</td>\n",
       "      <td>Craft-repair</td>\n",
       "      <td>Not-in-family</td>\n",
       "      <td>White</td>\n",
       "      <td>Male</td>\n",
       "      <td>0</td>\n",
       "      <td>0</td>\n",
       "      <td>20</td>\n",
       "      <td>United-States</td>\n",
       "      <td>&lt;=50K</td>\n",
       "    </tr>\n",
       "    <tr>\n",
       "      <th>2</th>\n",
       "      <td>29</td>\n",
       "      <td>Private</td>\n",
       "      <td>249078</td>\n",
       "      <td>Some-college</td>\n",
       "      <td>13</td>\n",
       "      <td>Separated</td>\n",
       "      <td>Adm-clerical</td>\n",
       "      <td>Unmarried</td>\n",
       "      <td>White</td>\n",
       "      <td>Female</td>\n",
       "      <td>99999</td>\n",
       "      <td>0</td>\n",
       "      <td>70</td>\n",
       "      <td>United-States</td>\n",
       "      <td>&lt;=50K</td>\n",
       "    </tr>\n",
       "    <tr>\n",
       "      <th>3</th>\n",
       "      <td>18</td>\n",
       "      <td>Private</td>\n",
       "      <td>256173</td>\n",
       "      <td>9th</td>\n",
       "      <td>9</td>\n",
       "      <td>Divorced</td>\n",
       "      <td>Exec-managerial</td>\n",
       "      <td>Not-in-family</td>\n",
       "      <td>White</td>\n",
       "      <td>Male</td>\n",
       "      <td>0</td>\n",
       "      <td>0</td>\n",
       "      <td>40</td>\n",
       "      <td>United-States</td>\n",
       "      <td>&lt;=50K</td>\n",
       "    </tr>\n",
       "    <tr>\n",
       "      <th>4</th>\n",
       "      <td>38</td>\n",
       "      <td>Self-emp-not-inc</td>\n",
       "      <td>242984</td>\n",
       "      <td>Some-college</td>\n",
       "      <td>13</td>\n",
       "      <td>Married-civ-spouse</td>\n",
       "      <td>Prof-specialty</td>\n",
       "      <td>Husband</td>\n",
       "      <td>White</td>\n",
       "      <td>Male</td>\n",
       "      <td>0</td>\n",
       "      <td>1974</td>\n",
       "      <td>50</td>\n",
       "      <td>United-States</td>\n",
       "      <td>&gt;50K</td>\n",
       "    </tr>\n",
       "  </tbody>\n",
       "</table>\n",
       "</div>"
      ],
      "text/plain": [
       "   age         workclass  fnlwgt     education  education-num      marital-status       occupation   relationship   race     sex  capital-gain  capital-loss  hours-per-week native-country income\n",
       "0   19         State-gov  344804     Bachelors             10            Divorced    Other-service  Not-in-family  White  Female             0             0              72  United-States  <=50K\n",
       "1   24           Private   37314  Some-college             14       Never-married     Craft-repair  Not-in-family  White    Male             0             0              20  United-States  <=50K\n",
       "2   29           Private  249078  Some-college             13           Separated     Adm-clerical      Unmarried  White  Female         99999             0              70  United-States  <=50K\n",
       "3   18           Private  256173           9th              9            Divorced  Exec-managerial  Not-in-family  White    Male             0             0              40  United-States  <=50K\n",
       "4   38  Self-emp-not-inc  242984  Some-college             13  Married-civ-spouse   Prof-specialty        Husband  White    Male             0          1974              50  United-States   >50K"
      ]
     },
     "execution_count": 11,
     "metadata": {},
     "output_type": "execute_result"
    }
   ],
   "source": [
    "df_synth = pd.read_csv('../data/synthetic/adult_pb_1eps.csv')\n",
    "df_synth.head()"
   ]
  },
  {
   "cell_type": "markdown",
   "metadata": {},
   "source": [
    "# Evaluate"
   ]
  },
  {
   "cell_type": "markdown",
   "metadata": {},
   "source": [
    "For evaluating a synthetic dataset to an original, e can run metrics individually by fitting them on the original and synthetic data. \n",
    "\n",
    "Subsequently we can run score and plot (if implemented)."
   ]
  },
  {
   "cell_type": "code",
   "execution_count": 59,
   "metadata": {},
   "outputs": [
    {
     "data": {
      "text/plain": [
       "{'age': 0.10666635610710967,\n",
       " 'workclass': 0.08774993470405375,\n",
       " 'fnlwgt': 0.5838199278590301,\n",
       " 'education': 0.05043840536422243,\n",
       " 'education-num': 0.01842760971623825,\n",
       " 'marital-status': 0.053531842199113916,\n",
       " 'occupation': 0.02623747532811313,\n",
       " 'relationship': 0.004223315441285426,\n",
       " 'race': 0.04557429828403815,\n",
       " 'sex': 0.0011532258871775494,\n",
       " 'capital-gain': 0.15145646613154667,\n",
       " 'capital-loss': 0.1494556585457859,\n",
       " 'hours-per-week': 0.13004526016378382,\n",
       " 'native-country': 0.09782753957213051,\n",
       " 'income': 0.0008627862092529555}"
      ]
     },
     "execution_count": 59,
     "metadata": {},
     "output_type": "execute_result"
    },
    {
     "data": {
      "image/png": "[encoded data removed]",
      "text/plain": [
       "<Figure size 432x288 with 1 Axes>"
      ]
     },
     "metadata": {
      "needs_background": "light"
     },
     "output_type": "display_data"
    }
   ],
   "source": [
    "js_distance_columns = JSDistanceColumns().fit(df_original, df_synth)\n",
    "js_distance_columns.score()\n",
    "js_distance_columns.plot()"
   ]
  },
  {
   "cell_type": "markdown",
   "metadata": {},
   "source": [
    "Or we can fit multiple metrics at the same time using the SyntheticEvaluator."
   ]
  },
  {
   "cell_type": "code",
   "execution_count": 60,
   "metadata": {},
   "outputs": [
    {
     "data": {
      "text/plain": [
       "<synthesis.evaluation.evaluator.SyntheticEvaluator at 0x14d949c3580>"
      ]
     },
     "execution_count": 60,
     "metadata": {},
     "output_type": "execute_result"
    }
   ],
   "source": [
    "synth_eval = SyntheticEvaluator()\n",
    "synth_eval.fit(df_original, df_synth)"
   ]
  },
  {
   "cell_type": "markdown",
   "metadata": {},
   "source": [
    "After fitting you can use the score and plotting functions to see the results."
   ]
  },
  {
   "cell_type": "code",
   "execution_count": 61,
   "metadata": {},
   "outputs": [
    {
     "data": {
      "text/plain": [
       "{'js_distance_columns': {'age': 0.10666635610710967,\n",
       "  'workclass': 0.08774993470405375,\n",
       "  'fnlwgt': 0.5838199278590301,\n",
       "  'education': 0.05043840536422243,\n",
       "  'education-num': 0.01842760971623825,\n",
       "  'marital-status': 0.053531842199113916,\n",
       "  'occupation': 0.02623747532811313,\n",
       "  'relationship': 0.004223315441285426,\n",
       "  'race': 0.04557429828403815,\n",
       "  'sex': 0.0011532258871775494,\n",
       "  'capital-gain': 0.15145646613154667,\n",
       "  'capital-loss': 0.1494556585457859,\n",
       "  'hours-per-week': 0.13004526016378382,\n",
       "  'native-country': 0.09782753957213051,\n",
       "  'income': 0.0008627862092529555},\n",
       " 'js_distance_average': 0.10049800676752546,\n",
       " 'associations': 2.0212790572602137}"
      ]
     },
     "execution_count": 61,
     "metadata": {},
     "output_type": "execute_result"
    }
   ],
   "source": [
    "synth_eval.score()"
   ]
  },
  {
   "cell_type": "code",
   "execution_count": 62,
   "metadata": {},
   "outputs": [
    {
     "data": {
      "image/png": "[encoded data removed]",
      "text/plain": [
       "<Figure size 432x288 with 1 Axes>"
      ]
     },
     "metadata": {
      "needs_background": "light"
     },
     "output_type": "display_data"
    },
    {
     "data": {
      "image/png": "[encoded data removed]",
      "text/plain": [
       "<Figure size 432x288 with 3 Axes>"
      ]
     },
     "metadata": {
      "needs_background": "light"
     },
     "output_type": "display_data"
    }
   ],
   "source": [
    "synth_eval.plot()"
   ]
  },
  {
   "cell_type": "markdown",
   "metadata": {},
   "source": [
    "SyntheticEvaluator uses the following default metrics. "
   ]
  },
  {
   "cell_type": "code",
   "execution_count": 63,
   "metadata": {},
   "outputs": [
    {
     "data": {
      "text/plain": [
       "{'js_distance_columns': <synthesis.evaluation.metrics.JSDistanceColumns at 0x14d93318130>,\n",
       " 'js_distance_average': <synthesis.evaluation.metrics.JSDistanceAverage at 0x14d93318fd0>,\n",
       " 'associations': <synthesis.evaluation.metrics.Associations at 0x14d93318520>}"
      ]
     },
     "execution_count": 63,
     "metadata": {},
     "output_type": "execute_result"
    }
   ],
   "source": [
    "DEFAULT_METRICS"
   ]
  },
  {
   "cell_type": "markdown",
   "metadata": {},
   "source": [
    "You can remove or add additional metrics and specify these at initialisation using a dictionary as seen below.\n",
    "\n",
    "Custom metrics should inherent from synthesis.evaluation._base.BaseMetric and should have at least have a fit and score function (plot is optional)."
   ]
  },
  {
   "cell_type": "code",
   "execution_count": 64,
   "metadata": {},
   "outputs": [],
   "source": [
    "class CustomMetric(BaseMetric):\n",
    "    \"\"\"Example metric that checks whether both dataset have same length\"\"\"\n",
    "\n",
    "    def fit(self, data_original, data_synthetic):\n",
    "        self.stats_original_ = data_original.shape[0]\n",
    "        self.stats_synthetic_ = data_synthetic.shape[0]\n",
    "    \n",
    "    def score(self):\n",
    "        return self.stats_original_ == self.stats_synthetic_\n",
    "    \n",
    "    def plot(self):\n",
    "        pass"
   ]
  },
  {
   "cell_type": "code",
   "execution_count": 65,
   "metadata": {},
   "outputs": [],
   "source": [
    "custom_metrics = {\n",
    "    'same_length': CustomMetric(),\n",
    "    'js_distance_columns': JSDistanceColumns()\n",
    "}"
   ]
  },
  {
   "cell_type": "code",
   "execution_count": 66,
   "metadata": {},
   "outputs": [
    {
     "data": {
      "text/plain": [
       "<synthesis.evaluation.evaluator.SyntheticEvaluator at 0x14d949c3160>"
      ]
     },
     "execution_count": 66,
     "metadata": {},
     "output_type": "execute_result"
    }
   ],
   "source": [
    "se_custom = SyntheticEvaluator(metrics=custom_metrics)\n",
    "se_custom.fit(df_original, df_synth)"
   ]
  },
  {
   "cell_type": "code",
   "execution_count": 67,
   "metadata": {},
   "outputs": [
    {
     "data": {
      "text/plain": [
       "{'same_length': True,\n",
       " 'js_distance_columns': {'age': 0.10666635610710967,\n",
       "  'workclass': 0.08774993470405375,\n",
       "  'fnlwgt': 0.5838199278590301,\n",
       "  'education': 0.05043840536422243,\n",
       "  'education-num': 0.01842760971623825,\n",
       "  'marital-status': 0.053531842199113916,\n",
       "  'occupation': 0.02623747532811313,\n",
       "  'relationship': 0.004223315441285426,\n",
       "  'race': 0.04557429828403815,\n",
       "  'sex': 0.0011532258871775494,\n",
       "  'capital-gain': 0.15145646613154667,\n",
       "  'capital-loss': 0.1494556585457859,\n",
       "  'hours-per-week': 0.13004526016378382,\n",
       "  'native-country': 0.09782753957213051,\n",
       "  'income': 0.0008627862092529555}}"
      ]
     },
     "execution_count": 67,
     "metadata": {},
     "output_type": "execute_result"
    },
    {
     "data": {
      "image/png": "[encoded data removed]",
      "text/plain": [
       "<Figure size 432x288 with 1 Axes>"
      ]
     },
     "metadata": {
      "needs_background": "light"
     },
     "output_type": "display_data"
    }
   ],
   "source": [
    "se_custom.score()\n",
    "se_custom.plot()"
   ]
  },
  {
   "cell_type": "markdown",
   "metadata": {},
   "source": [
    "# Evaluating Efficacy"
   ]
  },
  {
   "cell_type": "markdown",
   "metadata": {},
   "source": [
    "We support also metrics that evaluate the efficacy of synthetic dataset, like machine learning or survival analysis.\n",
    "\n",
    "These can be run standalone. These are currently not supported by the SyntheticEvaluator class (will be adapted later)."
   ]
  },
  {
   "cell_type": "code",
   "execution_count": 72,
   "metadata": {},
   "outputs": [
    {
     "name": "stdout",
     "output_type": "stream",
     "text": [
      "Fitting 5 folds for each of 36 candidates, totalling 180 fits\n",
      "[CV] classifier__criterion=entropy, classifier__max_depth=3, classifier__max_features=sqrt, classifier__n_estimators=100 \n"
     ]
    },
    {
     "name": "stderr",
     "output_type": "stream",
     "text": [
      "[Parallel(n_jobs=1)]: Using backend SequentialBackend with 1 concurrent workers.\n"
     ]
    },
    {
     "name": "stdout",
     "output_type": "stream",
     "text": [
      "[CV]  classifier__criterion=entropy, classifier__max_depth=3, classifier__max_features=sqrt, classifier__n_estimators=100, total=   1.5s\n",
      "[CV] classifier__criterion=entropy, classifier__max_depth=3, classifier__max_features=sqrt, classifier__n_estimators=100 \n"
     ]
    },
    {
     "name": "stderr",
     "output_type": "stream",
     "text": [
      "[Parallel(n_jobs=1)]: Done   1 out of   1 | elapsed:    1.4s remaining:    0.0s\n"
     ]
    },
    {
     "name": "stdout",
     "output_type": "stream",
     "text": [
      "[CV]  classifier__criterion=entropy, classifier__max_depth=3, classifier__max_features=sqrt, classifier__n_estimators=100, total=   1.5s\n",
      "[CV] classifier__criterion=entropy, classifier__max_depth=3, classifier__max_features=sqrt, classifier__n_estimators=100 \n",
      "[CV]  classifier__criterion=entropy, classifier__max_depth=3, classifier__max_features=sqrt, classifier__n_estimators=100, total=   1.2s\n",
      "[CV] classifier__criterion=entropy, classifier__max_depth=3, classifier__max_features=sqrt, classifier__n_estimators=100 \n",
      "[CV]  classifier__criterion=entropy, classifier__max_depth=3, classifier__max_features=sqrt, classifier__n_estimators=100, total=   1.0s\n",
      "[CV] classifier__criterion=entropy, classifier__max_depth=3, classifier__max_features=sqrt, classifier__n_estimators=100 \n",
      "[CV]  classifier__criterion=entropy, classifier__max_depth=3, classifier__max_features=sqrt, classifier__n_estimators=100, total=   1.4s\n",
      "[CV] classifier__criterion=entropy, classifier__max_depth=3, classifier__max_features=sqrt, classifier__n_estimators=150 \n",
      "[CV]  classifier__criterion=entropy, classifier__max_depth=3, classifier__max_features=sqrt, classifier__n_estimators=150, total=   1.9s\n",
      "[CV] classifier__criterion=entropy, classifier__max_depth=3, classifier__max_features=sqrt, classifier__n_estimators=150 \n",
      "[CV]  classifier__criterion=entropy, classifier__max_depth=3, classifier__max_features=sqrt, classifier__n_estimators=150, total=   1.9s\n",
      "[CV] classifier__criterion=entropy, classifier__max_depth=3, classifier__max_features=sqrt, classifier__n_estimators=150 \n",
      "[CV]  classifier__criterion=entropy, classifier__max_depth=3, classifier__max_features=sqrt, classifier__n_estimators=150, total=   1.6s\n",
      "[CV] classifier__criterion=entropy, classifier__max_depth=3, classifier__max_features=sqrt, classifier__n_estimators=150 \n",
      "[CV]  classifier__criterion=entropy, classifier__max_depth=3, classifier__max_features=sqrt, classifier__n_estimators=150, total=   2.3s\n",
      "[CV] classifier__criterion=entropy, classifier__max_depth=3, classifier__max_features=sqrt, classifier__n_estimators=150 \n",
      "[CV]  classifier__criterion=entropy, classifier__max_depth=3, classifier__max_features=sqrt, classifier__n_estimators=150, total=   2.2s\n",
      "[CV] classifier__criterion=entropy, classifier__max_depth=3, classifier__max_features=sqrt, classifier__n_estimators=200 \n",
      "[CV]  classifier__criterion=entropy, classifier__max_depth=3, classifier__max_features=sqrt, classifier__n_estimators=200, total=   2.5s\n",
      "[CV] classifier__criterion=entropy, classifier__max_depth=3, classifier__max_features=sqrt, classifier__n_estimators=200 \n",
      "[CV]  classifier__criterion=entropy, classifier__max_depth=3, classifier__max_features=sqrt, classifier__n_estimators=200, total=   2.7s\n",
      "[CV] classifier__criterion=entropy, classifier__max_depth=3, classifier__max_features=sqrt, classifier__n_estimators=200 \n",
      "[CV]  classifier__criterion=entropy, classifier__max_depth=3, classifier__max_features=sqrt, classifier__n_estimators=200, total=   2.3s\n",
      "[CV] classifier__criterion=entropy, classifier__max_depth=3, classifier__max_features=sqrt, classifier__n_estimators=200 \n",
      "[CV]  classifier__criterion=entropy, classifier__max_depth=3, classifier__max_features=sqrt, classifier__n_estimators=200, total=   2.7s\n",
      "[CV] classifier__criterion=entropy, classifier__max_depth=3, classifier__max_features=sqrt, classifier__n_estimators=200 \n",
      "[CV]  classifier__criterion=entropy, classifier__max_depth=3, classifier__max_features=sqrt, classifier__n_estimators=200, total=   2.1s\n",
      "[CV] classifier__criterion=entropy, classifier__max_depth=3, classifier__max_features=log2, classifier__n_estimators=100 \n",
      "[CV]  classifier__criterion=entropy, classifier__max_depth=3, classifier__max_features=log2, classifier__n_estimators=100, total=   1.2s\n",
      "[CV] classifier__criterion=entropy, classifier__max_depth=3, classifier__max_features=log2, classifier__n_estimators=100 \n",
      "[CV]  classifier__criterion=entropy, classifier__max_depth=3, classifier__max_features=log2, classifier__n_estimators=100, total=   1.0s\n",
      "[CV] classifier__criterion=entropy, classifier__max_depth=3, classifier__max_features=log2, classifier__n_estimators=100 \n",
      "[CV]  classifier__criterion=entropy, classifier__max_depth=3, classifier__max_features=log2, classifier__n_estimators=100, total=   0.9s\n",
      "[CV] classifier__criterion=entropy, classifier__max_depth=3, classifier__max_features=log2, classifier__n_estimators=100 \n",
      "[CV]  classifier__criterion=entropy, classifier__max_depth=3, classifier__max_features=log2, classifier__n_estimators=100, total=   1.2s\n",
      "[CV] classifier__criterion=entropy, classifier__max_depth=3, classifier__max_features=log2, classifier__n_estimators=100 \n",
      "[CV]  classifier__criterion=entropy, classifier__max_depth=3, classifier__max_features=log2, classifier__n_estimators=100, total=   1.1s\n",
      "[CV] classifier__criterion=entropy, classifier__max_depth=3, classifier__max_features=log2, classifier__n_estimators=150 \n",
      "[CV]  classifier__criterion=entropy, classifier__max_depth=3, classifier__max_features=log2, classifier__n_estimators=150, total=   1.2s\n",
      "[CV] classifier__criterion=entropy, classifier__max_depth=3, classifier__max_features=log2, classifier__n_estimators=150 \n",
      "[CV]  classifier__criterion=entropy, classifier__max_depth=3, classifier__max_features=log2, classifier__n_estimators=150, total=   1.3s\n",
      "[CV] classifier__criterion=entropy, classifier__max_depth=3, classifier__max_features=log2, classifier__n_estimators=150 \n",
      "[CV]  classifier__criterion=entropy, classifier__max_depth=3, classifier__max_features=log2, classifier__n_estimators=150, total=   1.3s\n",
      "[CV] classifier__criterion=entropy, classifier__max_depth=3, classifier__max_features=log2, classifier__n_estimators=150 \n",
      "[CV]  classifier__criterion=entropy, classifier__max_depth=3, classifier__max_features=log2, classifier__n_estimators=150, total=   1.5s\n",
      "[CV] classifier__criterion=entropy, classifier__max_depth=3, classifier__max_features=log2, classifier__n_estimators=150 \n",
      "[CV]  classifier__criterion=entropy, classifier__max_depth=3, classifier__max_features=log2, classifier__n_estimators=150, total=   1.3s\n",
      "[CV] classifier__criterion=entropy, classifier__max_depth=3, classifier__max_features=log2, classifier__n_estimators=200 \n",
      "[CV]  classifier__criterion=entropy, classifier__max_depth=3, classifier__max_features=log2, classifier__n_estimators=200, total=   1.6s\n",
      "[CV] classifier__criterion=entropy, classifier__max_depth=3, classifier__max_features=log2, classifier__n_estimators=200 \n",
      "[CV]  classifier__criterion=entropy, classifier__max_depth=3, classifier__max_features=log2, classifier__n_estimators=200, total=   1.8s\n",
      "[CV] classifier__criterion=entropy, classifier__max_depth=3, classifier__max_features=log2, classifier__n_estimators=200 \n",
      "[CV]  classifier__criterion=entropy, classifier__max_depth=3, classifier__max_features=log2, classifier__n_estimators=200, total=   1.6s\n",
      "[CV] classifier__criterion=entropy, classifier__max_depth=3, classifier__max_features=log2, classifier__n_estimators=200 \n",
      "[CV]  classifier__criterion=entropy, classifier__max_depth=3, classifier__max_features=log2, classifier__n_estimators=200, total=   1.8s\n",
      "[CV] classifier__criterion=entropy, classifier__max_depth=3, classifier__max_features=log2, classifier__n_estimators=200 \n",
      "[CV]  classifier__criterion=entropy, classifier__max_depth=3, classifier__max_features=log2, classifier__n_estimators=200, total=   1.6s\n",
      "[CV] classifier__criterion=entropy, classifier__max_depth=5, classifier__max_features=sqrt, classifier__n_estimators=100 \n",
      "[CV]  classifier__criterion=entropy, classifier__max_depth=5, classifier__max_features=sqrt, classifier__n_estimators=100, total=   1.3s\n",
      "[CV] classifier__criterion=entropy, classifier__max_depth=5, classifier__max_features=sqrt, classifier__n_estimators=100 \n",
      "[CV]  classifier__criterion=entropy, classifier__max_depth=5, classifier__max_features=sqrt, classifier__n_estimators=100, total=   1.3s\n",
      "[CV] classifier__criterion=entropy, classifier__max_depth=5, classifier__max_features=sqrt, classifier__n_estimators=100 \n",
      "[CV]  classifier__criterion=entropy, classifier__max_depth=5, classifier__max_features=sqrt, classifier__n_estimators=100, total=   1.2s\n",
      "[CV] classifier__criterion=entropy, classifier__max_depth=5, classifier__max_features=sqrt, classifier__n_estimators=100 \n"
     ]
    },
    {
     "name": "stdout",
     "output_type": "stream",
     "text": [
      "[CV]  classifier__criterion=entropy, classifier__max_depth=5, classifier__max_features=sqrt, classifier__n_estimators=100, total=   1.4s\n",
      "[CV] classifier__criterion=entropy, classifier__max_depth=5, classifier__max_features=sqrt, classifier__n_estimators=100 \n",
      "[CV]  classifier__criterion=entropy, classifier__max_depth=5, classifier__max_features=sqrt, classifier__n_estimators=100, total=   1.5s\n",
      "[CV] classifier__criterion=entropy, classifier__max_depth=5, classifier__max_features=sqrt, classifier__n_estimators=150 \n",
      "[CV]  classifier__criterion=entropy, classifier__max_depth=5, classifier__max_features=sqrt, classifier__n_estimators=150, total=   2.2s\n",
      "[CV] classifier__criterion=entropy, classifier__max_depth=5, classifier__max_features=sqrt, classifier__n_estimators=150 \n",
      "[CV]  classifier__criterion=entropy, classifier__max_depth=5, classifier__max_features=sqrt, classifier__n_estimators=150, total=   2.0s\n",
      "[CV] classifier__criterion=entropy, classifier__max_depth=5, classifier__max_features=sqrt, classifier__n_estimators=150 \n",
      "[CV]  classifier__criterion=entropy, classifier__max_depth=5, classifier__max_features=sqrt, classifier__n_estimators=150, total=   1.8s\n",
      "[CV] classifier__criterion=entropy, classifier__max_depth=5, classifier__max_features=sqrt, classifier__n_estimators=150 \n",
      "[CV]  classifier__criterion=entropy, classifier__max_depth=5, classifier__max_features=sqrt, classifier__n_estimators=150, total=   1.8s\n",
      "[CV] classifier__criterion=entropy, classifier__max_depth=5, classifier__max_features=sqrt, classifier__n_estimators=150 \n",
      "[CV]  classifier__criterion=entropy, classifier__max_depth=5, classifier__max_features=sqrt, classifier__n_estimators=150, total=   1.7s\n",
      "[CV] classifier__criterion=entropy, classifier__max_depth=5, classifier__max_features=sqrt, classifier__n_estimators=200 \n",
      "[CV]  classifier__criterion=entropy, classifier__max_depth=5, classifier__max_features=sqrt, classifier__n_estimators=200, total=   2.1s\n",
      "[CV] classifier__criterion=entropy, classifier__max_depth=5, classifier__max_features=sqrt, classifier__n_estimators=200 \n",
      "[CV]  classifier__criterion=entropy, classifier__max_depth=5, classifier__max_features=sqrt, classifier__n_estimators=200, total=   2.1s\n",
      "[CV] classifier__criterion=entropy, classifier__max_depth=5, classifier__max_features=sqrt, classifier__n_estimators=200 \n",
      "[CV]  classifier__criterion=entropy, classifier__max_depth=5, classifier__max_features=sqrt, classifier__n_estimators=200, total=   2.6s\n",
      "[CV] classifier__criterion=entropy, classifier__max_depth=5, classifier__max_features=sqrt, classifier__n_estimators=200 \n",
      "[CV]  classifier__criterion=entropy, classifier__max_depth=5, classifier__max_features=sqrt, classifier__n_estimators=200, total=   2.8s\n",
      "[CV] classifier__criterion=entropy, classifier__max_depth=5, classifier__max_features=sqrt, classifier__n_estimators=200 \n",
      "[CV]  classifier__criterion=entropy, classifier__max_depth=5, classifier__max_features=sqrt, classifier__n_estimators=200, total=   2.5s\n",
      "[CV] classifier__criterion=entropy, classifier__max_depth=5, classifier__max_features=log2, classifier__n_estimators=100 \n",
      "[CV]  classifier__criterion=entropy, classifier__max_depth=5, classifier__max_features=log2, classifier__n_estimators=100, total=   1.1s\n",
      "[CV] classifier__criterion=entropy, classifier__max_depth=5, classifier__max_features=log2, classifier__n_estimators=100 \n",
      "[CV]  classifier__criterion=entropy, classifier__max_depth=5, classifier__max_features=log2, classifier__n_estimators=100, total=   0.9s\n",
      "[CV] classifier__criterion=entropy, classifier__max_depth=5, classifier__max_features=log2, classifier__n_estimators=100 \n",
      "[CV]  classifier__criterion=entropy, classifier__max_depth=5, classifier__max_features=log2, classifier__n_estimators=100, total=   1.0s\n",
      "[CV] classifier__criterion=entropy, classifier__max_depth=5, classifier__max_features=log2, classifier__n_estimators=100 \n",
      "[CV]  classifier__criterion=entropy, classifier__max_depth=5, classifier__max_features=log2, classifier__n_estimators=100, total=   0.9s\n",
      "[CV] classifier__criterion=entropy, classifier__max_depth=5, classifier__max_features=log2, classifier__n_estimators=100 \n",
      "[CV]  classifier__criterion=entropy, classifier__max_depth=5, classifier__max_features=log2, classifier__n_estimators=100, total=   0.9s\n",
      "[CV] classifier__criterion=entropy, classifier__max_depth=5, classifier__max_features=log2, classifier__n_estimators=150 \n",
      "[CV]  classifier__criterion=entropy, classifier__max_depth=5, classifier__max_features=log2, classifier__n_estimators=150, total=   1.3s\n",
      "[CV] classifier__criterion=entropy, classifier__max_depth=5, classifier__max_features=log2, classifier__n_estimators=150 \n",
      "[CV]  classifier__criterion=entropy, classifier__max_depth=5, classifier__max_features=log2, classifier__n_estimators=150, total=   1.3s\n",
      "[CV] classifier__criterion=entropy, classifier__max_depth=5, classifier__max_features=log2, classifier__n_estimators=150 \n",
      "[CV]  classifier__criterion=entropy, classifier__max_depth=5, classifier__max_features=log2, classifier__n_estimators=150, total=   1.4s\n",
      "[CV] classifier__criterion=entropy, classifier__max_depth=5, classifier__max_features=log2, classifier__n_estimators=150 \n",
      "[CV]  classifier__criterion=entropy, classifier__max_depth=5, classifier__max_features=log2, classifier__n_estimators=150, total=   1.3s\n",
      "[CV] classifier__criterion=entropy, classifier__max_depth=5, classifier__max_features=log2, classifier__n_estimators=150 \n",
      "[CV]  classifier__criterion=entropy, classifier__max_depth=5, classifier__max_features=log2, classifier__n_estimators=150, total=   1.3s\n",
      "[CV] classifier__criterion=entropy, classifier__max_depth=5, classifier__max_features=log2, classifier__n_estimators=200 \n",
      "[CV]  classifier__criterion=entropy, classifier__max_depth=5, classifier__max_features=log2, classifier__n_estimators=200, total=   2.0s\n",
      "[CV] classifier__criterion=entropy, classifier__max_depth=5, classifier__max_features=log2, classifier__n_estimators=200 \n",
      "[CV]  classifier__criterion=entropy, classifier__max_depth=5, classifier__max_features=log2, classifier__n_estimators=200, total=   1.7s\n",
      "[CV] classifier__criterion=entropy, classifier__max_depth=5, classifier__max_features=log2, classifier__n_estimators=200 \n",
      "[CV]  classifier__criterion=entropy, classifier__max_depth=5, classifier__max_features=log2, classifier__n_estimators=200, total=   1.7s\n",
      "[CV] classifier__criterion=entropy, classifier__max_depth=5, classifier__max_features=log2, classifier__n_estimators=200 \n",
      "[CV]  classifier__criterion=entropy, classifier__max_depth=5, classifier__max_features=log2, classifier__n_estimators=200, total=   1.8s\n",
      "[CV] classifier__criterion=entropy, classifier__max_depth=5, classifier__max_features=log2, classifier__n_estimators=200 \n",
      "[CV]  classifier__criterion=entropy, classifier__max_depth=5, classifier__max_features=log2, classifier__n_estimators=200, total=   1.8s\n",
      "[CV] classifier__criterion=entropy, classifier__max_depth=10, classifier__max_features=sqrt, classifier__n_estimators=100 \n",
      "[CV]  classifier__criterion=entropy, classifier__max_depth=10, classifier__max_features=sqrt, classifier__n_estimators=100, total=   1.2s\n",
      "[CV] classifier__criterion=entropy, classifier__max_depth=10, classifier__max_features=sqrt, classifier__n_estimators=100 \n",
      "[CV]  classifier__criterion=entropy, classifier__max_depth=10, classifier__max_features=sqrt, classifier__n_estimators=100, total=   1.2s\n",
      "[CV] classifier__criterion=entropy, classifier__max_depth=10, classifier__max_features=sqrt, classifier__n_estimators=100 \n",
      "[CV]  classifier__criterion=entropy, classifier__max_depth=10, classifier__max_features=sqrt, classifier__n_estimators=100, total=   1.1s\n",
      "[CV] classifier__criterion=entropy, classifier__max_depth=10, classifier__max_features=sqrt, classifier__n_estimators=100 \n",
      "[CV]  classifier__criterion=entropy, classifier__max_depth=10, classifier__max_features=sqrt, classifier__n_estimators=100, total=   1.4s\n",
      "[CV] classifier__criterion=entropy, classifier__max_depth=10, classifier__max_features=sqrt, classifier__n_estimators=100 \n",
      "[CV]  classifier__criterion=entropy, classifier__max_depth=10, classifier__max_features=sqrt, classifier__n_estimators=100, total=   1.3s\n",
      "[CV] classifier__criterion=entropy, classifier__max_depth=10, classifier__max_features=sqrt, classifier__n_estimators=150 \n"
     ]
    },
    {
     "name": "stdout",
     "output_type": "stream",
     "text": [
      "[CV]  classifier__criterion=entropy, classifier__max_depth=10, classifier__max_features=sqrt, classifier__n_estimators=150, total=   1.8s\n",
      "[CV] classifier__criterion=entropy, classifier__max_depth=10, classifier__max_features=sqrt, classifier__n_estimators=150 \n",
      "[CV]  classifier__criterion=entropy, classifier__max_depth=10, classifier__max_features=sqrt, classifier__n_estimators=150, total=   1.7s\n",
      "[CV] classifier__criterion=entropy, classifier__max_depth=10, classifier__max_features=sqrt, classifier__n_estimators=150 \n",
      "[CV]  classifier__criterion=entropy, classifier__max_depth=10, classifier__max_features=sqrt, classifier__n_estimators=150, total=   1.7s\n",
      "[CV] classifier__criterion=entropy, classifier__max_depth=10, classifier__max_features=sqrt, classifier__n_estimators=150 \n",
      "[CV]  classifier__criterion=entropy, classifier__max_depth=10, classifier__max_features=sqrt, classifier__n_estimators=150, total=   1.9s\n",
      "[CV] classifier__criterion=entropy, classifier__max_depth=10, classifier__max_features=sqrt, classifier__n_estimators=150 \n",
      "[CV]  classifier__criterion=entropy, classifier__max_depth=10, classifier__max_features=sqrt, classifier__n_estimators=150, total=   1.7s\n",
      "[CV] classifier__criterion=entropy, classifier__max_depth=10, classifier__max_features=sqrt, classifier__n_estimators=200 \n",
      "[CV]  classifier__criterion=entropy, classifier__max_depth=10, classifier__max_features=sqrt, classifier__n_estimators=200, total=   2.6s\n",
      "[CV] classifier__criterion=entropy, classifier__max_depth=10, classifier__max_features=sqrt, classifier__n_estimators=200 \n",
      "[CV]  classifier__criterion=entropy, classifier__max_depth=10, classifier__max_features=sqrt, classifier__n_estimators=200, total=   2.5s\n",
      "[CV] classifier__criterion=entropy, classifier__max_depth=10, classifier__max_features=sqrt, classifier__n_estimators=200 \n",
      "[CV]  classifier__criterion=entropy, classifier__max_depth=10, classifier__max_features=sqrt, classifier__n_estimators=200, total=   2.4s\n",
      "[CV] classifier__criterion=entropy, classifier__max_depth=10, classifier__max_features=sqrt, classifier__n_estimators=200 \n",
      "[CV]  classifier__criterion=entropy, classifier__max_depth=10, classifier__max_features=sqrt, classifier__n_estimators=200, total=   2.3s\n",
      "[CV] classifier__criterion=entropy, classifier__max_depth=10, classifier__max_features=sqrt, classifier__n_estimators=200 \n",
      "[CV]  classifier__criterion=entropy, classifier__max_depth=10, classifier__max_features=sqrt, classifier__n_estimators=200, total=   2.5s\n",
      "[CV] classifier__criterion=entropy, classifier__max_depth=10, classifier__max_features=log2, classifier__n_estimators=100 \n",
      "[CV]  classifier__criterion=entropy, classifier__max_depth=10, classifier__max_features=log2, classifier__n_estimators=100, total=   1.0s\n",
      "[CV] classifier__criterion=entropy, classifier__max_depth=10, classifier__max_features=log2, classifier__n_estimators=100 \n",
      "[CV]  classifier__criterion=entropy, classifier__max_depth=10, classifier__max_features=log2, classifier__n_estimators=100, total=   1.0s\n",
      "[CV] classifier__criterion=entropy, classifier__max_depth=10, classifier__max_features=log2, classifier__n_estimators=100 \n",
      "[CV]  classifier__criterion=entropy, classifier__max_depth=10, classifier__max_features=log2, classifier__n_estimators=100, total=   1.1s\n",
      "[CV] classifier__criterion=entropy, classifier__max_depth=10, classifier__max_features=log2, classifier__n_estimators=100 \n",
      "[CV]  classifier__criterion=entropy, classifier__max_depth=10, classifier__max_features=log2, classifier__n_estimators=100, total=   0.9s\n",
      "[CV] classifier__criterion=entropy, classifier__max_depth=10, classifier__max_features=log2, classifier__n_estimators=100 \n",
      "[CV]  classifier__criterion=entropy, classifier__max_depth=10, classifier__max_features=log2, classifier__n_estimators=100, total=   1.2s\n",
      "[CV] classifier__criterion=entropy, classifier__max_depth=10, classifier__max_features=log2, classifier__n_estimators=150 \n",
      "[CV]  classifier__criterion=entropy, classifier__max_depth=10, classifier__max_features=log2, classifier__n_estimators=150, total=   1.2s\n",
      "[CV] classifier__criterion=entropy, classifier__max_depth=10, classifier__max_features=log2, classifier__n_estimators=150 \n",
      "[CV]  classifier__criterion=entropy, classifier__max_depth=10, classifier__max_features=log2, classifier__n_estimators=150, total=   1.6s\n",
      "[CV] classifier__criterion=entropy, classifier__max_depth=10, classifier__max_features=log2, classifier__n_estimators=150 \n",
      "[CV]  classifier__criterion=entropy, classifier__max_depth=10, classifier__max_features=log2, classifier__n_estimators=150, total=   1.3s\n",
      "[CV] classifier__criterion=entropy, classifier__max_depth=10, classifier__max_features=log2, classifier__n_estimators=150 \n",
      "[CV]  classifier__criterion=entropy, classifier__max_depth=10, classifier__max_features=log2, classifier__n_estimators=150, total=   1.5s\n",
      "[CV] classifier__criterion=entropy, classifier__max_depth=10, classifier__max_features=log2, classifier__n_estimators=150 \n",
      "[CV]  classifier__criterion=entropy, classifier__max_depth=10, classifier__max_features=log2, classifier__n_estimators=150, total=   1.3s\n",
      "[CV] classifier__criterion=entropy, classifier__max_depth=10, classifier__max_features=log2, classifier__n_estimators=200 \n",
      "[CV]  classifier__criterion=entropy, classifier__max_depth=10, classifier__max_features=log2, classifier__n_estimators=200, total=   1.9s\n",
      "[CV] classifier__criterion=entropy, classifier__max_depth=10, classifier__max_features=log2, classifier__n_estimators=200 \n",
      "[CV]  classifier__criterion=entropy, classifier__max_depth=10, classifier__max_features=log2, classifier__n_estimators=200, total=   1.9s\n",
      "[CV] classifier__criterion=entropy, classifier__max_depth=10, classifier__max_features=log2, classifier__n_estimators=200 \n",
      "[CV]  classifier__criterion=entropy, classifier__max_depth=10, classifier__max_features=log2, classifier__n_estimators=200, total=   1.5s\n",
      "[CV] classifier__criterion=entropy, classifier__max_depth=10, classifier__max_features=log2, classifier__n_estimators=200 \n",
      "[CV]  classifier__criterion=entropy, classifier__max_depth=10, classifier__max_features=log2, classifier__n_estimators=200, total=   1.7s\n",
      "[CV] classifier__criterion=entropy, classifier__max_depth=10, classifier__max_features=log2, classifier__n_estimators=200 \n",
      "[CV]  classifier__criterion=entropy, classifier__max_depth=10, classifier__max_features=log2, classifier__n_estimators=200, total=   2.0s\n",
      "[CV] classifier__criterion=gini, classifier__max_depth=3, classifier__max_features=sqrt, classifier__n_estimators=100 \n",
      "[CV]  classifier__criterion=gini, classifier__max_depth=3, classifier__max_features=sqrt, classifier__n_estimators=100, total=   0.9s\n",
      "[CV] classifier__criterion=gini, classifier__max_depth=3, classifier__max_features=sqrt, classifier__n_estimators=100 \n",
      "[CV]  classifier__criterion=gini, classifier__max_depth=3, classifier__max_features=sqrt, classifier__n_estimators=100, total=   1.2s\n",
      "[CV] classifier__criterion=gini, classifier__max_depth=3, classifier__max_features=sqrt, classifier__n_estimators=100 \n",
      "[CV]  classifier__criterion=gini, classifier__max_depth=3, classifier__max_features=sqrt, classifier__n_estimators=100, total=   1.3s\n",
      "[CV] classifier__criterion=gini, classifier__max_depth=3, classifier__max_features=sqrt, classifier__n_estimators=100 \n",
      "[CV]  classifier__criterion=gini, classifier__max_depth=3, classifier__max_features=sqrt, classifier__n_estimators=100, total=   1.0s\n",
      "[CV] classifier__criterion=gini, classifier__max_depth=3, classifier__max_features=sqrt, classifier__n_estimators=100 \n",
      "[CV]  classifier__criterion=gini, classifier__max_depth=3, classifier__max_features=sqrt, classifier__n_estimators=100, total=   1.1s\n",
      "[CV] classifier__criterion=gini, classifier__max_depth=3, classifier__max_features=sqrt, classifier__n_estimators=150 \n",
      "[CV]  classifier__criterion=gini, classifier__max_depth=3, classifier__max_features=sqrt, classifier__n_estimators=150, total=   1.6s\n",
      "[CV] classifier__criterion=gini, classifier__max_depth=3, classifier__max_features=sqrt, classifier__n_estimators=150 \n",
      "[CV]  classifier__criterion=gini, classifier__max_depth=3, classifier__max_features=sqrt, classifier__n_estimators=150, total=   1.5s\n",
      "[CV] classifier__criterion=gini, classifier__max_depth=3, classifier__max_features=sqrt, classifier__n_estimators=150 \n"
     ]
    },
    {
     "name": "stdout",
     "output_type": "stream",
     "text": [
      "[CV]  classifier__criterion=gini, classifier__max_depth=3, classifier__max_features=sqrt, classifier__n_estimators=150, total=   1.4s\n",
      "[CV] classifier__criterion=gini, classifier__max_depth=3, classifier__max_features=sqrt, classifier__n_estimators=150 \n",
      "[CV]  classifier__criterion=gini, classifier__max_depth=3, classifier__max_features=sqrt, classifier__n_estimators=150, total=   1.7s\n",
      "[CV] classifier__criterion=gini, classifier__max_depth=3, classifier__max_features=sqrt, classifier__n_estimators=150 \n",
      "[CV]  classifier__criterion=gini, classifier__max_depth=3, classifier__max_features=sqrt, classifier__n_estimators=150, total=   1.6s\n",
      "[CV] classifier__criterion=gini, classifier__max_depth=3, classifier__max_features=sqrt, classifier__n_estimators=200 \n",
      "[CV]  classifier__criterion=gini, classifier__max_depth=3, classifier__max_features=sqrt, classifier__n_estimators=200, total=   2.0s\n",
      "[CV] classifier__criterion=gini, classifier__max_depth=3, classifier__max_features=sqrt, classifier__n_estimators=200 \n",
      "[CV]  classifier__criterion=gini, classifier__max_depth=3, classifier__max_features=sqrt, classifier__n_estimators=200, total=   2.0s\n",
      "[CV] classifier__criterion=gini, classifier__max_depth=3, classifier__max_features=sqrt, classifier__n_estimators=200 \n",
      "[CV]  classifier__criterion=gini, classifier__max_depth=3, classifier__max_features=sqrt, classifier__n_estimators=200, total=   1.9s\n",
      "[CV] classifier__criterion=gini, classifier__max_depth=3, classifier__max_features=sqrt, classifier__n_estimators=200 \n",
      "[CV]  classifier__criterion=gini, classifier__max_depth=3, classifier__max_features=sqrt, classifier__n_estimators=200, total=   1.9s\n",
      "[CV] classifier__criterion=gini, classifier__max_depth=3, classifier__max_features=sqrt, classifier__n_estimators=200 \n",
      "[CV]  classifier__criterion=gini, classifier__max_depth=3, classifier__max_features=sqrt, classifier__n_estimators=200, total=   2.0s\n",
      "[CV] classifier__criterion=gini, classifier__max_depth=3, classifier__max_features=log2, classifier__n_estimators=100 \n",
      "[CV]  classifier__criterion=gini, classifier__max_depth=3, classifier__max_features=log2, classifier__n_estimators=100, total=   0.9s\n",
      "[CV] classifier__criterion=gini, classifier__max_depth=3, classifier__max_features=log2, classifier__n_estimators=100 \n",
      "[CV]  classifier__criterion=gini, classifier__max_depth=3, classifier__max_features=log2, classifier__n_estimators=100, total=   1.1s\n",
      "[CV] classifier__criterion=gini, classifier__max_depth=3, classifier__max_features=log2, classifier__n_estimators=100 \n",
      "[CV]  classifier__criterion=gini, classifier__max_depth=3, classifier__max_features=log2, classifier__n_estimators=100, total=   1.0s\n",
      "[CV] classifier__criterion=gini, classifier__max_depth=3, classifier__max_features=log2, classifier__n_estimators=100 \n",
      "[CV]  classifier__criterion=gini, classifier__max_depth=3, classifier__max_features=log2, classifier__n_estimators=100, total=   0.9s\n",
      "[CV] classifier__criterion=gini, classifier__max_depth=3, classifier__max_features=log2, classifier__n_estimators=100 \n",
      "[CV]  classifier__criterion=gini, classifier__max_depth=3, classifier__max_features=log2, classifier__n_estimators=100, total=   0.9s\n",
      "[CV] classifier__criterion=gini, classifier__max_depth=3, classifier__max_features=log2, classifier__n_estimators=150 \n",
      "[CV]  classifier__criterion=gini, classifier__max_depth=3, classifier__max_features=log2, classifier__n_estimators=150, total=   1.1s\n",
      "[CV] classifier__criterion=gini, classifier__max_depth=3, classifier__max_features=log2, classifier__n_estimators=150 \n",
      "[CV]  classifier__criterion=gini, classifier__max_depth=3, classifier__max_features=log2, classifier__n_estimators=150, total=   1.2s\n",
      "[CV] classifier__criterion=gini, classifier__max_depth=3, classifier__max_features=log2, classifier__n_estimators=150 \n",
      "[CV]  classifier__criterion=gini, classifier__max_depth=3, classifier__max_features=log2, classifier__n_estimators=150, total=   1.3s\n",
      "[CV] classifier__criterion=gini, classifier__max_depth=3, classifier__max_features=log2, classifier__n_estimators=150 \n",
      "[CV]  classifier__criterion=gini, classifier__max_depth=3, classifier__max_features=log2, classifier__n_estimators=150, total=   1.5s\n",
      "[CV] classifier__criterion=gini, classifier__max_depth=3, classifier__max_features=log2, classifier__n_estimators=150 \n",
      "[CV]  classifier__criterion=gini, classifier__max_depth=3, classifier__max_features=log2, classifier__n_estimators=150, total=   1.5s\n",
      "[CV] classifier__criterion=gini, classifier__max_depth=3, classifier__max_features=log2, classifier__n_estimators=200 \n",
      "[CV]  classifier__criterion=gini, classifier__max_depth=3, classifier__max_features=log2, classifier__n_estimators=200, total=   1.7s\n",
      "[CV] classifier__criterion=gini, classifier__max_depth=3, classifier__max_features=log2, classifier__n_estimators=200 \n",
      "[CV]  classifier__criterion=gini, classifier__max_depth=3, classifier__max_features=log2, classifier__n_estimators=200, total=   2.0s\n",
      "[CV] classifier__criterion=gini, classifier__max_depth=3, classifier__max_features=log2, classifier__n_estimators=200 \n",
      "[CV]  classifier__criterion=gini, classifier__max_depth=3, classifier__max_features=log2, classifier__n_estimators=200, total=   2.2s\n",
      "[CV] classifier__criterion=gini, classifier__max_depth=3, classifier__max_features=log2, classifier__n_estimators=200 \n",
      "[CV]  classifier__criterion=gini, classifier__max_depth=3, classifier__max_features=log2, classifier__n_estimators=200, total=   2.1s\n",
      "[CV] classifier__criterion=gini, classifier__max_depth=3, classifier__max_features=log2, classifier__n_estimators=200 \n",
      "[CV]  classifier__criterion=gini, classifier__max_depth=3, classifier__max_features=log2, classifier__n_estimators=200, total=   1.8s\n",
      "[CV] classifier__criterion=gini, classifier__max_depth=5, classifier__max_features=sqrt, classifier__n_estimators=100 \n",
      "[CV]  classifier__criterion=gini, classifier__max_depth=5, classifier__max_features=sqrt, classifier__n_estimators=100, total=   1.3s\n",
      "[CV] classifier__criterion=gini, classifier__max_depth=5, classifier__max_features=sqrt, classifier__n_estimators=100 \n",
      "[CV]  classifier__criterion=gini, classifier__max_depth=5, classifier__max_features=sqrt, classifier__n_estimators=100, total=   1.3s\n",
      "[CV] classifier__criterion=gini, classifier__max_depth=5, classifier__max_features=sqrt, classifier__n_estimators=100 \n",
      "[CV]  classifier__criterion=gini, classifier__max_depth=5, classifier__max_features=sqrt, classifier__n_estimators=100, total=   1.2s\n",
      "[CV] classifier__criterion=gini, classifier__max_depth=5, classifier__max_features=sqrt, classifier__n_estimators=100 \n",
      "[CV]  classifier__criterion=gini, classifier__max_depth=5, classifier__max_features=sqrt, classifier__n_estimators=100, total=   1.3s\n",
      "[CV] classifier__criterion=gini, classifier__max_depth=5, classifier__max_features=sqrt, classifier__n_estimators=100 \n",
      "[CV]  classifier__criterion=gini, classifier__max_depth=5, classifier__max_features=sqrt, classifier__n_estimators=100, total=   1.3s\n",
      "[CV] classifier__criterion=gini, classifier__max_depth=5, classifier__max_features=sqrt, classifier__n_estimators=150 \n",
      "[CV]  classifier__criterion=gini, classifier__max_depth=5, classifier__max_features=sqrt, classifier__n_estimators=150, total=   1.9s\n",
      "[CV] classifier__criterion=gini, classifier__max_depth=5, classifier__max_features=sqrt, classifier__n_estimators=150 \n",
      "[CV]  classifier__criterion=gini, classifier__max_depth=5, classifier__max_features=sqrt, classifier__n_estimators=150, total=   1.6s\n",
      "[CV] classifier__criterion=gini, classifier__max_depth=5, classifier__max_features=sqrt, classifier__n_estimators=150 \n",
      "[CV]  classifier__criterion=gini, classifier__max_depth=5, classifier__max_features=sqrt, classifier__n_estimators=150, total=   1.6s\n",
      "[CV] classifier__criterion=gini, classifier__max_depth=5, classifier__max_features=sqrt, classifier__n_estimators=150 \n",
      "[CV]  classifier__criterion=gini, classifier__max_depth=5, classifier__max_features=sqrt, classifier__n_estimators=150, total=   1.6s\n",
      "[CV] classifier__criterion=gini, classifier__max_depth=5, classifier__max_features=sqrt, classifier__n_estimators=150 \n",
      "[CV]  classifier__criterion=gini, classifier__max_depth=5, classifier__max_features=sqrt, classifier__n_estimators=150, total=   1.7s\n",
      "[CV] classifier__criterion=gini, classifier__max_depth=5, classifier__max_features=sqrt, classifier__n_estimators=200 \n"
     ]
    },
    {
     "name": "stdout",
     "output_type": "stream",
     "text": [
      "[CV]  classifier__criterion=gini, classifier__max_depth=5, classifier__max_features=sqrt, classifier__n_estimators=200, total=   1.9s\n",
      "[CV] classifier__criterion=gini, classifier__max_depth=5, classifier__max_features=sqrt, classifier__n_estimators=200 \n",
      "[CV]  classifier__criterion=gini, classifier__max_depth=5, classifier__max_features=sqrt, classifier__n_estimators=200, total=   2.3s\n",
      "[CV] classifier__criterion=gini, classifier__max_depth=5, classifier__max_features=sqrt, classifier__n_estimators=200 \n",
      "[CV]  classifier__criterion=gini, classifier__max_depth=5, classifier__max_features=sqrt, classifier__n_estimators=200, total=   2.3s\n",
      "[CV] classifier__criterion=gini, classifier__max_depth=5, classifier__max_features=sqrt, classifier__n_estimators=200 \n",
      "[CV]  classifier__criterion=gini, classifier__max_depth=5, classifier__max_features=sqrt, classifier__n_estimators=200, total=   2.4s\n",
      "[CV] classifier__criterion=gini, classifier__max_depth=5, classifier__max_features=sqrt, classifier__n_estimators=200 \n",
      "[CV]  classifier__criterion=gini, classifier__max_depth=5, classifier__max_features=sqrt, classifier__n_estimators=200, total=   2.4s\n",
      "[CV] classifier__criterion=gini, classifier__max_depth=5, classifier__max_features=log2, classifier__n_estimators=100 \n",
      "[CV]  classifier__criterion=gini, classifier__max_depth=5, classifier__max_features=log2, classifier__n_estimators=100, total=   1.1s\n",
      "[CV] classifier__criterion=gini, classifier__max_depth=5, classifier__max_features=log2, classifier__n_estimators=100 \n",
      "[CV]  classifier__criterion=gini, classifier__max_depth=5, classifier__max_features=log2, classifier__n_estimators=100, total=   1.0s\n",
      "[CV] classifier__criterion=gini, classifier__max_depth=5, classifier__max_features=log2, classifier__n_estimators=100 \n",
      "[CV]  classifier__criterion=gini, classifier__max_depth=5, classifier__max_features=log2, classifier__n_estimators=100, total=   1.0s\n",
      "[CV] classifier__criterion=gini, classifier__max_depth=5, classifier__max_features=log2, classifier__n_estimators=100 \n",
      "[CV]  classifier__criterion=gini, classifier__max_depth=5, classifier__max_features=log2, classifier__n_estimators=100, total=   1.2s\n",
      "[CV] classifier__criterion=gini, classifier__max_depth=5, classifier__max_features=log2, classifier__n_estimators=100 \n",
      "[CV]  classifier__criterion=gini, classifier__max_depth=5, classifier__max_features=log2, classifier__n_estimators=100, total=   1.2s\n",
      "[CV] classifier__criterion=gini, classifier__max_depth=5, classifier__max_features=log2, classifier__n_estimators=150 \n",
      "[CV]  classifier__criterion=gini, classifier__max_depth=5, classifier__max_features=log2, classifier__n_estimators=150, total=   1.5s\n",
      "[CV] classifier__criterion=gini, classifier__max_depth=5, classifier__max_features=log2, classifier__n_estimators=150 \n",
      "[CV]  classifier__criterion=gini, classifier__max_depth=5, classifier__max_features=log2, classifier__n_estimators=150, total=   1.4s\n",
      "[CV] classifier__criterion=gini, classifier__max_depth=5, classifier__max_features=log2, classifier__n_estimators=150 \n",
      "[CV]  classifier__criterion=gini, classifier__max_depth=5, classifier__max_features=log2, classifier__n_estimators=150, total=   1.2s\n",
      "[CV] classifier__criterion=gini, classifier__max_depth=5, classifier__max_features=log2, classifier__n_estimators=150 \n",
      "[CV]  classifier__criterion=gini, classifier__max_depth=5, classifier__max_features=log2, classifier__n_estimators=150, total=   1.3s\n",
      "[CV] classifier__criterion=gini, classifier__max_depth=5, classifier__max_features=log2, classifier__n_estimators=150 \n",
      "[CV]  classifier__criterion=gini, classifier__max_depth=5, classifier__max_features=log2, classifier__n_estimators=150, total=   1.3s\n",
      "[CV] classifier__criterion=gini, classifier__max_depth=5, classifier__max_features=log2, classifier__n_estimators=200 \n",
      "[CV]  classifier__criterion=gini, classifier__max_depth=5, classifier__max_features=log2, classifier__n_estimators=200, total=   1.8s\n",
      "[CV] classifier__criterion=gini, classifier__max_depth=5, classifier__max_features=log2, classifier__n_estimators=200 \n",
      "[CV]  classifier__criterion=gini, classifier__max_depth=5, classifier__max_features=log2, classifier__n_estimators=200, total=   1.8s\n",
      "[CV] classifier__criterion=gini, classifier__max_depth=5, classifier__max_features=log2, classifier__n_estimators=200 \n",
      "[CV]  classifier__criterion=gini, classifier__max_depth=5, classifier__max_features=log2, classifier__n_estimators=200, total=   1.9s\n",
      "[CV] classifier__criterion=gini, classifier__max_depth=5, classifier__max_features=log2, classifier__n_estimators=200 \n",
      "[CV]  classifier__criterion=gini, classifier__max_depth=5, classifier__max_features=log2, classifier__n_estimators=200, total=   1.8s\n",
      "[CV] classifier__criterion=gini, classifier__max_depth=5, classifier__max_features=log2, classifier__n_estimators=200 \n",
      "[CV]  classifier__criterion=gini, classifier__max_depth=5, classifier__max_features=log2, classifier__n_estimators=200, total=   1.7s\n",
      "[CV] classifier__criterion=gini, classifier__max_depth=10, classifier__max_features=sqrt, classifier__n_estimators=100 \n",
      "[CV]  classifier__criterion=gini, classifier__max_depth=10, classifier__max_features=sqrt, classifier__n_estimators=100, total=   1.2s\n",
      "[CV] classifier__criterion=gini, classifier__max_depth=10, classifier__max_features=sqrt, classifier__n_estimators=100 \n",
      "[CV]  classifier__criterion=gini, classifier__max_depth=10, classifier__max_features=sqrt, classifier__n_estimators=100, total=   1.2s\n",
      "[CV] classifier__criterion=gini, classifier__max_depth=10, classifier__max_features=sqrt, classifier__n_estimators=100 \n",
      "[CV]  classifier__criterion=gini, classifier__max_depth=10, classifier__max_features=sqrt, classifier__n_estimators=100, total=   1.1s\n",
      "[CV] classifier__criterion=gini, classifier__max_depth=10, classifier__max_features=sqrt, classifier__n_estimators=100 \n",
      "[CV]  classifier__criterion=gini, classifier__max_depth=10, classifier__max_features=sqrt, classifier__n_estimators=100, total=   1.2s\n",
      "[CV] classifier__criterion=gini, classifier__max_depth=10, classifier__max_features=sqrt, classifier__n_estimators=100 \n",
      "[CV]  classifier__criterion=gini, classifier__max_depth=10, classifier__max_features=sqrt, classifier__n_estimators=100, total=   1.3s\n",
      "[CV] classifier__criterion=gini, classifier__max_depth=10, classifier__max_features=sqrt, classifier__n_estimators=150 \n",
      "[CV]  classifier__criterion=gini, classifier__max_depth=10, classifier__max_features=sqrt, classifier__n_estimators=150, total=   1.9s\n",
      "[CV] classifier__criterion=gini, classifier__max_depth=10, classifier__max_features=sqrt, classifier__n_estimators=150 \n",
      "[CV]  classifier__criterion=gini, classifier__max_depth=10, classifier__max_features=sqrt, classifier__n_estimators=150, total=   1.9s\n",
      "[CV] classifier__criterion=gini, classifier__max_depth=10, classifier__max_features=sqrt, classifier__n_estimators=150 \n",
      "[CV]  classifier__criterion=gini, classifier__max_depth=10, classifier__max_features=sqrt, classifier__n_estimators=150, total=   1.8s\n",
      "[CV] classifier__criterion=gini, classifier__max_depth=10, classifier__max_features=sqrt, classifier__n_estimators=150 \n",
      "[CV]  classifier__criterion=gini, classifier__max_depth=10, classifier__max_features=sqrt, classifier__n_estimators=150, total=   1.7s\n",
      "[CV] classifier__criterion=gini, classifier__max_depth=10, classifier__max_features=sqrt, classifier__n_estimators=150 \n",
      "[CV]  classifier__criterion=gini, classifier__max_depth=10, classifier__max_features=sqrt, classifier__n_estimators=150, total=   1.7s\n",
      "[CV] classifier__criterion=gini, classifier__max_depth=10, classifier__max_features=sqrt, classifier__n_estimators=200 \n",
      "[CV]  classifier__criterion=gini, classifier__max_depth=10, classifier__max_features=sqrt, classifier__n_estimators=200, total=   2.6s\n",
      "[CV] classifier__criterion=gini, classifier__max_depth=10, classifier__max_features=sqrt, classifier__n_estimators=200 \n",
      "[CV]  classifier__criterion=gini, classifier__max_depth=10, classifier__max_features=sqrt, classifier__n_estimators=200, total=   2.4s\n",
      "[CV] classifier__criterion=gini, classifier__max_depth=10, classifier__max_features=sqrt, classifier__n_estimators=200 \n",
      "[CV]  classifier__criterion=gini, classifier__max_depth=10, classifier__max_features=sqrt, classifier__n_estimators=200, total=   2.2s\n",
      "[CV] classifier__criterion=gini, classifier__max_depth=10, classifier__max_features=sqrt, classifier__n_estimators=200 \n"
     ]
    },
    {
     "name": "stdout",
     "output_type": "stream",
     "text": [
      "[CV]  classifier__criterion=gini, classifier__max_depth=10, classifier__max_features=sqrt, classifier__n_estimators=200, total=   2.2s\n",
      "[CV] classifier__criterion=gini, classifier__max_depth=10, classifier__max_features=sqrt, classifier__n_estimators=200 \n",
      "[CV]  classifier__criterion=gini, classifier__max_depth=10, classifier__max_features=sqrt, classifier__n_estimators=200, total=   2.3s\n",
      "[CV] classifier__criterion=gini, classifier__max_depth=10, classifier__max_features=log2, classifier__n_estimators=100 \n",
      "[CV]  classifier__criterion=gini, classifier__max_depth=10, classifier__max_features=log2, classifier__n_estimators=100, total=   1.1s\n",
      "[CV] classifier__criterion=gini, classifier__max_depth=10, classifier__max_features=log2, classifier__n_estimators=100 \n",
      "[CV]  classifier__criterion=gini, classifier__max_depth=10, classifier__max_features=log2, classifier__n_estimators=100, total=   0.9s\n",
      "[CV] classifier__criterion=gini, classifier__max_depth=10, classifier__max_features=log2, classifier__n_estimators=100 \n",
      "[CV]  classifier__criterion=gini, classifier__max_depth=10, classifier__max_features=log2, classifier__n_estimators=100, total=   1.0s\n",
      "[CV] classifier__criterion=gini, classifier__max_depth=10, classifier__max_features=log2, classifier__n_estimators=100 \n",
      "[CV]  classifier__criterion=gini, classifier__max_depth=10, classifier__max_features=log2, classifier__n_estimators=100, total=   1.0s\n",
      "[CV] classifier__criterion=gini, classifier__max_depth=10, classifier__max_features=log2, classifier__n_estimators=100 \n",
      "[CV]  classifier__criterion=gini, classifier__max_depth=10, classifier__max_features=log2, classifier__n_estimators=100, total=   1.0s\n",
      "[CV] classifier__criterion=gini, classifier__max_depth=10, classifier__max_features=log2, classifier__n_estimators=150 \n",
      "[CV]  classifier__criterion=gini, classifier__max_depth=10, classifier__max_features=log2, classifier__n_estimators=150, total=   1.3s\n",
      "[CV] classifier__criterion=gini, classifier__max_depth=10, classifier__max_features=log2, classifier__n_estimators=150 \n",
      "[CV]  classifier__criterion=gini, classifier__max_depth=10, classifier__max_features=log2, classifier__n_estimators=150, total=   1.4s\n",
      "[CV] classifier__criterion=gini, classifier__max_depth=10, classifier__max_features=log2, classifier__n_estimators=150 \n",
      "[CV]  classifier__criterion=gini, classifier__max_depth=10, classifier__max_features=log2, classifier__n_estimators=150, total=   1.4s\n",
      "[CV] classifier__criterion=gini, classifier__max_depth=10, classifier__max_features=log2, classifier__n_estimators=150 \n",
      "[CV]  classifier__criterion=gini, classifier__max_depth=10, classifier__max_features=log2, classifier__n_estimators=150, total=   1.3s\n",
      "[CV] classifier__criterion=gini, classifier__max_depth=10, classifier__max_features=log2, classifier__n_estimators=150 \n",
      "[CV]  classifier__criterion=gini, classifier__max_depth=10, classifier__max_features=log2, classifier__n_estimators=150, total=   1.4s\n",
      "[CV] classifier__criterion=gini, classifier__max_depth=10, classifier__max_features=log2, classifier__n_estimators=200 \n",
      "[CV]  classifier__criterion=gini, classifier__max_depth=10, classifier__max_features=log2, classifier__n_estimators=200, total=   1.6s\n",
      "[CV] classifier__criterion=gini, classifier__max_depth=10, classifier__max_features=log2, classifier__n_estimators=200 \n",
      "[CV]  classifier__criterion=gini, classifier__max_depth=10, classifier__max_features=log2, classifier__n_estimators=200, total=   1.8s\n",
      "[CV] classifier__criterion=gini, classifier__max_depth=10, classifier__max_features=log2, classifier__n_estimators=200 \n",
      "[CV]  classifier__criterion=gini, classifier__max_depth=10, classifier__max_features=log2, classifier__n_estimators=200, total=   1.7s\n",
      "[CV] classifier__criterion=gini, classifier__max_depth=10, classifier__max_features=log2, classifier__n_estimators=200 \n",
      "[CV]  classifier__criterion=gini, classifier__max_depth=10, classifier__max_features=log2, classifier__n_estimators=200, total=   1.7s\n",
      "[CV] classifier__criterion=gini, classifier__max_depth=10, classifier__max_features=log2, classifier__n_estimators=200 \n",
      "[CV]  classifier__criterion=gini, classifier__max_depth=10, classifier__max_features=log2, classifier__n_estimators=200, total=   1.7s\n"
     ]
    },
    {
     "name": "stderr",
     "output_type": "stream",
     "text": [
      "[Parallel(n_jobs=1)]: Done 180 out of 180 | elapsed:  4.8min finished\n"
     ]
    },
    {
     "name": "stdout",
     "output_type": "stream",
     "text": [
      "Fitting 5 folds for each of 36 candidates, totalling 180 fits\n",
      "[CV] classifier__criterion=entropy, classifier__max_depth=3, classifier__max_features=sqrt, classifier__n_estimators=100 \n"
     ]
    },
    {
     "name": "stderr",
     "output_type": "stream",
     "text": [
      "[Parallel(n_jobs=1)]: Using backend SequentialBackend with 1 concurrent workers.\n"
     ]
    },
    {
     "name": "stdout",
     "output_type": "stream",
     "text": [
      "[CV]  classifier__criterion=entropy, classifier__max_depth=3, classifier__max_features=sqrt, classifier__n_estimators=100, total=   1.1s\n",
      "[CV] classifier__criterion=entropy, classifier__max_depth=3, classifier__max_features=sqrt, classifier__n_estimators=100 \n"
     ]
    },
    {
     "name": "stderr",
     "output_type": "stream",
     "text": [
      "[Parallel(n_jobs=1)]: Done   1 out of   1 | elapsed:    1.0s remaining:    0.0s\n"
     ]
    },
    {
     "name": "stdout",
     "output_type": "stream",
     "text": [
      "[CV]  classifier__criterion=entropy, classifier__max_depth=3, classifier__max_features=sqrt, classifier__n_estimators=100, total=   1.2s\n",
      "[CV] classifier__criterion=entropy, classifier__max_depth=3, classifier__max_features=sqrt, classifier__n_estimators=100 \n",
      "[CV]  classifier__criterion=entropy, classifier__max_depth=3, classifier__max_features=sqrt, classifier__n_estimators=100, total=   1.1s\n",
      "[CV] classifier__criterion=entropy, classifier__max_depth=3, classifier__max_features=sqrt, classifier__n_estimators=100 \n",
      "[CV]  classifier__criterion=entropy, classifier__max_depth=3, classifier__max_features=sqrt, classifier__n_estimators=100, total=   1.1s\n",
      "[CV] classifier__criterion=entropy, classifier__max_depth=3, classifier__max_features=sqrt, classifier__n_estimators=100 \n",
      "[CV]  classifier__criterion=entropy, classifier__max_depth=3, classifier__max_features=sqrt, classifier__n_estimators=100, total=   1.2s\n",
      "[CV] classifier__criterion=entropy, classifier__max_depth=3, classifier__max_features=sqrt, classifier__n_estimators=150 \n",
      "[CV]  classifier__criterion=entropy, classifier__max_depth=3, classifier__max_features=sqrt, classifier__n_estimators=150, total=   1.4s\n",
      "[CV] classifier__criterion=entropy, classifier__max_depth=3, classifier__max_features=sqrt, classifier__n_estimators=150 \n",
      "[CV]  classifier__criterion=entropy, classifier__max_depth=3, classifier__max_features=sqrt, classifier__n_estimators=150, total=   1.6s\n",
      "[CV] classifier__criterion=entropy, classifier__max_depth=3, classifier__max_features=sqrt, classifier__n_estimators=150 \n",
      "[CV]  classifier__criterion=entropy, classifier__max_depth=3, classifier__max_features=sqrt, classifier__n_estimators=150, total=   1.9s\n",
      "[CV] classifier__criterion=entropy, classifier__max_depth=3, classifier__max_features=sqrt, classifier__n_estimators=150 \n",
      "[CV]  classifier__criterion=entropy, classifier__max_depth=3, classifier__max_features=sqrt, classifier__n_estimators=150, total=   2.1s\n",
      "[CV] classifier__criterion=entropy, classifier__max_depth=3, classifier__max_features=sqrt, classifier__n_estimators=150 \n",
      "[CV]  classifier__criterion=entropy, classifier__max_depth=3, classifier__max_features=sqrt, classifier__n_estimators=150, total=   2.2s\n",
      "[CV] classifier__criterion=entropy, classifier__max_depth=3, classifier__max_features=sqrt, classifier__n_estimators=200 \n",
      "[CV]  classifier__criterion=entropy, classifier__max_depth=3, classifier__max_features=sqrt, classifier__n_estimators=200, total=   2.7s\n",
      "[CV] classifier__criterion=entropy, classifier__max_depth=3, classifier__max_features=sqrt, classifier__n_estimators=200 \n",
      "[CV]  classifier__criterion=entropy, classifier__max_depth=3, classifier__max_features=sqrt, classifier__n_estimators=200, total=   2.3s\n",
      "[CV] classifier__criterion=entropy, classifier__max_depth=3, classifier__max_features=sqrt, classifier__n_estimators=200 \n",
      "[CV]  classifier__criterion=entropy, classifier__max_depth=3, classifier__max_features=sqrt, classifier__n_estimators=200, total=   2.1s\n",
      "[CV] classifier__criterion=entropy, classifier__max_depth=3, classifier__max_features=sqrt, classifier__n_estimators=200 \n",
      "[CV]  classifier__criterion=entropy, classifier__max_depth=3, classifier__max_features=sqrt, classifier__n_estimators=200, total=   2.4s\n",
      "[CV] classifier__criterion=entropy, classifier__max_depth=3, classifier__max_features=sqrt, classifier__n_estimators=200 \n",
      "[CV]  classifier__criterion=entropy, classifier__max_depth=3, classifier__max_features=sqrt, classifier__n_estimators=200, total=   3.5s\n",
      "[CV] classifier__criterion=entropy, classifier__max_depth=3, classifier__max_features=log2, classifier__n_estimators=100 \n",
      "[CV]  classifier__criterion=entropy, classifier__max_depth=3, classifier__max_features=log2, classifier__n_estimators=100, total=   0.8s\n",
      "[CV] classifier__criterion=entropy, classifier__max_depth=3, classifier__max_features=log2, classifier__n_estimators=100 \n",
      "[CV]  classifier__criterion=entropy, classifier__max_depth=3, classifier__max_features=log2, classifier__n_estimators=100, total=   0.5s\n",
      "[CV] classifier__criterion=entropy, classifier__max_depth=3, classifier__max_features=log2, classifier__n_estimators=100 \n",
      "[CV]  classifier__criterion=entropy, classifier__max_depth=3, classifier__max_features=log2, classifier__n_estimators=100, total=   0.5s\n",
      "[CV] classifier__criterion=entropy, classifier__max_depth=3, classifier__max_features=log2, classifier__n_estimators=100 \n",
      "[CV]  classifier__criterion=entropy, classifier__max_depth=3, classifier__max_features=log2, classifier__n_estimators=100, total=   0.5s\n",
      "[CV] classifier__criterion=entropy, classifier__max_depth=3, classifier__max_features=log2, classifier__n_estimators=100 \n",
      "[CV]  classifier__criterion=entropy, classifier__max_depth=3, classifier__max_features=log2, classifier__n_estimators=100, total=   0.5s\n",
      "[CV] classifier__criterion=entropy, classifier__max_depth=3, classifier__max_features=log2, classifier__n_estimators=150 \n",
      "[CV]  classifier__criterion=entropy, classifier__max_depth=3, classifier__max_features=log2, classifier__n_estimators=150, total=   0.7s\n",
      "[CV] classifier__criterion=entropy, classifier__max_depth=3, classifier__max_features=log2, classifier__n_estimators=150 \n",
      "[CV]  classifier__criterion=entropy, classifier__max_depth=3, classifier__max_features=log2, classifier__n_estimators=150, total=   0.7s\n",
      "[CV] classifier__criterion=entropy, classifier__max_depth=3, classifier__max_features=log2, classifier__n_estimators=150 \n",
      "[CV]  classifier__criterion=entropy, classifier__max_depth=3, classifier__max_features=log2, classifier__n_estimators=150, total=   0.7s\n",
      "[CV] classifier__criterion=entropy, classifier__max_depth=3, classifier__max_features=log2, classifier__n_estimators=150 \n",
      "[CV]  classifier__criterion=entropy, classifier__max_depth=3, classifier__max_features=log2, classifier__n_estimators=150, total=   0.7s\n",
      "[CV] classifier__criterion=entropy, classifier__max_depth=3, classifier__max_features=log2, classifier__n_estimators=150 \n",
      "[CV]  classifier__criterion=entropy, classifier__max_depth=3, classifier__max_features=log2, classifier__n_estimators=150, total=   0.7s\n",
      "[CV] classifier__criterion=entropy, classifier__max_depth=3, classifier__max_features=log2, classifier__n_estimators=200 \n",
      "[CV]  classifier__criterion=entropy, classifier__max_depth=3, classifier__max_features=log2, classifier__n_estimators=200, total=   1.0s\n",
      "[CV] classifier__criterion=entropy, classifier__max_depth=3, classifier__max_features=log2, classifier__n_estimators=200 \n",
      "[CV]  classifier__criterion=entropy, classifier__max_depth=3, classifier__max_features=log2, classifier__n_estimators=200, total=   0.9s\n",
      "[CV] classifier__criterion=entropy, classifier__max_depth=3, classifier__max_features=log2, classifier__n_estimators=200 \n",
      "[CV]  classifier__criterion=entropy, classifier__max_depth=3, classifier__max_features=log2, classifier__n_estimators=200, total=   0.9s\n",
      "[CV] classifier__criterion=entropy, classifier__max_depth=3, classifier__max_features=log2, classifier__n_estimators=200 \n",
      "[CV]  classifier__criterion=entropy, classifier__max_depth=3, classifier__max_features=log2, classifier__n_estimators=200, total=   0.9s\n",
      "[CV] classifier__criterion=entropy, classifier__max_depth=3, classifier__max_features=log2, classifier__n_estimators=200 \n",
      "[CV]  classifier__criterion=entropy, classifier__max_depth=3, classifier__max_features=log2, classifier__n_estimators=200, total=   0.9s\n",
      "[CV] classifier__criterion=entropy, classifier__max_depth=5, classifier__max_features=sqrt, classifier__n_estimators=100 \n",
      "[CV]  classifier__criterion=entropy, classifier__max_depth=5, classifier__max_features=sqrt, classifier__n_estimators=100, total=   0.7s\n",
      "[CV] classifier__criterion=entropy, classifier__max_depth=5, classifier__max_features=sqrt, classifier__n_estimators=100 \n",
      "[CV]  classifier__criterion=entropy, classifier__max_depth=5, classifier__max_features=sqrt, classifier__n_estimators=100, total=   0.7s\n",
      "[CV] classifier__criterion=entropy, classifier__max_depth=5, classifier__max_features=sqrt, classifier__n_estimators=100 \n",
      "[CV]  classifier__criterion=entropy, classifier__max_depth=5, classifier__max_features=sqrt, classifier__n_estimators=100, total=   0.6s\n",
      "[CV] classifier__criterion=entropy, classifier__max_depth=5, classifier__max_features=sqrt, classifier__n_estimators=100 \n"
     ]
    },
    {
     "name": "stdout",
     "output_type": "stream",
     "text": [
      "[CV]  classifier__criterion=entropy, classifier__max_depth=5, classifier__max_features=sqrt, classifier__n_estimators=100, total=   0.7s\n",
      "[CV] classifier__criterion=entropy, classifier__max_depth=5, classifier__max_features=sqrt, classifier__n_estimators=100 \n",
      "[CV]  classifier__criterion=entropy, classifier__max_depth=5, classifier__max_features=sqrt, classifier__n_estimators=100, total=   0.6s\n",
      "[CV] classifier__criterion=entropy, classifier__max_depth=5, classifier__max_features=sqrt, classifier__n_estimators=150 \n",
      "[CV]  classifier__criterion=entropy, classifier__max_depth=5, classifier__max_features=sqrt, classifier__n_estimators=150, total=   0.9s\n",
      "[CV] classifier__criterion=entropy, classifier__max_depth=5, classifier__max_features=sqrt, classifier__n_estimators=150 \n",
      "[CV]  classifier__criterion=entropy, classifier__max_depth=5, classifier__max_features=sqrt, classifier__n_estimators=150, total=   0.9s\n",
      "[CV] classifier__criterion=entropy, classifier__max_depth=5, classifier__max_features=sqrt, classifier__n_estimators=150 \n",
      "[CV]  classifier__criterion=entropy, classifier__max_depth=5, classifier__max_features=sqrt, classifier__n_estimators=150, total=   0.9s\n",
      "[CV] classifier__criterion=entropy, classifier__max_depth=5, classifier__max_features=sqrt, classifier__n_estimators=150 \n",
      "[CV]  classifier__criterion=entropy, classifier__max_depth=5, classifier__max_features=sqrt, classifier__n_estimators=150, total=   0.9s\n",
      "[CV] classifier__criterion=entropy, classifier__max_depth=5, classifier__max_features=sqrt, classifier__n_estimators=150 \n",
      "[CV]  classifier__criterion=entropy, classifier__max_depth=5, classifier__max_features=sqrt, classifier__n_estimators=150, total=   0.9s\n",
      "[CV] classifier__criterion=entropy, classifier__max_depth=5, classifier__max_features=sqrt, classifier__n_estimators=200 \n",
      "[CV]  classifier__criterion=entropy, classifier__max_depth=5, classifier__max_features=sqrt, classifier__n_estimators=200, total=   1.2s\n",
      "[CV] classifier__criterion=entropy, classifier__max_depth=5, classifier__max_features=sqrt, classifier__n_estimators=200 \n",
      "[CV]  classifier__criterion=entropy, classifier__max_depth=5, classifier__max_features=sqrt, classifier__n_estimators=200, total=   1.3s\n",
      "[CV] classifier__criterion=entropy, classifier__max_depth=5, classifier__max_features=sqrt, classifier__n_estimators=200 \n",
      "[CV]  classifier__criterion=entropy, classifier__max_depth=5, classifier__max_features=sqrt, classifier__n_estimators=200, total=   1.3s\n",
      "[CV] classifier__criterion=entropy, classifier__max_depth=5, classifier__max_features=sqrt, classifier__n_estimators=200 \n",
      "[CV]  classifier__criterion=entropy, classifier__max_depth=5, classifier__max_features=sqrt, classifier__n_estimators=200, total=   1.3s\n",
      "[CV] classifier__criterion=entropy, classifier__max_depth=5, classifier__max_features=sqrt, classifier__n_estimators=200 \n",
      "[CV]  classifier__criterion=entropy, classifier__max_depth=5, classifier__max_features=sqrt, classifier__n_estimators=200, total=   1.3s\n",
      "[CV] classifier__criterion=entropy, classifier__max_depth=5, classifier__max_features=log2, classifier__n_estimators=100 \n",
      "[CV]  classifier__criterion=entropy, classifier__max_depth=5, classifier__max_features=log2, classifier__n_estimators=100, total=   0.6s\n",
      "[CV] classifier__criterion=entropy, classifier__max_depth=5, classifier__max_features=log2, classifier__n_estimators=100 \n",
      "[CV]  classifier__criterion=entropy, classifier__max_depth=5, classifier__max_features=log2, classifier__n_estimators=100, total=   0.6s\n",
      "[CV] classifier__criterion=entropy, classifier__max_depth=5, classifier__max_features=log2, classifier__n_estimators=100 \n",
      "[CV]  classifier__criterion=entropy, classifier__max_depth=5, classifier__max_features=log2, classifier__n_estimators=100, total=   0.6s\n",
      "[CV] classifier__criterion=entropy, classifier__max_depth=5, classifier__max_features=log2, classifier__n_estimators=100 \n",
      "[CV]  classifier__criterion=entropy, classifier__max_depth=5, classifier__max_features=log2, classifier__n_estimators=100, total=   0.6s\n",
      "[CV] classifier__criterion=entropy, classifier__max_depth=5, classifier__max_features=log2, classifier__n_estimators=100 \n",
      "[CV]  classifier__criterion=entropy, classifier__max_depth=5, classifier__max_features=log2, classifier__n_estimators=100, total=   0.6s\n",
      "[CV] classifier__criterion=entropy, classifier__max_depth=5, classifier__max_features=log2, classifier__n_estimators=150 \n",
      "[CV]  classifier__criterion=entropy, classifier__max_depth=5, classifier__max_features=log2, classifier__n_estimators=150, total=   0.8s\n",
      "[CV] classifier__criterion=entropy, classifier__max_depth=5, classifier__max_features=log2, classifier__n_estimators=150 \n",
      "[CV]  classifier__criterion=entropy, classifier__max_depth=5, classifier__max_features=log2, classifier__n_estimators=150, total=   0.8s\n",
      "[CV] classifier__criterion=entropy, classifier__max_depth=5, classifier__max_features=log2, classifier__n_estimators=150 \n",
      "[CV]  classifier__criterion=entropy, classifier__max_depth=5, classifier__max_features=log2, classifier__n_estimators=150, total=   0.8s\n",
      "[CV] classifier__criterion=entropy, classifier__max_depth=5, classifier__max_features=log2, classifier__n_estimators=150 \n",
      "[CV]  classifier__criterion=entropy, classifier__max_depth=5, classifier__max_features=log2, classifier__n_estimators=150, total=   0.8s\n",
      "[CV] classifier__criterion=entropy, classifier__max_depth=5, classifier__max_features=log2, classifier__n_estimators=150 \n",
      "[CV]  classifier__criterion=entropy, classifier__max_depth=5, classifier__max_features=log2, classifier__n_estimators=150, total=   0.8s\n",
      "[CV] classifier__criterion=entropy, classifier__max_depth=5, classifier__max_features=log2, classifier__n_estimators=200 \n",
      "[CV]  classifier__criterion=entropy, classifier__max_depth=5, classifier__max_features=log2, classifier__n_estimators=200, total=   1.0s\n",
      "[CV] classifier__criterion=entropy, classifier__max_depth=5, classifier__max_features=log2, classifier__n_estimators=200 \n",
      "[CV]  classifier__criterion=entropy, classifier__max_depth=5, classifier__max_features=log2, classifier__n_estimators=200, total=   1.0s\n",
      "[CV] classifier__criterion=entropy, classifier__max_depth=5, classifier__max_features=log2, classifier__n_estimators=200 \n",
      "[CV]  classifier__criterion=entropy, classifier__max_depth=5, classifier__max_features=log2, classifier__n_estimators=200, total=   1.0s\n",
      "[CV] classifier__criterion=entropy, classifier__max_depth=5, classifier__max_features=log2, classifier__n_estimators=200 \n",
      "[CV]  classifier__criterion=entropy, classifier__max_depth=5, classifier__max_features=log2, classifier__n_estimators=200, total=   1.0s\n",
      "[CV] classifier__criterion=entropy, classifier__max_depth=5, classifier__max_features=log2, classifier__n_estimators=200 \n",
      "[CV]  classifier__criterion=entropy, classifier__max_depth=5, classifier__max_features=log2, classifier__n_estimators=200, total=   1.0s\n",
      "[CV] classifier__criterion=entropy, classifier__max_depth=10, classifier__max_features=sqrt, classifier__n_estimators=100 \n",
      "[CV]  classifier__criterion=entropy, classifier__max_depth=10, classifier__max_features=sqrt, classifier__n_estimators=100, total=   0.7s\n",
      "[CV] classifier__criterion=entropy, classifier__max_depth=10, classifier__max_features=sqrt, classifier__n_estimators=100 \n",
      "[CV]  classifier__criterion=entropy, classifier__max_depth=10, classifier__max_features=sqrt, classifier__n_estimators=100, total=   0.7s\n",
      "[CV] classifier__criterion=entropy, classifier__max_depth=10, classifier__max_features=sqrt, classifier__n_estimators=100 \n",
      "[CV]  classifier__criterion=entropy, classifier__max_depth=10, classifier__max_features=sqrt, classifier__n_estimators=100, total=   0.7s\n",
      "[CV] classifier__criterion=entropy, classifier__max_depth=10, classifier__max_features=sqrt, classifier__n_estimators=100 \n",
      "[CV]  classifier__criterion=entropy, classifier__max_depth=10, classifier__max_features=sqrt, classifier__n_estimators=100, total=   0.7s\n",
      "[CV] classifier__criterion=entropy, classifier__max_depth=10, classifier__max_features=sqrt, classifier__n_estimators=100 \n",
      "[CV]  classifier__criterion=entropy, classifier__max_depth=10, classifier__max_features=sqrt, classifier__n_estimators=100, total=   0.7s\n",
      "[CV] classifier__criterion=entropy, classifier__max_depth=10, classifier__max_features=sqrt, classifier__n_estimators=150 \n"
     ]
    },
    {
     "name": "stdout",
     "output_type": "stream",
     "text": [
      "[CV]  classifier__criterion=entropy, classifier__max_depth=10, classifier__max_features=sqrt, classifier__n_estimators=150, total=   1.0s\n",
      "[CV] classifier__criterion=entropy, classifier__max_depth=10, classifier__max_features=sqrt, classifier__n_estimators=150 \n",
      "[CV]  classifier__criterion=entropy, classifier__max_depth=10, classifier__max_features=sqrt, classifier__n_estimators=150, total=   1.0s\n",
      "[CV] classifier__criterion=entropy, classifier__max_depth=10, classifier__max_features=sqrt, classifier__n_estimators=150 \n",
      "[CV]  classifier__criterion=entropy, classifier__max_depth=10, classifier__max_features=sqrt, classifier__n_estimators=150, total=   1.0s\n",
      "[CV] classifier__criterion=entropy, classifier__max_depth=10, classifier__max_features=sqrt, classifier__n_estimators=150 \n",
      "[CV]  classifier__criterion=entropy, classifier__max_depth=10, classifier__max_features=sqrt, classifier__n_estimators=150, total=   1.0s\n",
      "[CV] classifier__criterion=entropy, classifier__max_depth=10, classifier__max_features=sqrt, classifier__n_estimators=150 \n",
      "[CV]  classifier__criterion=entropy, classifier__max_depth=10, classifier__max_features=sqrt, classifier__n_estimators=150, total=   1.0s\n",
      "[CV] classifier__criterion=entropy, classifier__max_depth=10, classifier__max_features=sqrt, classifier__n_estimators=200 \n",
      "[CV]  classifier__criterion=entropy, classifier__max_depth=10, classifier__max_features=sqrt, classifier__n_estimators=200, total=   1.3s\n",
      "[CV] classifier__criterion=entropy, classifier__max_depth=10, classifier__max_features=sqrt, classifier__n_estimators=200 \n",
      "[CV]  classifier__criterion=entropy, classifier__max_depth=10, classifier__max_features=sqrt, classifier__n_estimators=200, total=   1.3s\n",
      "[CV] classifier__criterion=entropy, classifier__max_depth=10, classifier__max_features=sqrt, classifier__n_estimators=200 \n",
      "[CV]  classifier__criterion=entropy, classifier__max_depth=10, classifier__max_features=sqrt, classifier__n_estimators=200, total=   1.4s\n",
      "[CV] classifier__criterion=entropy, classifier__max_depth=10, classifier__max_features=sqrt, classifier__n_estimators=200 \n",
      "[CV]  classifier__criterion=entropy, classifier__max_depth=10, classifier__max_features=sqrt, classifier__n_estimators=200, total=   1.3s\n",
      "[CV] classifier__criterion=entropy, classifier__max_depth=10, classifier__max_features=sqrt, classifier__n_estimators=200 \n",
      "[CV]  classifier__criterion=entropy, classifier__max_depth=10, classifier__max_features=sqrt, classifier__n_estimators=200, total=   1.3s\n",
      "[CV] classifier__criterion=entropy, classifier__max_depth=10, classifier__max_features=log2, classifier__n_estimators=100 \n",
      "[CV]  classifier__criterion=entropy, classifier__max_depth=10, classifier__max_features=log2, classifier__n_estimators=100, total=   0.6s\n",
      "[CV] classifier__criterion=entropy, classifier__max_depth=10, classifier__max_features=log2, classifier__n_estimators=100 \n",
      "[CV]  classifier__criterion=entropy, classifier__max_depth=10, classifier__max_features=log2, classifier__n_estimators=100, total=   0.6s\n",
      "[CV] classifier__criterion=entropy, classifier__max_depth=10, classifier__max_features=log2, classifier__n_estimators=100 \n",
      "[CV]  classifier__criterion=entropy, classifier__max_depth=10, classifier__max_features=log2, classifier__n_estimators=100, total=   0.6s\n",
      "[CV] classifier__criterion=entropy, classifier__max_depth=10, classifier__max_features=log2, classifier__n_estimators=100 \n",
      "[CV]  classifier__criterion=entropy, classifier__max_depth=10, classifier__max_features=log2, classifier__n_estimators=100, total=   0.6s\n",
      "[CV] classifier__criterion=entropy, classifier__max_depth=10, classifier__max_features=log2, classifier__n_estimators=100 \n",
      "[CV]  classifier__criterion=entropy, classifier__max_depth=10, classifier__max_features=log2, classifier__n_estimators=100, total=   0.6s\n",
      "[CV] classifier__criterion=entropy, classifier__max_depth=10, classifier__max_features=log2, classifier__n_estimators=150 \n",
      "[CV]  classifier__criterion=entropy, classifier__max_depth=10, classifier__max_features=log2, classifier__n_estimators=150, total=   0.8s\n",
      "[CV] classifier__criterion=entropy, classifier__max_depth=10, classifier__max_features=log2, classifier__n_estimators=150 \n",
      "[CV]  classifier__criterion=entropy, classifier__max_depth=10, classifier__max_features=log2, classifier__n_estimators=150, total=   0.8s\n",
      "[CV] classifier__criterion=entropy, classifier__max_depth=10, classifier__max_features=log2, classifier__n_estimators=150 \n",
      "[CV]  classifier__criterion=entropy, classifier__max_depth=10, classifier__max_features=log2, classifier__n_estimators=150, total=   0.8s\n",
      "[CV] classifier__criterion=entropy, classifier__max_depth=10, classifier__max_features=log2, classifier__n_estimators=150 \n",
      "[CV]  classifier__criterion=entropy, classifier__max_depth=10, classifier__max_features=log2, classifier__n_estimators=150, total=   0.8s\n",
      "[CV] classifier__criterion=entropy, classifier__max_depth=10, classifier__max_features=log2, classifier__n_estimators=150 \n",
      "[CV]  classifier__criterion=entropy, classifier__max_depth=10, classifier__max_features=log2, classifier__n_estimators=150, total=   0.8s\n",
      "[CV] classifier__criterion=entropy, classifier__max_depth=10, classifier__max_features=log2, classifier__n_estimators=200 \n",
      "[CV]  classifier__criterion=entropy, classifier__max_depth=10, classifier__max_features=log2, classifier__n_estimators=200, total=   1.0s\n",
      "[CV] classifier__criterion=entropy, classifier__max_depth=10, classifier__max_features=log2, classifier__n_estimators=200 \n",
      "[CV]  classifier__criterion=entropy, classifier__max_depth=10, classifier__max_features=log2, classifier__n_estimators=200, total=   1.0s\n",
      "[CV] classifier__criterion=entropy, classifier__max_depth=10, classifier__max_features=log2, classifier__n_estimators=200 \n",
      "[CV]  classifier__criterion=entropy, classifier__max_depth=10, classifier__max_features=log2, classifier__n_estimators=200, total=   1.0s\n",
      "[CV] classifier__criterion=entropy, classifier__max_depth=10, classifier__max_features=log2, classifier__n_estimators=200 \n",
      "[CV]  classifier__criterion=entropy, classifier__max_depth=10, classifier__max_features=log2, classifier__n_estimators=200, total=   1.1s\n",
      "[CV] classifier__criterion=entropy, classifier__max_depth=10, classifier__max_features=log2, classifier__n_estimators=200 \n",
      "[CV]  classifier__criterion=entropy, classifier__max_depth=10, classifier__max_features=log2, classifier__n_estimators=200, total=   1.1s\n",
      "[CV] classifier__criterion=gini, classifier__max_depth=3, classifier__max_features=sqrt, classifier__n_estimators=100 \n",
      "[CV]  classifier__criterion=gini, classifier__max_depth=3, classifier__max_features=sqrt, classifier__n_estimators=100, total=   0.7s\n",
      "[CV] classifier__criterion=gini, classifier__max_depth=3, classifier__max_features=sqrt, classifier__n_estimators=100 \n",
      "[CV]  classifier__criterion=gini, classifier__max_depth=3, classifier__max_features=sqrt, classifier__n_estimators=100, total=   0.7s\n",
      "[CV] classifier__criterion=gini, classifier__max_depth=3, classifier__max_features=sqrt, classifier__n_estimators=100 \n",
      "[CV]  classifier__criterion=gini, classifier__max_depth=3, classifier__max_features=sqrt, classifier__n_estimators=100, total=   0.7s\n",
      "[CV] classifier__criterion=gini, classifier__max_depth=3, classifier__max_features=sqrt, classifier__n_estimators=100 \n",
      "[CV]  classifier__criterion=gini, classifier__max_depth=3, classifier__max_features=sqrt, classifier__n_estimators=100, total=   0.6s\n",
      "[CV] classifier__criterion=gini, classifier__max_depth=3, classifier__max_features=sqrt, classifier__n_estimators=100 \n",
      "[CV]  classifier__criterion=gini, classifier__max_depth=3, classifier__max_features=sqrt, classifier__n_estimators=100, total=   0.6s\n",
      "[CV] classifier__criterion=gini, classifier__max_depth=3, classifier__max_features=sqrt, classifier__n_estimators=150 \n",
      "[CV]  classifier__criterion=gini, classifier__max_depth=3, classifier__max_features=sqrt, classifier__n_estimators=150, total=   0.9s\n",
      "[CV] classifier__criterion=gini, classifier__max_depth=3, classifier__max_features=sqrt, classifier__n_estimators=150 \n",
      "[CV]  classifier__criterion=gini, classifier__max_depth=3, classifier__max_features=sqrt, classifier__n_estimators=150, total=   0.9s\n",
      "[CV] classifier__criterion=gini, classifier__max_depth=3, classifier__max_features=sqrt, classifier__n_estimators=150 \n"
     ]
    },
    {
     "name": "stdout",
     "output_type": "stream",
     "text": [
      "[CV]  classifier__criterion=gini, classifier__max_depth=3, classifier__max_features=sqrt, classifier__n_estimators=150, total=   0.9s\n",
      "[CV] classifier__criterion=gini, classifier__max_depth=3, classifier__max_features=sqrt, classifier__n_estimators=150 \n",
      "[CV]  classifier__criterion=gini, classifier__max_depth=3, classifier__max_features=sqrt, classifier__n_estimators=150, total=   0.9s\n",
      "[CV] classifier__criterion=gini, classifier__max_depth=3, classifier__max_features=sqrt, classifier__n_estimators=150 \n",
      "[CV]  classifier__criterion=gini, classifier__max_depth=3, classifier__max_features=sqrt, classifier__n_estimators=150, total=   1.0s\n",
      "[CV] classifier__criterion=gini, classifier__max_depth=3, classifier__max_features=sqrt, classifier__n_estimators=200 \n",
      "[CV]  classifier__criterion=gini, classifier__max_depth=3, classifier__max_features=sqrt, classifier__n_estimators=200, total=   1.3s\n",
      "[CV] classifier__criterion=gini, classifier__max_depth=3, classifier__max_features=sqrt, classifier__n_estimators=200 \n",
      "[CV]  classifier__criterion=gini, classifier__max_depth=3, classifier__max_features=sqrt, classifier__n_estimators=200, total=   1.4s\n",
      "[CV] classifier__criterion=gini, classifier__max_depth=3, classifier__max_features=sqrt, classifier__n_estimators=200 \n",
      "[CV]  classifier__criterion=gini, classifier__max_depth=3, classifier__max_features=sqrt, classifier__n_estimators=200, total=   1.3s\n",
      "[CV] classifier__criterion=gini, classifier__max_depth=3, classifier__max_features=sqrt, classifier__n_estimators=200 \n",
      "[CV]  classifier__criterion=gini, classifier__max_depth=3, classifier__max_features=sqrt, classifier__n_estimators=200, total=   1.2s\n",
      "[CV] classifier__criterion=gini, classifier__max_depth=3, classifier__max_features=sqrt, classifier__n_estimators=200 \n",
      "[CV]  classifier__criterion=gini, classifier__max_depth=3, classifier__max_features=sqrt, classifier__n_estimators=200, total=   1.2s\n",
      "[CV] classifier__criterion=gini, classifier__max_depth=3, classifier__max_features=log2, classifier__n_estimators=100 \n",
      "[CV]  classifier__criterion=gini, classifier__max_depth=3, classifier__max_features=log2, classifier__n_estimators=100, total=   0.6s\n",
      "[CV] classifier__criterion=gini, classifier__max_depth=3, classifier__max_features=log2, classifier__n_estimators=100 \n",
      "[CV]  classifier__criterion=gini, classifier__max_depth=3, classifier__max_features=log2, classifier__n_estimators=100, total=   0.6s\n",
      "[CV] classifier__criterion=gini, classifier__max_depth=3, classifier__max_features=log2, classifier__n_estimators=100 \n",
      "[CV]  classifier__criterion=gini, classifier__max_depth=3, classifier__max_features=log2, classifier__n_estimators=100, total=   0.6s\n",
      "[CV] classifier__criterion=gini, classifier__max_depth=3, classifier__max_features=log2, classifier__n_estimators=100 \n",
      "[CV]  classifier__criterion=gini, classifier__max_depth=3, classifier__max_features=log2, classifier__n_estimators=100, total=   0.6s\n",
      "[CV] classifier__criterion=gini, classifier__max_depth=3, classifier__max_features=log2, classifier__n_estimators=100 \n",
      "[CV]  classifier__criterion=gini, classifier__max_depth=3, classifier__max_features=log2, classifier__n_estimators=100, total=   0.5s\n",
      "[CV] classifier__criterion=gini, classifier__max_depth=3, classifier__max_features=log2, classifier__n_estimators=150 \n",
      "[CV]  classifier__criterion=gini, classifier__max_depth=3, classifier__max_features=log2, classifier__n_estimators=150, total=   0.8s\n",
      "[CV] classifier__criterion=gini, classifier__max_depth=3, classifier__max_features=log2, classifier__n_estimators=150 \n",
      "[CV]  classifier__criterion=gini, classifier__max_depth=3, classifier__max_features=log2, classifier__n_estimators=150, total=   0.7s\n",
      "[CV] classifier__criterion=gini, classifier__max_depth=3, classifier__max_features=log2, classifier__n_estimators=150 \n",
      "[CV]  classifier__criterion=gini, classifier__max_depth=3, classifier__max_features=log2, classifier__n_estimators=150, total=   0.7s\n",
      "[CV] classifier__criterion=gini, classifier__max_depth=3, classifier__max_features=log2, classifier__n_estimators=150 \n",
      "[CV]  classifier__criterion=gini, classifier__max_depth=3, classifier__max_features=log2, classifier__n_estimators=150, total=   0.7s\n",
      "[CV] classifier__criterion=gini, classifier__max_depth=3, classifier__max_features=log2, classifier__n_estimators=150 \n",
      "[CV]  classifier__criterion=gini, classifier__max_depth=3, classifier__max_features=log2, classifier__n_estimators=150, total=   0.7s\n",
      "[CV] classifier__criterion=gini, classifier__max_depth=3, classifier__max_features=log2, classifier__n_estimators=200 \n",
      "[CV]  classifier__criterion=gini, classifier__max_depth=3, classifier__max_features=log2, classifier__n_estimators=200, total=   1.0s\n",
      "[CV] classifier__criterion=gini, classifier__max_depth=3, classifier__max_features=log2, classifier__n_estimators=200 \n",
      "[CV]  classifier__criterion=gini, classifier__max_depth=3, classifier__max_features=log2, classifier__n_estimators=200, total=   1.0s\n",
      "[CV] classifier__criterion=gini, classifier__max_depth=3, classifier__max_features=log2, classifier__n_estimators=200 \n",
      "[CV]  classifier__criterion=gini, classifier__max_depth=3, classifier__max_features=log2, classifier__n_estimators=200, total=   1.0s\n",
      "[CV] classifier__criterion=gini, classifier__max_depth=3, classifier__max_features=log2, classifier__n_estimators=200 \n",
      "[CV]  classifier__criterion=gini, classifier__max_depth=3, classifier__max_features=log2, classifier__n_estimators=200, total=   1.0s\n",
      "[CV] classifier__criterion=gini, classifier__max_depth=3, classifier__max_features=log2, classifier__n_estimators=200 \n",
      "[CV]  classifier__criterion=gini, classifier__max_depth=3, classifier__max_features=log2, classifier__n_estimators=200, total=   1.0s\n",
      "[CV] classifier__criterion=gini, classifier__max_depth=5, classifier__max_features=sqrt, classifier__n_estimators=100 \n",
      "[CV]  classifier__criterion=gini, classifier__max_depth=5, classifier__max_features=sqrt, classifier__n_estimators=100, total=   0.7s\n",
      "[CV] classifier__criterion=gini, classifier__max_depth=5, classifier__max_features=sqrt, classifier__n_estimators=100 \n",
      "[CV]  classifier__criterion=gini, classifier__max_depth=5, classifier__max_features=sqrt, classifier__n_estimators=100, total=   0.7s\n",
      "[CV] classifier__criterion=gini, classifier__max_depth=5, classifier__max_features=sqrt, classifier__n_estimators=100 \n",
      "[CV]  classifier__criterion=gini, classifier__max_depth=5, classifier__max_features=sqrt, classifier__n_estimators=100, total=   0.7s\n",
      "[CV] classifier__criterion=gini, classifier__max_depth=5, classifier__max_features=sqrt, classifier__n_estimators=100 \n",
      "[CV]  classifier__criterion=gini, classifier__max_depth=5, classifier__max_features=sqrt, classifier__n_estimators=100, total=   0.7s\n",
      "[CV] classifier__criterion=gini, classifier__max_depth=5, classifier__max_features=sqrt, classifier__n_estimators=100 \n",
      "[CV]  classifier__criterion=gini, classifier__max_depth=5, classifier__max_features=sqrt, classifier__n_estimators=100, total=   0.7s\n",
      "[CV] classifier__criterion=gini, classifier__max_depth=5, classifier__max_features=sqrt, classifier__n_estimators=150 \n",
      "[CV]  classifier__criterion=gini, classifier__max_depth=5, classifier__max_features=sqrt, classifier__n_estimators=150, total=   1.0s\n",
      "[CV] classifier__criterion=gini, classifier__max_depth=5, classifier__max_features=sqrt, classifier__n_estimators=150 \n",
      "[CV]  classifier__criterion=gini, classifier__max_depth=5, classifier__max_features=sqrt, classifier__n_estimators=150, total=   1.0s\n",
      "[CV] classifier__criterion=gini, classifier__max_depth=5, classifier__max_features=sqrt, classifier__n_estimators=150 \n",
      "[CV]  classifier__criterion=gini, classifier__max_depth=5, classifier__max_features=sqrt, classifier__n_estimators=150, total=   1.0s\n",
      "[CV] classifier__criterion=gini, classifier__max_depth=5, classifier__max_features=sqrt, classifier__n_estimators=150 \n",
      "[CV]  classifier__criterion=gini, classifier__max_depth=5, classifier__max_features=sqrt, classifier__n_estimators=150, total=   1.0s\n",
      "[CV] classifier__criterion=gini, classifier__max_depth=5, classifier__max_features=sqrt, classifier__n_estimators=150 \n",
      "[CV]  classifier__criterion=gini, classifier__max_depth=5, classifier__max_features=sqrt, classifier__n_estimators=150, total=   1.0s\n",
      "[CV] classifier__criterion=gini, classifier__max_depth=5, classifier__max_features=sqrt, classifier__n_estimators=200 \n"
     ]
    },
    {
     "name": "stdout",
     "output_type": "stream",
     "text": [
      "[CV]  classifier__criterion=gini, classifier__max_depth=5, classifier__max_features=sqrt, classifier__n_estimators=200, total=   1.3s\n",
      "[CV] classifier__criterion=gini, classifier__max_depth=5, classifier__max_features=sqrt, classifier__n_estimators=200 \n",
      "[CV]  classifier__criterion=gini, classifier__max_depth=5, classifier__max_features=sqrt, classifier__n_estimators=200, total=   1.3s\n",
      "[CV] classifier__criterion=gini, classifier__max_depth=5, classifier__max_features=sqrt, classifier__n_estimators=200 \n",
      "[CV]  classifier__criterion=gini, classifier__max_depth=5, classifier__max_features=sqrt, classifier__n_estimators=200, total=   1.3s\n",
      "[CV] classifier__criterion=gini, classifier__max_depth=5, classifier__max_features=sqrt, classifier__n_estimators=200 \n",
      "[CV]  classifier__criterion=gini, classifier__max_depth=5, classifier__max_features=sqrt, classifier__n_estimators=200, total=   1.3s\n",
      "[CV] classifier__criterion=gini, classifier__max_depth=5, classifier__max_features=sqrt, classifier__n_estimators=200 \n",
      "[CV]  classifier__criterion=gini, classifier__max_depth=5, classifier__max_features=sqrt, classifier__n_estimators=200, total=   1.3s\n",
      "[CV] classifier__criterion=gini, classifier__max_depth=5, classifier__max_features=log2, classifier__n_estimators=100 \n",
      "[CV]  classifier__criterion=gini, classifier__max_depth=5, classifier__max_features=log2, classifier__n_estimators=100, total=   0.6s\n",
      "[CV] classifier__criterion=gini, classifier__max_depth=5, classifier__max_features=log2, classifier__n_estimators=100 \n",
      "[CV]  classifier__criterion=gini, classifier__max_depth=5, classifier__max_features=log2, classifier__n_estimators=100, total=   0.6s\n",
      "[CV] classifier__criterion=gini, classifier__max_depth=5, classifier__max_features=log2, classifier__n_estimators=100 \n",
      "[CV]  classifier__criterion=gini, classifier__max_depth=5, classifier__max_features=log2, classifier__n_estimators=100, total=   0.6s\n",
      "[CV] classifier__criterion=gini, classifier__max_depth=5, classifier__max_features=log2, classifier__n_estimators=100 \n",
      "[CV]  classifier__criterion=gini, classifier__max_depth=5, classifier__max_features=log2, classifier__n_estimators=100, total=   0.6s\n",
      "[CV] classifier__criterion=gini, classifier__max_depth=5, classifier__max_features=log2, classifier__n_estimators=100 \n",
      "[CV]  classifier__criterion=gini, classifier__max_depth=5, classifier__max_features=log2, classifier__n_estimators=100, total=   0.6s\n",
      "[CV] classifier__criterion=gini, classifier__max_depth=5, classifier__max_features=log2, classifier__n_estimators=150 \n",
      "[CV]  classifier__criterion=gini, classifier__max_depth=5, classifier__max_features=log2, classifier__n_estimators=150, total=   0.8s\n",
      "[CV] classifier__criterion=gini, classifier__max_depth=5, classifier__max_features=log2, classifier__n_estimators=150 \n",
      "[CV]  classifier__criterion=gini, classifier__max_depth=5, classifier__max_features=log2, classifier__n_estimators=150, total=   0.8s\n",
      "[CV] classifier__criterion=gini, classifier__max_depth=5, classifier__max_features=log2, classifier__n_estimators=150 \n",
      "[CV]  classifier__criterion=gini, classifier__max_depth=5, classifier__max_features=log2, classifier__n_estimators=150, total=   0.8s\n",
      "[CV] classifier__criterion=gini, classifier__max_depth=5, classifier__max_features=log2, classifier__n_estimators=150 \n",
      "[CV]  classifier__criterion=gini, classifier__max_depth=5, classifier__max_features=log2, classifier__n_estimators=150, total=   0.8s\n",
      "[CV] classifier__criterion=gini, classifier__max_depth=5, classifier__max_features=log2, classifier__n_estimators=150 \n",
      "[CV]  classifier__criterion=gini, classifier__max_depth=5, classifier__max_features=log2, classifier__n_estimators=150, total=   0.8s\n",
      "[CV] classifier__criterion=gini, classifier__max_depth=5, classifier__max_features=log2, classifier__n_estimators=200 \n",
      "[CV]  classifier__criterion=gini, classifier__max_depth=5, classifier__max_features=log2, classifier__n_estimators=200, total=   1.0s\n",
      "[CV] classifier__criterion=gini, classifier__max_depth=5, classifier__max_features=log2, classifier__n_estimators=200 \n",
      "[CV]  classifier__criterion=gini, classifier__max_depth=5, classifier__max_features=log2, classifier__n_estimators=200, total=   1.0s\n",
      "[CV] classifier__criterion=gini, classifier__max_depth=5, classifier__max_features=log2, classifier__n_estimators=200 \n",
      "[CV]  classifier__criterion=gini, classifier__max_depth=5, classifier__max_features=log2, classifier__n_estimators=200, total=   1.0s\n",
      "[CV] classifier__criterion=gini, classifier__max_depth=5, classifier__max_features=log2, classifier__n_estimators=200 \n",
      "[CV]  classifier__criterion=gini, classifier__max_depth=5, classifier__max_features=log2, classifier__n_estimators=200, total=   1.0s\n",
      "[CV] classifier__criterion=gini, classifier__max_depth=5, classifier__max_features=log2, classifier__n_estimators=200 \n",
      "[CV]  classifier__criterion=gini, classifier__max_depth=5, classifier__max_features=log2, classifier__n_estimators=200, total=   1.0s\n",
      "[CV] classifier__criterion=gini, classifier__max_depth=10, classifier__max_features=sqrt, classifier__n_estimators=100 \n",
      "[CV]  classifier__criterion=gini, classifier__max_depth=10, classifier__max_features=sqrt, classifier__n_estimators=100, total=   0.7s\n",
      "[CV] classifier__criterion=gini, classifier__max_depth=10, classifier__max_features=sqrt, classifier__n_estimators=100 \n",
      "[CV]  classifier__criterion=gini, classifier__max_depth=10, classifier__max_features=sqrt, classifier__n_estimators=100, total=   0.7s\n",
      "[CV] classifier__criterion=gini, classifier__max_depth=10, classifier__max_features=sqrt, classifier__n_estimators=100 \n",
      "[CV]  classifier__criterion=gini, classifier__max_depth=10, classifier__max_features=sqrt, classifier__n_estimators=100, total=   0.7s\n",
      "[CV] classifier__criterion=gini, classifier__max_depth=10, classifier__max_features=sqrt, classifier__n_estimators=100 \n",
      "[CV]  classifier__criterion=gini, classifier__max_depth=10, classifier__max_features=sqrt, classifier__n_estimators=100, total=   0.7s\n",
      "[CV] classifier__criterion=gini, classifier__max_depth=10, classifier__max_features=sqrt, classifier__n_estimators=100 \n",
      "[CV]  classifier__criterion=gini, classifier__max_depth=10, classifier__max_features=sqrt, classifier__n_estimators=100, total=   0.7s\n",
      "[CV] classifier__criterion=gini, classifier__max_depth=10, classifier__max_features=sqrt, classifier__n_estimators=150 \n",
      "[CV]  classifier__criterion=gini, classifier__max_depth=10, classifier__max_features=sqrt, classifier__n_estimators=150, total=   1.0s\n",
      "[CV] classifier__criterion=gini, classifier__max_depth=10, classifier__max_features=sqrt, classifier__n_estimators=150 \n",
      "[CV]  classifier__criterion=gini, classifier__max_depth=10, classifier__max_features=sqrt, classifier__n_estimators=150, total=   1.0s\n",
      "[CV] classifier__criterion=gini, classifier__max_depth=10, classifier__max_features=sqrt, classifier__n_estimators=150 \n",
      "[CV]  classifier__criterion=gini, classifier__max_depth=10, classifier__max_features=sqrt, classifier__n_estimators=150, total=   1.0s\n",
      "[CV] classifier__criterion=gini, classifier__max_depth=10, classifier__max_features=sqrt, classifier__n_estimators=150 \n",
      "[CV]  classifier__criterion=gini, classifier__max_depth=10, classifier__max_features=sqrt, classifier__n_estimators=150, total=   1.0s\n",
      "[CV] classifier__criterion=gini, classifier__max_depth=10, classifier__max_features=sqrt, classifier__n_estimators=150 \n",
      "[CV]  classifier__criterion=gini, classifier__max_depth=10, classifier__max_features=sqrt, classifier__n_estimators=150, total=   1.0s\n",
      "[CV] classifier__criterion=gini, classifier__max_depth=10, classifier__max_features=sqrt, classifier__n_estimators=200 \n",
      "[CV]  classifier__criterion=gini, classifier__max_depth=10, classifier__max_features=sqrt, classifier__n_estimators=200, total=   1.3s\n",
      "[CV] classifier__criterion=gini, classifier__max_depth=10, classifier__max_features=sqrt, classifier__n_estimators=200 \n",
      "[CV]  classifier__criterion=gini, classifier__max_depth=10, classifier__max_features=sqrt, classifier__n_estimators=200, total=   1.5s\n",
      "[CV] classifier__criterion=gini, classifier__max_depth=10, classifier__max_features=sqrt, classifier__n_estimators=200 \n",
      "[CV]  classifier__criterion=gini, classifier__max_depth=10, classifier__max_features=sqrt, classifier__n_estimators=200, total=   1.4s\n",
      "[CV] classifier__criterion=gini, classifier__max_depth=10, classifier__max_features=sqrt, classifier__n_estimators=200 \n"
     ]
    },
    {
     "name": "stdout",
     "output_type": "stream",
     "text": [
      "[CV]  classifier__criterion=gini, classifier__max_depth=10, classifier__max_features=sqrt, classifier__n_estimators=200, total=   1.4s\n",
      "[CV] classifier__criterion=gini, classifier__max_depth=10, classifier__max_features=sqrt, classifier__n_estimators=200 \n",
      "[CV]  classifier__criterion=gini, classifier__max_depth=10, classifier__max_features=sqrt, classifier__n_estimators=200, total=   1.3s\n",
      "[CV] classifier__criterion=gini, classifier__max_depth=10, classifier__max_features=log2, classifier__n_estimators=100 \n",
      "[CV]  classifier__criterion=gini, classifier__max_depth=10, classifier__max_features=log2, classifier__n_estimators=100, total=   0.6s\n",
      "[CV] classifier__criterion=gini, classifier__max_depth=10, classifier__max_features=log2, classifier__n_estimators=100 \n",
      "[CV]  classifier__criterion=gini, classifier__max_depth=10, classifier__max_features=log2, classifier__n_estimators=100, total=   0.6s\n",
      "[CV] classifier__criterion=gini, classifier__max_depth=10, classifier__max_features=log2, classifier__n_estimators=100 \n",
      "[CV]  classifier__criterion=gini, classifier__max_depth=10, classifier__max_features=log2, classifier__n_estimators=100, total=   0.6s\n",
      "[CV] classifier__criterion=gini, classifier__max_depth=10, classifier__max_features=log2, classifier__n_estimators=100 \n",
      "[CV]  classifier__criterion=gini, classifier__max_depth=10, classifier__max_features=log2, classifier__n_estimators=100, total=   0.6s\n",
      "[CV] classifier__criterion=gini, classifier__max_depth=10, classifier__max_features=log2, classifier__n_estimators=100 \n",
      "[CV]  classifier__criterion=gini, classifier__max_depth=10, classifier__max_features=log2, classifier__n_estimators=100, total=   0.6s\n",
      "[CV] classifier__criterion=gini, classifier__max_depth=10, classifier__max_features=log2, classifier__n_estimators=150 \n",
      "[CV]  classifier__criterion=gini, classifier__max_depth=10, classifier__max_features=log2, classifier__n_estimators=150, total=   0.8s\n",
      "[CV] classifier__criterion=gini, classifier__max_depth=10, classifier__max_features=log2, classifier__n_estimators=150 \n",
      "[CV]  classifier__criterion=gini, classifier__max_depth=10, classifier__max_features=log2, classifier__n_estimators=150, total=   0.8s\n",
      "[CV] classifier__criterion=gini, classifier__max_depth=10, classifier__max_features=log2, classifier__n_estimators=150 \n",
      "[CV]  classifier__criterion=gini, classifier__max_depth=10, classifier__max_features=log2, classifier__n_estimators=150, total=   0.8s\n",
      "[CV] classifier__criterion=gini, classifier__max_depth=10, classifier__max_features=log2, classifier__n_estimators=150 \n",
      "[CV]  classifier__criterion=gini, classifier__max_depth=10, classifier__max_features=log2, classifier__n_estimators=150, total=   0.8s\n",
      "[CV] classifier__criterion=gini, classifier__max_depth=10, classifier__max_features=log2, classifier__n_estimators=150 \n",
      "[CV]  classifier__criterion=gini, classifier__max_depth=10, classifier__max_features=log2, classifier__n_estimators=150, total=   0.9s\n",
      "[CV] classifier__criterion=gini, classifier__max_depth=10, classifier__max_features=log2, classifier__n_estimators=200 \n",
      "[CV]  classifier__criterion=gini, classifier__max_depth=10, classifier__max_features=log2, classifier__n_estimators=200, total=   1.1s\n",
      "[CV] classifier__criterion=gini, classifier__max_depth=10, classifier__max_features=log2, classifier__n_estimators=200 \n",
      "[CV]  classifier__criterion=gini, classifier__max_depth=10, classifier__max_features=log2, classifier__n_estimators=200, total=   1.1s\n",
      "[CV] classifier__criterion=gini, classifier__max_depth=10, classifier__max_features=log2, classifier__n_estimators=200 \n",
      "[CV]  classifier__criterion=gini, classifier__max_depth=10, classifier__max_features=log2, classifier__n_estimators=200, total=   1.1s\n",
      "[CV] classifier__criterion=gini, classifier__max_depth=10, classifier__max_features=log2, classifier__n_estimators=200 \n",
      "[CV]  classifier__criterion=gini, classifier__max_depth=10, classifier__max_features=log2, classifier__n_estimators=200, total=   1.1s\n",
      "[CV] classifier__criterion=gini, classifier__max_depth=10, classifier__max_features=log2, classifier__n_estimators=200 \n",
      "[CV]  classifier__criterion=gini, classifier__max_depth=10, classifier__max_features=log2, classifier__n_estimators=200, total=   1.0s\n"
     ]
    },
    {
     "name": "stderr",
     "output_type": "stream",
     "text": [
      "[Parallel(n_jobs=1)]: Done 180 out of 180 | elapsed:  2.9min finished\n"
     ]
    }
   ],
   "source": [
    "tbtoh = TrainBothTestOriginalHoldout(y_column='income', random_state=42)\n",
    "tbtoh.fit(df_original, df_synth)"
   ]
  },
  {
   "cell_type": "markdown",
   "metadata": {},
   "source": [
    "We unfortunately didn't create a test dataset before generating the data. Hence, for this example we use the original dataset as the test data (not advised - will be adapted later)."
   ]
  },
  {
   "cell_type": "code",
   "execution_count": 74,
   "metadata": {},
   "outputs": [
    {
     "data": {
      "text/plain": [
       "{'roc_auc_original': 0.857780971649726,\n",
       " 'roc_auc_synthetic': 0.8462880318746082}"
      ]
     },
     "execution_count": 74,
     "metadata": {},
     "output_type": "execute_result"
    }
   ],
   "source": [
    "df_original_test = df_original.copy()\n",
    "tbtoh.score(df_original_test)"
   ]
  },
  {
   "cell_type": "code",
   "execution_count": 77,
   "metadata": {},
   "outputs": [
    {
     "data": {
      "image/png": "[encoded data removed]",
      "text/plain": [
       "<Figure size 432x288 with 1 Axes>"
      ]
     },
     "metadata": {
      "needs_background": "light"
     },
     "output_type": "display_data"
    }
   ],
   "source": [
    "tbtoh.plot(df_original_test)"
   ]
  },
  {
   "cell_type": "code",
   "execution_count": null,
   "metadata": {},
   "outputs": [],
   "source": []
  }
 ],
 "metadata": {
  "kernelspec": {
   "display_name": "Python 3",
   "language": "python",
   "name": "python3"
  },
  "language_info": {
   "codemirror_mode": {
    "name": "ipython",
    "version": 3
   },
   "file_extension": ".py",
   "mimetype": "text/x-python",
   "name": "python",
   "nbconvert_exporter": "python",
   "pygments_lexer": "ipython3",
   "version": "3.8.5"
  },
  "toc": {
   "base_numbering": 1,
   "nav_menu": {},
   "number_sections": true,
   "sideBar": true,
   "skip_h1_title": false,
   "title_cell": "Table of Contents",
   "title_sidebar": "Contents",
   "toc_cell": false,
   "toc_position": {},
   "toc_section_display": true,
   "toc_window_display": false
  },
  "varInspector": {
   "cols": {
    "lenName": 16,
    "lenType": 16,
    "lenVar": 40
   },
   "kernels_config": {
    "python": {
     "delete_cmd_postfix": "",
     "delete_cmd_prefix": "del ",
     "library": "var_list.py",
     "varRefreshCmd": "print(var_dic_list())"
    },
    "r": {
     "delete_cmd_postfix": ") ",
     "delete_cmd_prefix": "rm(",
     "library": "var_list.r",
     "varRefreshCmd": "cat(var_dic_list()) "
    }
   },
   "types_to_exclude": [
    "module",
    "function",
    "builtin_function_or_method",
    "instance",
    "_Feature"
   ],
   "window_display": false
  }
 },
 "nbformat": 4,
 "nbformat_minor": 4
}

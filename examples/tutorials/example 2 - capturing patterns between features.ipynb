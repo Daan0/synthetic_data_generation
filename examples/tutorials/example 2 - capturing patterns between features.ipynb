{
 "cells": [
  {
   "cell_type": "markdown",
   "metadata": {},
   "source": [
    "# Example 2: Capturing patterns between features (PrivBayes)\n",
    "In this notebook we will explore a more sophisticated algorithm that aims to capture patterns between features."
   ]
  },
  {
   "cell_type": "markdown",
   "metadata": {},
   "source": [
    "# Environment"
   ]
  },
  {
   "cell_type": "markdown",
   "metadata": {},
   "source": [
    "## Library Imports"
   ]
  },
  {
   "cell_type": "code",
   "execution_count": 4,
   "metadata": {},
   "outputs": [],
   "source": [
    "import numpy as np\n",
    "import pandas as pd\n",
    "from pathlib import Path\n",
    "import os\n",
    "import sys\n",
    "module_path = os.path.abspath(os.path.join('../..'))\n",
    "if module_path not in sys.path:\n",
    "    sys.path.append(module_path)"
   ]
  },
  {
   "cell_type": "markdown",
   "metadata": {},
   "source": [
    "## Jupyter-specific Imports and Settings"
   ]
  },
  {
   "cell_type": "code",
   "execution_count": 5,
   "metadata": {},
   "outputs": [],
   "source": [
    "# set printing options\n",
    "np.set_printoptions(threshold=sys.maxsize)\n",
    "pd.set_option('display.max_rows', 500)\n",
    "pd.set_option('display.max_columns', 500)\n",
    "pd.set_option('display.width', 1000)\n",
    "pd.set_option('display.expand_frame_repr', False)\n",
    "\n",
    "# Display all cell outputs\n",
    "from IPython.core.interactiveshell import InteractiveShell\n",
    "InteractiveShell.ast_node_interactivity = 'all'\n",
    "\n",
    "from IPython import get_ipython\n",
    "ipython = get_ipython()\n",
    "\n",
    "# autoreload extension\n",
    "if 'autoreload' not in ipython.extension_manager.loaded:\n",
    "    get_ipython().run_line_magic('load_ext', 'autoreload')\n",
    "\n",
    "get_ipython().run_line_magic('autoreload', '2')\n",
    "from importlib import reload"
   ]
  },
  {
   "cell_type": "markdown",
   "metadata": {},
   "source": [
    "## Import Synthesizer\n",
    "For this example we will use the PrivBayes algorithm (Zhang et al, 2017). PrivBayes approximates the original data through a private Bayesian network with noisy conditional distributions. This network is a direct-acyclic graph (DAG), as such, for each record the algorithm samples a column value node by node while conditioning for the parent's nodes.\n",
    "\n",
    "One caveat of algorithms that try to capture patterns between features, like PrivBayes, is that they are computationally expensive. Hence, for optimal performance we focus on categorical data with a low number of columns and column cardinalities."
   ]
  },
  {
   "cell_type": "code",
   "execution_count": 3,
   "metadata": {},
   "outputs": [],
   "source": [
    "from synthesis.bayes_synthesis import PrivBayes"
   ]
  },
  {
   "cell_type": "markdown",
   "metadata": {},
   "source": [
    "# Synthetic Data Generation\n",
    "Let's load a dataset to see how the generation process works.\n",
    "\n",
    "In this example we will use the adult dataset - source: https://archive.ics.uci.edu/ml/datasets/adult"
   ]
  },
  {
   "cell_type": "code",
   "execution_count": 6,
   "metadata": {},
   "outputs": [
    {
     "data": {
      "text/html": [
       "<div>\n",
       "<style scoped>\n",
       "    .dataframe tbody tr th:only-of-type {\n",
       "        vertical-align: middle;\n",
       "    }\n",
       "\n",
       "    .dataframe tbody tr th {\n",
       "        vertical-align: top;\n",
       "    }\n",
       "\n",
       "    .dataframe thead th {\n",
       "        text-align: right;\n",
       "    }\n",
       "</style>\n",
       "<table border=\"1\" class=\"dataframe\">\n",
       "  <thead>\n",
       "    <tr style=\"text-align: right;\">\n",
       "      <th></th>\n",
       "      <th>age</th>\n",
       "      <th>workclass</th>\n",
       "      <th>fnlwgt</th>\n",
       "      <th>education</th>\n",
       "      <th>education-num</th>\n",
       "      <th>marital-status</th>\n",
       "      <th>occupation</th>\n",
       "      <th>relationship</th>\n",
       "      <th>race</th>\n",
       "      <th>sex</th>\n",
       "      <th>capital-gain</th>\n",
       "      <th>capital-loss</th>\n",
       "      <th>hours-per-week</th>\n",
       "      <th>native-country</th>\n",
       "      <th>income</th>\n",
       "    </tr>\n",
       "  </thead>\n",
       "  <tbody>\n",
       "    <tr>\n",
       "      <th>0</th>\n",
       "      <td>39</td>\n",
       "      <td>State-gov</td>\n",
       "      <td>77516</td>\n",
       "      <td>Bachelors</td>\n",
       "      <td>13</td>\n",
       "      <td>Never-married</td>\n",
       "      <td>Adm-clerical</td>\n",
       "      <td>Not-in-family</td>\n",
       "      <td>White</td>\n",
       "      <td>Male</td>\n",
       "      <td>2174</td>\n",
       "      <td>0</td>\n",
       "      <td>40</td>\n",
       "      <td>United-States</td>\n",
       "      <td>&lt;=50K</td>\n",
       "    </tr>\n",
       "    <tr>\n",
       "      <th>1</th>\n",
       "      <td>50</td>\n",
       "      <td>Self-emp-not-inc</td>\n",
       "      <td>83311</td>\n",
       "      <td>Bachelors</td>\n",
       "      <td>13</td>\n",
       "      <td>Married-civ-spouse</td>\n",
       "      <td>Exec-managerial</td>\n",
       "      <td>Husband</td>\n",
       "      <td>White</td>\n",
       "      <td>Male</td>\n",
       "      <td>0</td>\n",
       "      <td>0</td>\n",
       "      <td>13</td>\n",
       "      <td>United-States</td>\n",
       "      <td>&lt;=50K</td>\n",
       "    </tr>\n",
       "    <tr>\n",
       "      <th>2</th>\n",
       "      <td>38</td>\n",
       "      <td>Private</td>\n",
       "      <td>215646</td>\n",
       "      <td>HS-grad</td>\n",
       "      <td>9</td>\n",
       "      <td>Divorced</td>\n",
       "      <td>Handlers-cleaners</td>\n",
       "      <td>Not-in-family</td>\n",
       "      <td>White</td>\n",
       "      <td>Male</td>\n",
       "      <td>0</td>\n",
       "      <td>0</td>\n",
       "      <td>40</td>\n",
       "      <td>United-States</td>\n",
       "      <td>&lt;=50K</td>\n",
       "    </tr>\n",
       "    <tr>\n",
       "      <th>3</th>\n",
       "      <td>53</td>\n",
       "      <td>Private</td>\n",
       "      <td>234721</td>\n",
       "      <td>11th</td>\n",
       "      <td>7</td>\n",
       "      <td>Married-civ-spouse</td>\n",
       "      <td>Handlers-cleaners</td>\n",
       "      <td>Husband</td>\n",
       "      <td>Black</td>\n",
       "      <td>Male</td>\n",
       "      <td>0</td>\n",
       "      <td>0</td>\n",
       "      <td>40</td>\n",
       "      <td>United-States</td>\n",
       "      <td>&lt;=50K</td>\n",
       "    </tr>\n",
       "    <tr>\n",
       "      <th>4</th>\n",
       "      <td>28</td>\n",
       "      <td>Private</td>\n",
       "      <td>338409</td>\n",
       "      <td>Bachelors</td>\n",
       "      <td>13</td>\n",
       "      <td>Married-civ-spouse</td>\n",
       "      <td>Prof-specialty</td>\n",
       "      <td>Wife</td>\n",
       "      <td>Black</td>\n",
       "      <td>Female</td>\n",
       "      <td>0</td>\n",
       "      <td>0</td>\n",
       "      <td>40</td>\n",
       "      <td>Cuba</td>\n",
       "      <td>&lt;=50K</td>\n",
       "    </tr>\n",
       "  </tbody>\n",
       "</table>\n",
       "</div>"
      ],
      "text/plain": [
       "   age         workclass  fnlwgt  education  education-num      marital-status         occupation   relationship   race     sex  capital-gain  capital-loss  hours-per-week native-country income\n",
       "0   39         State-gov   77516  Bachelors             13       Never-married       Adm-clerical  Not-in-family  White    Male          2174             0              40  United-States  <=50K\n",
       "1   50  Self-emp-not-inc   83311  Bachelors             13  Married-civ-spouse    Exec-managerial        Husband  White    Male             0             0              13  United-States  <=50K\n",
       "2   38           Private  215646    HS-grad              9            Divorced  Handlers-cleaners  Not-in-family  White    Male             0             0              40  United-States  <=50K\n",
       "3   53           Private  234721       11th              7  Married-civ-spouse  Handlers-cleaners        Husband  Black    Male             0             0              40  United-States  <=50K\n",
       "4   28           Private  338409  Bachelors             13  Married-civ-spouse     Prof-specialty           Wife  Black  Female             0             0              40           Cuba  <=50K"
      ]
     },
     "execution_count": 6,
     "metadata": {},
     "output_type": "execute_result"
    }
   ],
   "source": [
    "df = pd.read_csv('../data/input/adult.csv', delimiter=', ', engine='python')\n",
    "df.head()"
   ]
  },
  {
   "cell_type": "markdown",
   "metadata": {},
   "source": [
    "Unfortunately the algorithm PrivBayes does not support continuous data very well, as the conditional probability tables can become very large. We can either discretize continuous variables or remove them from the data. For sake of simplicity we choose to remove them."
   ]
  },
  {
   "cell_type": "code",
   "execution_count": 11,
   "metadata": {},
   "outputs": [
    {
     "name": "stdout",
     "output_type": "stream",
     "text": [
      "column - unique values\n",
      "\n",
      "age - 73\n",
      "workclass - 9\n",
      "fnlwgt - 21648\n",
      "education - 16\n",
      "education-num - 16\n",
      "marital-status - 7\n",
      "occupation - 15\n",
      "relationship - 6\n",
      "race - 5\n",
      "sex - 2\n",
      "capital-gain - 119\n",
      "capital-loss - 92\n",
      "hours-per-week - 94\n",
      "native-country - 42\n",
      "income - 2\n"
     ]
    }
   ],
   "source": [
    "print('column - unique values\\n')\n",
    "for c in df.columns:\n",
    "    print(\"{} - {}\".format(c, df[c].nunique()))"
   ]
  },
  {
   "cell_type": "code",
   "execution_count": 12,
   "metadata": {},
   "outputs": [],
   "source": [
    "df = df.drop(columns=['fnlwgt', 'capital-gain', 'capital-loss'])"
   ]
  },
  {
   "cell_type": "markdown",
   "metadata": {},
   "source": [
    "We will now import our synthesizer and fit it on the input data. \n",
    "\n",
    "We can define a large of range of parameters, but for now we only define the epsilon value and set the remaining parameters to their default value.\n",
    "- espilon: quantifies the privacy risk posed by releasing statistics computed on sensitive data (i.e. differential privacy). More on that here: https://www.cis.upenn.edu/~aaroth/Papers/privacybook.pdf"
   ]
  },
  {
   "cell_type": "code",
   "execution_count": 14,
   "metadata": {},
   "outputs": [
    {
     "name": "stdout",
     "output_type": "stream",
     "text": [
      "Degree of network (k): 3\n",
      "\n",
      "1/12 - Root of network: marital-status\n",
      "\n",
      "2/12 - Evaluating next node to add to network\n",
      "Number of NodeParentPair candidates: 11\n",
      "Selected node: hours-per-week - with parents: ('marital-status',)\n",
      "\n",
      "3/12 - Evaluating next node to add to network\n",
      "Number of NodeParentPair candidates: 10\n",
      "Selected node: occupation - with parents: ('hours-per-week', 'marital-status')\n",
      "\n",
      "4/12 - Evaluating next node to add to network\n",
      "Number of NodeParentPair candidates: 9\n",
      "Selected node: sex - with parents: ('hours-per-week', 'marital-status', 'occupation')\n",
      "\n",
      "5/12 - Evaluating next node to add to network\n",
      "Number of NodeParentPair candidates: 32\n",
      "Selected node: income - with parents: ('hours-per-week', 'sex', 'occupation')\n",
      "\n",
      "6/12 - Evaluating next node to add to network\n",
      "Number of NodeParentPair candidates: 70\n",
      "Selected node: relationship - with parents: ('marital-status', 'hours-per-week', 'income')\n",
      "\n",
      "7/12 - Evaluating next node to add to network\n",
      "Number of NodeParentPair candidates: 120\n",
      "Selected node: education-num - with parents: ('marital-status', 'occupation', 'hours-per-week')\n",
      "\n",
      "8/12 - Evaluating next node to add to network\n",
      "Number of NodeParentPair candidates: 175\n",
      "Selected node: race - with parents: ('marital-status', 'occupation', 'income')\n",
      "\n",
      "9/12 - Evaluating next node to add to network\n",
      "Number of NodeParentPair candidates: 224\n",
      "Selected node: workclass - with parents: ('occupation', 'hours-per-week', 'relationship')\n",
      "\n",
      "10/12 - Evaluating next node to add to network\n",
      "Number of NodeParentPair candidates: 252\n",
      "Selected node: age - with parents: ('race', 'workclass', 'income')\n",
      "\n",
      "11/12 - Evaluating next node to add to network\n",
      "Number of NodeParentPair candidates: 240\n",
      "Selected node: native-country - with parents: ('race', 'sex', 'education-num')\n",
      "\n",
      "12/12 - Evaluating next node to add to network\n",
      "Number of NodeParentPair candidates: 165\n",
      "Selected node: education - with parents: ('marital-status', 'native-country', 'income')\n",
      "\n",
      "Learned Network Structure\n",
      "\n",
      "Learning conditional probabilities: sex - with parents ('hours-per-week', 'marital-status', 'occupation') ~ estimated size: 19740\n",
      "Learning conditional probabilities: income - with parents ('hours-per-week', 'sex', 'occupation') ~ estimated size: 5640\n",
      "Learning conditional probabilities: relationship - with parents ('marital-status', 'hours-per-week', 'income') ~ estimated size: 7896\n",
      "Learning conditional probabilities: education-num - with parents ('marital-status', 'occupation', 'hours-per-week') ~ estimated size: 157920\n",
      "Learning conditional probabilities: race - with parents ('marital-status', 'occupation', 'income') ~ estimated size: 1050\n",
      "Learning conditional probabilities: workclass - with parents ('occupation', 'hours-per-week', 'relationship') ~ estimated size: 76140\n",
      "Learning conditional probabilities: age - with parents ('race', 'workclass', 'income') ~ estimated size: 6570\n",
      "Learning conditional probabilities: native-country - with parents ('race', 'sex', 'education-num') ~ estimated size: 6720\n",
      "Learning conditional probabilities: education - with parents ('marital-status', 'native-country', 'income') ~ estimated size: 9408\n",
      "Learning conditional probabilities: occupation - with parents ('hours-per-week', 'marital-status') ~ estimated size: 9870\n",
      "Learning conditional probabilities: hours-per-week - with parents ('marital-status',) ~ estimated size: 658\n",
      "Learning conditional probabilities: marital-status - with parents None ~ estimated size: 7\n"
     ]
    },
    {
     "data": {
      "text/plain": [
       "PrivBayes(degree_network=3, epsilon=0.1, epsilon_split=[0.4, 0.6])"
      ]
     },
     "execution_count": 14,
     "metadata": {},
     "output_type": "execute_result"
    }
   ],
   "source": [
    "epsilon = 0.1\n",
    "\n",
    "pb = PrivBayes(epsilon=epsilon)\n",
    "pb.fit(df)"
   ]
  },
  {
   "cell_type": "markdown",
   "metadata": {},
   "source": [
    "After fitting the Bayesian Network on the data, we can now sample from it using the following method."
   ]
  },
  {
   "cell_type": "code",
   "execution_count": 15,
   "metadata": {},
   "outputs": [
    {
     "name": "stdout",
     "output_type": "stream",
     "text": [
      "Number of records generated: 32561 / 32561\n",
      "Synthetic Data Generated\n",
      "\n"
     ]
    }
   ],
   "source": [
    "df_synth = pb.transform(df)"
   ]
  },
  {
   "cell_type": "code",
   "execution_count": 20,
   "metadata": {},
   "outputs": [
    {
     "data": {
      "text/html": [
       "<div>\n",
       "<style scoped>\n",
       "    .dataframe tbody tr th:only-of-type {\n",
       "        vertical-align: middle;\n",
       "    }\n",
       "\n",
       "    .dataframe tbody tr th {\n",
       "        vertical-align: top;\n",
       "    }\n",
       "\n",
       "    .dataframe thead th {\n",
       "        text-align: right;\n",
       "    }\n",
       "</style>\n",
       "<table border=\"1\" class=\"dataframe\">\n",
       "  <thead>\n",
       "    <tr style=\"text-align: right;\">\n",
       "      <th></th>\n",
       "      <th>age</th>\n",
       "      <th>workclass</th>\n",
       "      <th>education</th>\n",
       "      <th>education-num</th>\n",
       "      <th>marital-status</th>\n",
       "      <th>occupation</th>\n",
       "      <th>relationship</th>\n",
       "      <th>race</th>\n",
       "      <th>sex</th>\n",
       "      <th>hours-per-week</th>\n",
       "      <th>native-country</th>\n",
       "      <th>income</th>\n",
       "    </tr>\n",
       "  </thead>\n",
       "  <tbody>\n",
       "    <tr>\n",
       "      <th>0</th>\n",
       "      <td>90</td>\n",
       "      <td>State-gov</td>\n",
       "      <td>Some-college</td>\n",
       "      <td>10</td>\n",
       "      <td>Widowed</td>\n",
       "      <td>Machine-op-inspct</td>\n",
       "      <td>Own-child</td>\n",
       "      <td>Other</td>\n",
       "      <td>Male</td>\n",
       "      <td>13</td>\n",
       "      <td>Scotland</td>\n",
       "      <td>&lt;=50K</td>\n",
       "    </tr>\n",
       "    <tr>\n",
       "      <th>1</th>\n",
       "      <td>62</td>\n",
       "      <td>State-gov</td>\n",
       "      <td>Masters</td>\n",
       "      <td>15</td>\n",
       "      <td>Never-married</td>\n",
       "      <td>Armed-Forces</td>\n",
       "      <td>Unmarried</td>\n",
       "      <td>Other</td>\n",
       "      <td>Male</td>\n",
       "      <td>49</td>\n",
       "      <td>Holand-Netherlands</td>\n",
       "      <td>&lt;=50K</td>\n",
       "    </tr>\n",
       "    <tr>\n",
       "      <th>2</th>\n",
       "      <td>51</td>\n",
       "      <td>Without-pay</td>\n",
       "      <td>Bachelors</td>\n",
       "      <td>14</td>\n",
       "      <td>Separated</td>\n",
       "      <td>Prof-specialty</td>\n",
       "      <td>Other-relative</td>\n",
       "      <td>Amer-Indian-Eskimo</td>\n",
       "      <td>Male</td>\n",
       "      <td>91</td>\n",
       "      <td>South</td>\n",
       "      <td>&gt;50K</td>\n",
       "    </tr>\n",
       "  </tbody>\n",
       "</table>\n",
       "</div>"
      ],
      "text/plain": [
       "  age    workclass     education education-num marital-status         occupation    relationship                race   sex hours-per-week      native-country income\n",
       "0  90    State-gov  Some-college            10        Widowed  Machine-op-inspct       Own-child               Other  Male             13            Scotland  <=50K\n",
       "1  62    State-gov       Masters            15  Never-married       Armed-Forces       Unmarried               Other  Male             49  Holand-Netherlands  <=50K\n",
       "2  51  Without-pay     Bachelors            14      Separated     Prof-specialty  Other-relative  Amer-Indian-Eskimo  Male             91               South   >50K"
      ]
     },
     "execution_count": 20,
     "metadata": {},
     "output_type": "execute_result"
    }
   ],
   "source": [
    "df_synth.head(3)"
   ]
  },
  {
   "cell_type": "markdown",
   "metadata": {},
   "source": [
    "# Utility Evaluation\n",
    "NOTE: this section will be extended in the near future.\n",
    "\n",
    "In order to evaluate the output we can examine the feature distances for each attribute, i.e. we compares the value counts for each column in the original with the synthetic dataset."
   ]
  },
  {
   "cell_type": "code",
   "execution_count": 6,
   "metadata": {},
   "outputs": [],
   "source": [
    "from synthesis.evaluation import visual"
   ]
  },
  {
   "cell_type": "code",
   "execution_count": 19,
   "metadata": {},
   "outputs": [
    {
     "data": {
      "image/png": "[encoded data removed]",
      "text/plain": [
       "<Figure size 432x288 with 1 Axes>"
      ]
     },
     "metadata": {
      "needs_background": "light"
     },
     "output_type": "display_data"
    }
   ],
   "source": [
    "visual.plot_feature_distances(df, df_synth)"
   ]
  },
  {
   "cell_type": "markdown",
   "metadata": {},
   "source": [
    "Notice that for each feature independently the synthetic data has quite a large distance to the original data. In the future we would like to evaluate if relations between features are preserved."
   ]
  },
  {
   "cell_type": "code",
   "execution_count": null,
   "metadata": {},
   "outputs": [],
   "source": []
  }
 ],
 "metadata": {
  "kernelspec": {
   "display_name": "Python 3",
   "language": "python",
   "name": "python3"
  },
  "language_info": {
   "codemirror_mode": {
    "name": "ipython",
    "version": 3
   },
   "file_extension": ".py",
   "mimetype": "text/x-python",
   "name": "python",
   "nbconvert_exporter": "python",
   "pygments_lexer": "ipython3",
   "version": "3.8.5"
  },
  "toc": {
   "base_numbering": 1,
   "nav_menu": {},
   "number_sections": true,
   "sideBar": true,
   "skip_h1_title": false,
   "title_cell": "Table of Contents",
   "title_sidebar": "Contents",
   "toc_cell": false,
   "toc_position": {},
   "toc_section_display": true,
   "toc_window_display": false
  }
 },
 "nbformat": 4,
 "nbformat_minor": 4
}

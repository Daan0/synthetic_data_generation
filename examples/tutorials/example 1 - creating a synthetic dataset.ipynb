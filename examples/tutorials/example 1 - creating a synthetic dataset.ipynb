{
 "cells": [
  {
   "cell_type": "markdown",
   "metadata": {},
   "source": [
    "# Example 1: Creating a Synthetic Dataset\n",
    "In this notebook we show you how to create a simple synthetic dataset."
   ]
  },
  {
   "cell_type": "markdown",
   "metadata": {},
   "source": [
    "# Environment"
   ]
  },
  {
   "cell_type": "markdown",
   "metadata": {},
   "source": [
    "## Library Imports"
   ]
  },
  {
   "cell_type": "code",
   "execution_count": 5,
   "metadata": {},
   "outputs": [],
   "source": [
    "import numpy as np\n",
    "import pandas as pd\n",
    "from pathlib import Path\n",
    "import os\n",
    "import sys\n",
    "module_path = os.path.abspath(os.path.join('../..'))\n",
    "if module_path not in sys.path:\n",
    "    sys.path.append(module_path)"
   ]
  },
  {
   "cell_type": "markdown",
   "metadata": {},
   "source": [
    "## Jupyter-specific Imports and Settings"
   ]
  },
  {
   "cell_type": "code",
   "execution_count": 2,
   "metadata": {},
   "outputs": [],
   "source": [
    "# set printing options\n",
    "np.set_printoptions(threshold=sys.maxsize)\n",
    "pd.set_option('display.max_rows', 500)\n",
    "pd.set_option('display.max_columns', 500)\n",
    "pd.set_option('display.width', 1000)\n",
    "pd.set_option('display.expand_frame_repr', False)\n",
    "\n",
    "# Display all cell outputs\n",
    "from IPython.core.interactiveshell import InteractiveShell\n",
    "InteractiveShell.ast_node_interactivity = 'all'\n",
    "\n",
    "from IPython import get_ipython\n",
    "ipython = get_ipython()\n",
    "\n",
    "# autoreload extension\n",
    "if 'autoreload' not in ipython.extension_manager.loaded:\n",
    "    get_ipython().run_line_magic('load_ext', 'autoreload')\n",
    "\n",
    "get_ipython().run_line_magic('autoreload', '2')\n",
    "from importlib import reload"
   ]
  },
  {
   "cell_type": "markdown",
   "metadata": {},
   "source": [
    "## Library Imports\n",
    "For this example we will use the MarginalSynthesizer algorithm. As the name suggest this algorithms generates data based on the marginal distributions of each column that exists in the input dataset. In other words. the output synthetic data will have similar counts for each feature, but the relations between features are likely not preserved. Hence, this approach is rather naive as it does intend to preserve statistical patterns between columns. However, it will work with datasets of any shape or size - and run relatively quickly as well. "
   ]
  },
  {
   "cell_type": "code",
   "execution_count": 25,
   "metadata": {},
   "outputs": [],
   "source": [
    "import synthesis.hist_synthesis"
   ]
  },
  {
   "cell_type": "code",
   "execution_count": 27,
   "metadata": {},
   "outputs": [
    {
     "data": {
      "text/plain": [
       "<module 'synthesis.hist_synthesis' from 'C:\\\\Users\\\\dkn1904.51564\\\\DataScience\\\\Projects\\\\synthetic_data_generation\\\\synthetic_data_generation\\\\synthesis\\\\hist_synthesis.py'>"
      ]
     },
     "execution_count": 27,
     "metadata": {},
     "output_type": "execute_result"
    }
   ],
   "source": [
    "reload(synthesis.hist_synthesis.)"
   ]
  },
  {
   "cell_type": "code",
   "execution_count": 28,
   "metadata": {},
   "outputs": [],
   "source": [
    "from synthesis.hist_synthesis import MarginalSynthesizer"
   ]
  },
  {
   "cell_type": "markdown",
   "metadata": {},
   "source": [
    "# Synthetic Data Generation\n",
    "Let's load a dataset to see how the generation process works.\n",
    "\n",
    "In this case, we will use the adult dataset - source: https://archive.ics.uci.edu/ml/datasets/adult"
   ]
  },
  {
   "cell_type": "code",
   "execution_count": 29,
   "metadata": {},
   "outputs": [
    {
     "data": {
      "text/html": [
       "<div>\n",
       "<style scoped>\n",
       "    .dataframe tbody tr th:only-of-type {\n",
       "        vertical-align: middle;\n",
       "    }\n",
       "\n",
       "    .dataframe tbody tr th {\n",
       "        vertical-align: top;\n",
       "    }\n",
       "\n",
       "    .dataframe thead th {\n",
       "        text-align: right;\n",
       "    }\n",
       "</style>\n",
       "<table border=\"1\" class=\"dataframe\">\n",
       "  <thead>\n",
       "    <tr style=\"text-align: right;\">\n",
       "      <th></th>\n",
       "      <th>age</th>\n",
       "      <th>workclass</th>\n",
       "      <th>fnlwgt</th>\n",
       "      <th>education</th>\n",
       "      <th>education-num</th>\n",
       "      <th>marital-status</th>\n",
       "      <th>occupation</th>\n",
       "      <th>relationship</th>\n",
       "      <th>race</th>\n",
       "      <th>sex</th>\n",
       "      <th>capital-gain</th>\n",
       "      <th>capital-loss</th>\n",
       "      <th>hours-per-week</th>\n",
       "      <th>native-country</th>\n",
       "      <th>income</th>\n",
       "    </tr>\n",
       "  </thead>\n",
       "  <tbody>\n",
       "    <tr>\n",
       "      <th>0</th>\n",
       "      <td>39</td>\n",
       "      <td>State-gov</td>\n",
       "      <td>77516</td>\n",
       "      <td>Bachelors</td>\n",
       "      <td>13</td>\n",
       "      <td>Never-married</td>\n",
       "      <td>Adm-clerical</td>\n",
       "      <td>Not-in-family</td>\n",
       "      <td>White</td>\n",
       "      <td>Male</td>\n",
       "      <td>2174</td>\n",
       "      <td>0</td>\n",
       "      <td>40</td>\n",
       "      <td>United-States</td>\n",
       "      <td>&lt;=50K</td>\n",
       "    </tr>\n",
       "    <tr>\n",
       "      <th>1</th>\n",
       "      <td>50</td>\n",
       "      <td>Self-emp-not-inc</td>\n",
       "      <td>83311</td>\n",
       "      <td>Bachelors</td>\n",
       "      <td>13</td>\n",
       "      <td>Married-civ-spouse</td>\n",
       "      <td>Exec-managerial</td>\n",
       "      <td>Husband</td>\n",
       "      <td>White</td>\n",
       "      <td>Male</td>\n",
       "      <td>0</td>\n",
       "      <td>0</td>\n",
       "      <td>13</td>\n",
       "      <td>United-States</td>\n",
       "      <td>&lt;=50K</td>\n",
       "    </tr>\n",
       "    <tr>\n",
       "      <th>2</th>\n",
       "      <td>38</td>\n",
       "      <td>Private</td>\n",
       "      <td>215646</td>\n",
       "      <td>HS-grad</td>\n",
       "      <td>9</td>\n",
       "      <td>Divorced</td>\n",
       "      <td>Handlers-cleaners</td>\n",
       "      <td>Not-in-family</td>\n",
       "      <td>White</td>\n",
       "      <td>Male</td>\n",
       "      <td>0</td>\n",
       "      <td>0</td>\n",
       "      <td>40</td>\n",
       "      <td>United-States</td>\n",
       "      <td>&lt;=50K</td>\n",
       "    </tr>\n",
       "    <tr>\n",
       "      <th>3</th>\n",
       "      <td>53</td>\n",
       "      <td>Private</td>\n",
       "      <td>234721</td>\n",
       "      <td>11th</td>\n",
       "      <td>7</td>\n",
       "      <td>Married-civ-spouse</td>\n",
       "      <td>Handlers-cleaners</td>\n",
       "      <td>Husband</td>\n",
       "      <td>Black</td>\n",
       "      <td>Male</td>\n",
       "      <td>0</td>\n",
       "      <td>0</td>\n",
       "      <td>40</td>\n",
       "      <td>United-States</td>\n",
       "      <td>&lt;=50K</td>\n",
       "    </tr>\n",
       "    <tr>\n",
       "      <th>4</th>\n",
       "      <td>28</td>\n",
       "      <td>Private</td>\n",
       "      <td>338409</td>\n",
       "      <td>Bachelors</td>\n",
       "      <td>13</td>\n",
       "      <td>Married-civ-spouse</td>\n",
       "      <td>Prof-specialty</td>\n",
       "      <td>Wife</td>\n",
       "      <td>Black</td>\n",
       "      <td>Female</td>\n",
       "      <td>0</td>\n",
       "      <td>0</td>\n",
       "      <td>40</td>\n",
       "      <td>Cuba</td>\n",
       "      <td>&lt;=50K</td>\n",
       "    </tr>\n",
       "  </tbody>\n",
       "</table>\n",
       "</div>"
      ],
      "text/plain": [
       "  age         workclass  fnlwgt  education education-num      marital-status         occupation   relationship   race     sex capital-gain capital-loss hours-per-week native-country income\n",
       "0  39         State-gov   77516  Bachelors            13       Never-married       Adm-clerical  Not-in-family  White    Male         2174            0             40  United-States  <=50K\n",
       "1  50  Self-emp-not-inc   83311  Bachelors            13  Married-civ-spouse    Exec-managerial        Husband  White    Male            0            0             13  United-States  <=50K\n",
       "2  38           Private  215646    HS-grad             9            Divorced  Handlers-cleaners  Not-in-family  White    Male            0            0             40  United-States  <=50K\n",
       "3  53           Private  234721       11th             7  Married-civ-spouse  Handlers-cleaners        Husband  Black    Male            0            0             40  United-States  <=50K\n",
       "4  28           Private  338409  Bachelors            13  Married-civ-spouse     Prof-specialty           Wife  Black  Female            0            0             40           Cuba  <=50K"
      ]
     },
     "execution_count": 29,
     "metadata": {},
     "output_type": "execute_result"
    }
   ],
   "source": [
    "df = pd.read_csv('../data/input/adult.csv', delimiter=', ', engine='python').astype(str)\n",
    "df.head()"
   ]
  },
  {
   "cell_type": "markdown",
   "metadata": {},
   "source": [
    "We will now import our synthesizer. \n",
    "\n",
    "Additionally we can specify the 'epsilon' value, which according to the definition of differential privacy is used to quantify the privacy risk posed by releasing statistics computed on sensitive data. More on that here: https://www.cis.upenn.edu/~aaroth/Papers/privacybook.pdf"
   ]
  },
  {
   "cell_type": "code",
   "execution_count": 30,
   "metadata": {},
   "outputs": [
    {
     "name": "stdout",
     "output_type": "stream",
     "text": [
      "Column fitted: age\n",
      "Column fitted: workclass\n",
      "Column fitted: fnlwgt\n",
      "Column fitted: education\n",
      "Column fitted: education-num\n",
      "Column fitted: marital-status\n",
      "Column fitted: occupation\n",
      "Column fitted: relationship\n",
      "Column fitted: race\n",
      "Column fitted: sex\n",
      "Column fitted: capital-gain\n",
      "Column fitted: capital-loss\n",
      "Column fitted: hours-per-week\n",
      "Column fitted: native-country\n",
      "Column fitted: income\n"
     ]
    },
    {
     "data": {
      "text/plain": [
       "MarginalSynthesizer(epsilon=0.1)"
      ]
     },
     "execution_count": 30,
     "metadata": {},
     "output_type": "execute_result"
    }
   ],
   "source": [
    "epsilon = 0.1\n",
    "\n",
    "ms = MarginalSynthesizer(epsilon=0.1)\n",
    "ms.fit(df)"
   ]
  },
  {
   "cell_type": "markdown",
   "metadata": {},
   "source": [
    "After our synthesizer has fitted the structure of the original data source, we can now use it to generate a new dataset."
   ]
  },
  {
   "cell_type": "code",
   "execution_count": 31,
   "metadata": {},
   "outputs": [
    {
     "name": "stdout",
     "output_type": "stream",
     "text": [
      "Column sampled: age\n",
      "Column sampled: workclass\n",
      "Column sampled: fnlwgt\n",
      "Column sampled: education\n",
      "Column sampled: education-num\n",
      "Column sampled: marital-status\n",
      "Column sampled: occupation\n",
      "Column sampled: relationship\n",
      "Column sampled: race\n",
      "Column sampled: sex\n",
      "Column sampled: capital-gain\n",
      "Column sampled: capital-loss\n",
      "Column sampled: hours-per-week\n",
      "Column sampled: native-country\n",
      "Column sampled: income\n"
     ]
    }
   ],
   "source": [
    "df_synth = ms.transform(df)"
   ]
  },
  {
   "cell_type": "markdown",
   "metadata": {},
   "source": [
    "We now obtained a new dataset which looks very similar to the original one."
   ]
  },
  {
   "cell_type": "code",
   "execution_count": 32,
   "metadata": {},
   "outputs": [
    {
     "data": {
      "text/html": [
       "<div>\n",
       "<style scoped>\n",
       "    .dataframe tbody tr th:only-of-type {\n",
       "        vertical-align: middle;\n",
       "    }\n",
       "\n",
       "    .dataframe tbody tr th {\n",
       "        vertical-align: top;\n",
       "    }\n",
       "\n",
       "    .dataframe thead th {\n",
       "        text-align: right;\n",
       "    }\n",
       "</style>\n",
       "<table border=\"1\" class=\"dataframe\">\n",
       "  <thead>\n",
       "    <tr style=\"text-align: right;\">\n",
       "      <th></th>\n",
       "      <th>age</th>\n",
       "      <th>workclass</th>\n",
       "      <th>fnlwgt</th>\n",
       "      <th>education</th>\n",
       "      <th>education-num</th>\n",
       "      <th>marital-status</th>\n",
       "      <th>occupation</th>\n",
       "      <th>relationship</th>\n",
       "      <th>race</th>\n",
       "      <th>sex</th>\n",
       "      <th>capital-gain</th>\n",
       "      <th>capital-loss</th>\n",
       "      <th>hours-per-week</th>\n",
       "      <th>native-country</th>\n",
       "      <th>income</th>\n",
       "    </tr>\n",
       "  </thead>\n",
       "  <tbody>\n",
       "    <tr>\n",
       "      <th>0</th>\n",
       "      <td>38</td>\n",
       "      <td>Self-emp-not-inc</td>\n",
       "      <td>227214</td>\n",
       "      <td>Assoc-acdm</td>\n",
       "      <td>10</td>\n",
       "      <td>Never-married</td>\n",
       "      <td>Exec-managerial</td>\n",
       "      <td>Not-in-family</td>\n",
       "      <td>White</td>\n",
       "      <td>Female</td>\n",
       "      <td>1831</td>\n",
       "      <td>2267</td>\n",
       "      <td>20</td>\n",
       "      <td>United-States</td>\n",
       "      <td>&gt;50K</td>\n",
       "    </tr>\n",
       "    <tr>\n",
       "      <th>1</th>\n",
       "      <td>36</td>\n",
       "      <td>Private</td>\n",
       "      <td>102559</td>\n",
       "      <td>Bachelors</td>\n",
       "      <td>10</td>\n",
       "      <td>Never-married</td>\n",
       "      <td>Sales</td>\n",
       "      <td>Husband</td>\n",
       "      <td>White</td>\n",
       "      <td>Male</td>\n",
       "      <td>0</td>\n",
       "      <td>2267</td>\n",
       "      <td>60</td>\n",
       "      <td>United-States</td>\n",
       "      <td>&lt;=50K</td>\n",
       "    </tr>\n",
       "    <tr>\n",
       "      <th>2</th>\n",
       "      <td>34</td>\n",
       "      <td>Local-gov</td>\n",
       "      <td>94245</td>\n",
       "      <td>Some-college</td>\n",
       "      <td>9</td>\n",
       "      <td>Married-civ-spouse</td>\n",
       "      <td>Craft-repair</td>\n",
       "      <td>Husband</td>\n",
       "      <td>White</td>\n",
       "      <td>Male</td>\n",
       "      <td>0</td>\n",
       "      <td>0</td>\n",
       "      <td>18</td>\n",
       "      <td>United-States</td>\n",
       "      <td>&lt;=50K</td>\n",
       "    </tr>\n",
       "    <tr>\n",
       "      <th>3</th>\n",
       "      <td>21</td>\n",
       "      <td>Local-gov</td>\n",
       "      <td>112900</td>\n",
       "      <td>Bachelors</td>\n",
       "      <td>9</td>\n",
       "      <td>Never-married</td>\n",
       "      <td>Other-service</td>\n",
       "      <td>Husband</td>\n",
       "      <td>White</td>\n",
       "      <td>Male</td>\n",
       "      <td>0</td>\n",
       "      <td>2129</td>\n",
       "      <td>40</td>\n",
       "      <td>United-States</td>\n",
       "      <td>&gt;50K</td>\n",
       "    </tr>\n",
       "    <tr>\n",
       "      <th>4</th>\n",
       "      <td>35</td>\n",
       "      <td>Private</td>\n",
       "      <td>162028</td>\n",
       "      <td>HS-grad</td>\n",
       "      <td>6</td>\n",
       "      <td>Married-civ-spouse</td>\n",
       "      <td>Farming-fishing</td>\n",
       "      <td>Unmarried</td>\n",
       "      <td>Amer-Indian-Eskimo</td>\n",
       "      <td>Male</td>\n",
       "      <td>0</td>\n",
       "      <td>0</td>\n",
       "      <td>38</td>\n",
       "      <td>United-States</td>\n",
       "      <td>&lt;=50K</td>\n",
       "    </tr>\n",
       "  </tbody>\n",
       "</table>\n",
       "</div>"
      ],
      "text/plain": [
       "  age         workclass  fnlwgt     education education-num      marital-status       occupation   relationship                race     sex capital-gain capital-loss hours-per-week native-country income\n",
       "0  38  Self-emp-not-inc  227214    Assoc-acdm            10       Never-married  Exec-managerial  Not-in-family               White  Female         1831         2267             20  United-States   >50K\n",
       "1  36           Private  102559     Bachelors            10       Never-married            Sales        Husband               White    Male            0         2267             60  United-States  <=50K\n",
       "2  34         Local-gov   94245  Some-college             9  Married-civ-spouse     Craft-repair        Husband               White    Male            0            0             18  United-States  <=50K\n",
       "3  21         Local-gov  112900     Bachelors             9       Never-married    Other-service        Husband               White    Male            0         2129             40  United-States   >50K\n",
       "4  35           Private  162028       HS-grad             6  Married-civ-spouse  Farming-fishing      Unmarried  Amer-Indian-Eskimo    Male            0            0             38  United-States  <=50K"
      ]
     },
     "execution_count": 32,
     "metadata": {},
     "output_type": "execute_result"
    }
   ],
   "source": [
    "df_synth.head()"
   ]
  },
  {
   "cell_type": "markdown",
   "metadata": {},
   "source": [
    "# Utlity Evaluation\n",
    "NOTE: this section will be extended in the near future.\n",
    "\n",
    "In order to evaluate the output we can examine the feature distances for each attribute, i.e. we compares the value counts for each column in the original with the synthetic dataset."
   ]
  },
  {
   "cell_type": "code",
   "execution_count": 33,
   "metadata": {},
   "outputs": [],
   "source": [
    "from synthesis.evaluation import visual"
   ]
  },
  {
   "cell_type": "code",
   "execution_count": 34,
   "metadata": {},
   "outputs": [
    {
     "data": {
      "image/png": "[encoded data removed]",
      "text/plain": [
       "<Figure size 432x288 with 1 Axes>"
      ]
     },
     "metadata": {
      "needs_background": "light"
     },
     "output_type": "display_data"
    }
   ],
   "source": [
    "visual.plot_feature_distances(df, df_synth)"
   ]
  },
  {
   "cell_type": "markdown",
   "metadata": {},
   "source": [
    "Just to make sure, let's generate data with a much higher level of epsilon. "
   ]
  },
  {
   "cell_type": "code",
   "execution_count": 48,
   "metadata": {},
   "outputs": [
    {
     "name": "stdout",
     "output_type": "stream",
     "text": [
      "Column fitted: age\n",
      "Column fitted: workclass\n",
      "Column fitted: fnlwgt\n",
      "Column fitted: education\n",
      "Column fitted: education-num\n",
      "Column fitted: marital-status\n",
      "Column fitted: occupation\n",
      "Column fitted: relationship\n",
      "Column fitted: race\n",
      "Column fitted: sex\n",
      "Column fitted: capital-gain\n",
      "Column fitted: capital-loss\n",
      "Column fitted: hours-per-week\n",
      "Column fitted: native-country\n",
      "Column fitted: income\n"
     ]
    },
    {
     "data": {
      "text/plain": [
       "MarginalSynthesizer(epsilon=100)"
      ]
     },
     "execution_count": 48,
     "metadata": {},
     "output_type": "execute_result"
    },
    {
     "name": "stdout",
     "output_type": "stream",
     "text": [
      "Column sampled: age\n",
      "Column sampled: workclass\n",
      "Column sampled: fnlwgt\n",
      "Column sampled: education\n",
      "Column sampled: education-num\n",
      "Column sampled: marital-status\n",
      "Column sampled: occupation\n",
      "Column sampled: relationship\n",
      "Column sampled: race\n",
      "Column sampled: sex\n",
      "Column sampled: capital-gain\n",
      "Column sampled: capital-loss\n",
      "Column sampled: hours-per-week\n",
      "Column sampled: native-country\n",
      "Column sampled: income\n"
     ]
    }
   ],
   "source": [
    "epsilon_100 = 100\n",
    "ms_100 = MarginalSynthesizer(epsilon=epsilon_inf)\n",
    "ms_100.fit(df)\n",
    "df_synth_100 = ms_100.transform(df)"
   ]
  },
  {
   "cell_type": "code",
   "execution_count": 49,
   "metadata": {},
   "outputs": [
    {
     "data": {
      "image/png": "[encoded data removed]",
      "text/plain": [
       "<Figure size 432x288 with 1 Axes>"
      ]
     },
     "metadata": {
      "needs_background": "light"
     },
     "output_type": "display_data"
    }
   ],
   "source": [
    "visual.plot_feature_distances(df, df_synth_100)"
   ]
  },
  {
   "cell_type": "markdown",
   "metadata": {},
   "source": [
    "As we expect, the features are much closer to the original in this synthetic dataset.\n",
    "\n",
    "Notice that fnlwght is a continuous column with many unique values, thus it is unlikely that all of these values are sampled in the synthetic data.\n",
    "\n",
    "We have yet to evaluate the pattern preservation between features, but we do not expect that this particular algorithm will have captured those well."
   ]
  },
  {
   "cell_type": "code",
   "execution_count": 51,
   "metadata": {},
   "outputs": [
    {
     "data": {
      "text/plain": [
       "{'Private': 0.697014914075707,\n",
       " 'Self-emp-not-inc': 0.07804384574146489,\n",
       " 'Local-gov': 0.06427519170679889,\n",
       " '?': 0.056384768617664345,\n",
       " 'State-gov': 0.039855367959152614,\n",
       " 'Self-emp-inc': 0.034257500132935506,\n",
       " 'Federal-gov': 0.029482149138060663,\n",
       " 'Without-pay': 0.00044782142620551483,\n",
       " 'Never-worked': 0.00023844120201060127}"
      ]
     },
     "execution_count": 51,
     "metadata": {},
     "output_type": "execute_result"
    }
   ],
   "source": [
    "ms_100.schema_['workclass']"
   ]
  },
  {
   "cell_type": "code",
   "execution_count": 52,
   "metadata": {},
   "outputs": [
    {
     "data": {
      "text/plain": [
       "{'Private': 0.6795769427357561,\n",
       " 'Self-emp-not-inc': 0.07135456191972685,\n",
       " 'Local-gov': 0.07359799164356083,\n",
       " '?': 0.05353159298088496,\n",
       " 'State-gov': 0.05098697707658534,\n",
       " 'Self-emp-inc': 0.03192659319966612,\n",
       " 'Federal-gov': 0.03301776199261356,\n",
       " 'Without-pay': 0.0,\n",
       " 'Never-worked': 0.006007578451206142}"
      ]
     },
     "execution_count": 52,
     "metadata": {},
     "output_type": "execute_result"
    }
   ],
   "source": [
    "ms.schema_['workclass']"
   ]
  },
  {
   "cell_type": "code",
   "execution_count": 54,
   "metadata": {},
   "outputs": [
    {
     "data": {
      "text/plain": [
       "Private             0.697030\n",
       "Self-emp-not-inc    0.078038\n",
       "Local-gov           0.064279\n",
       "?                   0.056386\n",
       "State-gov           0.039864\n",
       "Self-emp-inc        0.034274\n",
       "Federal-gov         0.029483\n",
       "Without-pay         0.000430\n",
       "Never-worked        0.000215\n",
       "Name: workclass, dtype: float64"
      ]
     },
     "execution_count": 54,
     "metadata": {},
     "output_type": "execute_result"
    }
   ],
   "source": [
    "df['workclass'].value_counts(normalize=True)"
   ]
  },
  {
   "cell_type": "code",
   "execution_count": null,
   "metadata": {},
   "outputs": [],
   "source": []
  }
 ],
 "metadata": {
  "kernelspec": {
   "display_name": "Python 3",
   "language": "python",
   "name": "python3"
  },
  "language_info": {
   "codemirror_mode": {
    "name": "ipython",
    "version": 3
   },
   "file_extension": ".py",
   "mimetype": "text/x-python",
   "name": "python",
   "nbconvert_exporter": "python",
   "pygments_lexer": "ipython3",
   "version": "3.8.3"
  },
  "toc": {
   "base_numbering": 1,
   "nav_menu": {},
   "number_sections": true,
   "sideBar": true,
   "skip_h1_title": false,
   "title_cell": "Table of Contents",
   "title_sidebar": "Contents",
   "toc_cell": false,
   "toc_position": {},
   "toc_section_display": true,
   "toc_window_display": false
  }
 },
 "nbformat": 4,
 "nbformat_minor": 4
}

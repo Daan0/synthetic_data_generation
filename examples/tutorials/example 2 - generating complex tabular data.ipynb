{
 "cells": [
  {
   "cell_type": "markdown",
   "metadata": {},
   "source": [
    "# Example: Generating Complex Tabular Data\n",
    "In this notebook we will generate datasets of abritrary sizes and patters by chaining multiple synthesic data generators."
   ]
  },
  {
   "cell_type": "markdown",
   "metadata": {},
   "source": [
    "# Environment"
   ]
  },
  {
   "cell_type": "markdown",
   "metadata": {},
   "source": [
    "## Library Imports"
   ]
  },
  {
   "cell_type": "code",
   "execution_count": 1,
   "metadata": {},
   "outputs": [],
   "source": [
    "import numpy as np\n",
    "import pandas as pd\n",
    "from pathlib import Path\n",
    "import os\n",
    "import sys\n",
    "module_path = os.path.abspath(os.path.join('../..'))\n",
    "if module_path not in sys.path:\n",
    "    sys.path.append(module_path)"
   ]
  },
  {
   "cell_type": "markdown",
   "metadata": {},
   "source": [
    "## Jupyter-specific Imports and Settings"
   ]
  },
  {
   "cell_type": "code",
   "execution_count": 2,
   "metadata": {},
   "outputs": [],
   "source": [
    "# set printing options\n",
    "np.set_printoptions(threshold=sys.maxsize)\n",
    "pd.set_option('display.max_rows', 500)\n",
    "pd.set_option('display.max_columns', 500)\n",
    "pd.set_option('display.width', 1000)\n",
    "pd.set_option('display.expand_frame_repr', False)\n",
    "\n",
    "# Display all cell outputs\n",
    "from IPython.core.interactiveshell import InteractiveShell\n",
    "InteractiveShell.ast_node_interactivity = 'all'\n",
    "\n",
    "from IPython import get_ipython\n",
    "ipython = get_ipython()\n",
    "\n",
    "# autoreload extension\n",
    "if 'autoreload' not in ipython.extension_manager.loaded:\n",
    "    get_ipython().run_line_magic('load_ext', 'autoreload')\n",
    "\n",
    "get_ipython().run_line_magic('autoreload', '2')\n",
    "from importlib import reload"
   ]
  },
  {
   "cell_type": "markdown",
   "metadata": {},
   "source": [
    "## Library Imports"
   ]
  },
  {
   "cell_type": "code",
   "execution_count": 3,
   "metadata": {},
   "outputs": [],
   "source": [
    "import synthesis.bayes_synthesis\n",
    "from synthesis.hist_synthesis import HistSynthesizer\n",
    "from synthesis.bayes_synthesis import PrivBayes, PrivBayesFix"
   ]
  },
  {
   "cell_type": "markdown",
   "metadata": {},
   "source": [
    "# Load Data\n",
    "Let's load an example dataset to show how we can generate a synthetic version of it.\n",
    "\n",
    "Since we're hoping to use these algorithms to generate synthetic versions of the Netherlands Cancer Registry (NCR), we aim to use a dataset that has similar features that we would like to preserve, namely:\n",
    "- Mix of categorical and continuous data\n",
    "- Dataset contains >10k records and >10 columns\n",
    "- Date Sequences: 2 or more dates that should occur in a certain order, for example date of birth - date of incidence - date of death\n",
    "- Max one record per individual: one record per patient or tumor (in the latter we exclude multiple tumors) - this will make it easier to develop differentially private algorithms, which measure the sensitivity when one person in removed\n",
    "\n",
    "There are very few publically available health data resources that contain all these features. However, we found dataset from slightly different domain, i.e. Crimes in Chicago, that actually does contain most of these requirements. The only cavaet is that we have to assume that each record belongs to a unique individual, since we do not have a way to identify which crimes are commited by the same person.\n",
    "\n",
    "Source: https://www.kaggle.com/currie32/crimes-in-chicago"
   ]
  },
  {
   "cell_type": "code",
   "execution_count": 4,
   "metadata": {},
   "outputs": [
    {
     "data": {
      "text/html": [
       "<div>\n",
       "<style scoped>\n",
       "    .dataframe tbody tr th:only-of-type {\n",
       "        vertical-align: middle;\n",
       "    }\n",
       "\n",
       "    .dataframe tbody tr th {\n",
       "        vertical-align: top;\n",
       "    }\n",
       "\n",
       "    .dataframe thead th {\n",
       "        text-align: right;\n",
       "    }\n",
       "</style>\n",
       "<table border=\"1\" class=\"dataframe\">\n",
       "  <thead>\n",
       "    <tr style=\"text-align: right;\">\n",
       "      <th></th>\n",
       "      <th>Unnamed: 0</th>\n",
       "      <th>ID</th>\n",
       "      <th>Case Number</th>\n",
       "      <th>Date</th>\n",
       "      <th>Block</th>\n",
       "      <th>IUCR</th>\n",
       "      <th>Primary Type</th>\n",
       "      <th>Description</th>\n",
       "      <th>Location Description</th>\n",
       "      <th>Arrest</th>\n",
       "      <th>Domestic</th>\n",
       "      <th>Beat</th>\n",
       "      <th>District</th>\n",
       "      <th>Ward</th>\n",
       "      <th>Community Area</th>\n",
       "      <th>FBI Code</th>\n",
       "      <th>X Coordinate</th>\n",
       "      <th>Y Coordinate</th>\n",
       "      <th>Year</th>\n",
       "      <th>Updated On</th>\n",
       "      <th>Latitude</th>\n",
       "      <th>Longitude</th>\n",
       "      <th>Location</th>\n",
       "    </tr>\n",
       "  </thead>\n",
       "  <tbody>\n",
       "    <tr>\n",
       "      <th>0</th>\n",
       "      <td>3</td>\n",
       "      <td>10508693</td>\n",
       "      <td>HZ250496</td>\n",
       "      <td>05/03/2016 11:40:00 PM</td>\n",
       "      <td>013XX S SAWYER AVE</td>\n",
       "      <td>0486</td>\n",
       "      <td>BATTERY</td>\n",
       "      <td>DOMESTIC BATTERY SIMPLE</td>\n",
       "      <td>APARTMENT</td>\n",
       "      <td>True</td>\n",
       "      <td>True</td>\n",
       "      <td>1022</td>\n",
       "      <td>10.0</td>\n",
       "      <td>24.0</td>\n",
       "      <td>29.0</td>\n",
       "      <td>08B</td>\n",
       "      <td>1154907.0</td>\n",
       "      <td>1893681.0</td>\n",
       "      <td>2016</td>\n",
       "      <td>05/10/2016 03:56:50 PM</td>\n",
       "      <td>41.864073</td>\n",
       "      <td>-87.706819</td>\n",
       "      <td>(41.864073157, -87.706818608)</td>\n",
       "    </tr>\n",
       "    <tr>\n",
       "      <th>1</th>\n",
       "      <td>89</td>\n",
       "      <td>10508695</td>\n",
       "      <td>HZ250409</td>\n",
       "      <td>05/03/2016 09:40:00 PM</td>\n",
       "      <td>061XX S DREXEL AVE</td>\n",
       "      <td>0486</td>\n",
       "      <td>BATTERY</td>\n",
       "      <td>DOMESTIC BATTERY SIMPLE</td>\n",
       "      <td>RESIDENCE</td>\n",
       "      <td>False</td>\n",
       "      <td>True</td>\n",
       "      <td>313</td>\n",
       "      <td>3.0</td>\n",
       "      <td>20.0</td>\n",
       "      <td>42.0</td>\n",
       "      <td>08B</td>\n",
       "      <td>1183066.0</td>\n",
       "      <td>1864330.0</td>\n",
       "      <td>2016</td>\n",
       "      <td>05/10/2016 03:56:50 PM</td>\n",
       "      <td>41.782922</td>\n",
       "      <td>-87.604363</td>\n",
       "      <td>(41.782921527, -87.60436317)</td>\n",
       "    </tr>\n",
       "    <tr>\n",
       "      <th>2</th>\n",
       "      <td>197</td>\n",
       "      <td>10508697</td>\n",
       "      <td>HZ250503</td>\n",
       "      <td>05/03/2016 11:31:00 PM</td>\n",
       "      <td>053XX W CHICAGO AVE</td>\n",
       "      <td>0470</td>\n",
       "      <td>PUBLIC PEACE VIOLATION</td>\n",
       "      <td>RECKLESS CONDUCT</td>\n",
       "      <td>STREET</td>\n",
       "      <td>False</td>\n",
       "      <td>False</td>\n",
       "      <td>1524</td>\n",
       "      <td>15.0</td>\n",
       "      <td>37.0</td>\n",
       "      <td>25.0</td>\n",
       "      <td>24</td>\n",
       "      <td>1140789.0</td>\n",
       "      <td>1904819.0</td>\n",
       "      <td>2016</td>\n",
       "      <td>05/10/2016 03:56:50 PM</td>\n",
       "      <td>41.894908</td>\n",
       "      <td>-87.758372</td>\n",
       "      <td>(41.894908283, -87.758371958)</td>\n",
       "    </tr>\n",
       "    <tr>\n",
       "      <th>3</th>\n",
       "      <td>673</td>\n",
       "      <td>10508698</td>\n",
       "      <td>HZ250424</td>\n",
       "      <td>05/03/2016 10:10:00 PM</td>\n",
       "      <td>049XX W FULTON ST</td>\n",
       "      <td>0460</td>\n",
       "      <td>BATTERY</td>\n",
       "      <td>SIMPLE</td>\n",
       "      <td>SIDEWALK</td>\n",
       "      <td>False</td>\n",
       "      <td>False</td>\n",
       "      <td>1532</td>\n",
       "      <td>15.0</td>\n",
       "      <td>28.0</td>\n",
       "      <td>25.0</td>\n",
       "      <td>08B</td>\n",
       "      <td>1143223.0</td>\n",
       "      <td>1901475.0</td>\n",
       "      <td>2016</td>\n",
       "      <td>05/10/2016 03:56:50 PM</td>\n",
       "      <td>41.885687</td>\n",
       "      <td>-87.749516</td>\n",
       "      <td>(41.885686845, -87.749515983)</td>\n",
       "    </tr>\n",
       "    <tr>\n",
       "      <th>4</th>\n",
       "      <td>911</td>\n",
       "      <td>10508699</td>\n",
       "      <td>HZ250455</td>\n",
       "      <td>05/03/2016 10:00:00 PM</td>\n",
       "      <td>003XX N LOTUS AVE</td>\n",
       "      <td>0820</td>\n",
       "      <td>THEFT</td>\n",
       "      <td>$500 AND UNDER</td>\n",
       "      <td>RESIDENCE</td>\n",
       "      <td>False</td>\n",
       "      <td>True</td>\n",
       "      <td>1523</td>\n",
       "      <td>15.0</td>\n",
       "      <td>28.0</td>\n",
       "      <td>25.0</td>\n",
       "      <td>06</td>\n",
       "      <td>1139890.0</td>\n",
       "      <td>1901675.0</td>\n",
       "      <td>2016</td>\n",
       "      <td>05/10/2016 03:56:50 PM</td>\n",
       "      <td>41.886297</td>\n",
       "      <td>-87.761751</td>\n",
       "      <td>(41.886297242, -87.761750709)</td>\n",
       "    </tr>\n",
       "  </tbody>\n",
       "</table>\n",
       "</div>"
      ],
      "text/plain": [
       "   Unnamed: 0        ID Case Number                    Date                Block  IUCR            Primary Type              Description Location Description  Arrest  Domestic  Beat  District  Ward  Community Area FBI Code  X Coordinate  Y Coordinate  Year              Updated On   Latitude  Longitude                       Location\n",
       "0           3  10508693    HZ250496  05/03/2016 11:40:00 PM   013XX S SAWYER AVE  0486                 BATTERY  DOMESTIC BATTERY SIMPLE            APARTMENT    True      True  1022      10.0  24.0            29.0      08B     1154907.0     1893681.0  2016  05/10/2016 03:56:50 PM  41.864073 -87.706819  (41.864073157, -87.706818608)\n",
       "1          89  10508695    HZ250409  05/03/2016 09:40:00 PM   061XX S DREXEL AVE  0486                 BATTERY  DOMESTIC BATTERY SIMPLE            RESIDENCE   False      True   313       3.0  20.0            42.0      08B     1183066.0     1864330.0  2016  05/10/2016 03:56:50 PM  41.782922 -87.604363   (41.782921527, -87.60436317)\n",
       "2         197  10508697    HZ250503  05/03/2016 11:31:00 PM  053XX W CHICAGO AVE  0470  PUBLIC PEACE VIOLATION         RECKLESS CONDUCT               STREET   False     False  1524      15.0  37.0            25.0       24     1140789.0     1904819.0  2016  05/10/2016 03:56:50 PM  41.894908 -87.758372  (41.894908283, -87.758371958)\n",
       "3         673  10508698    HZ250424  05/03/2016 10:10:00 PM    049XX W FULTON ST  0460                 BATTERY                   SIMPLE             SIDEWALK   False     False  1532      15.0  28.0            25.0      08B     1143223.0     1901475.0  2016  05/10/2016 03:56:50 PM  41.885687 -87.749516  (41.885686845, -87.749515983)\n",
       "4         911  10508699    HZ250455  05/03/2016 10:00:00 PM    003XX N LOTUS AVE  0820                   THEFT           $500 AND UNDER            RESIDENCE   False      True  1523      15.0  28.0            25.0       06     1139890.0     1901675.0  2016  05/10/2016 03:56:50 PM  41.886297 -87.761751  (41.886297242, -87.761750709)"
      ]
     },
     "execution_count": 4,
     "metadata": {},
     "output_type": "execute_result"
    }
   ],
   "source": [
    "df_crimes = pd.read_csv('../data/input/chicago_crimes_2012_2017.csv')\n",
    "df_crimes.head()"
   ]
  },
  {
   "cell_type": "code",
   "execution_count": 61,
   "metadata": {},
   "outputs": [
    {
     "data": {
      "text/plain": [
       "(1456714, 23)"
      ]
     },
     "execution_count": 61,
     "metadata": {},
     "output_type": "execute_result"
    }
   ],
   "source": [
    "df_crimes.shape"
   ]
  },
  {
   "cell_type": "markdown",
   "metadata": {},
   "source": [
    "Following function will take a long time to run given the dataset size. Suggest not to re-run and just observe output."
   ]
  },
  {
   "cell_type": "code",
   "execution_count": 60,
   "metadata": {},
   "outputs": [
    {
     "data": {
      "text/html": [
       "<div>\n",
       "<style scoped>\n",
       "    .dataframe tbody tr th:only-of-type {\n",
       "        vertical-align: middle;\n",
       "    }\n",
       "\n",
       "    .dataframe tbody tr th {\n",
       "        vertical-align: top;\n",
       "    }\n",
       "\n",
       "    .dataframe thead th {\n",
       "        text-align: right;\n",
       "    }\n",
       "</style>\n",
       "<table border=\"1\" class=\"dataframe\">\n",
       "  <thead>\n",
       "    <tr style=\"text-align: right;\">\n",
       "      <th></th>\n",
       "      <th>Unnamed: 0</th>\n",
       "      <th>ID</th>\n",
       "      <th>Case Number</th>\n",
       "      <th>Date</th>\n",
       "      <th>Block</th>\n",
       "      <th>IUCR</th>\n",
       "      <th>Primary Type</th>\n",
       "      <th>Description</th>\n",
       "      <th>Location Description</th>\n",
       "      <th>Arrest</th>\n",
       "      <th>Domestic</th>\n",
       "      <th>Beat</th>\n",
       "      <th>District</th>\n",
       "      <th>Ward</th>\n",
       "      <th>Community Area</th>\n",
       "      <th>FBI Code</th>\n",
       "      <th>X Coordinate</th>\n",
       "      <th>Y Coordinate</th>\n",
       "      <th>Year</th>\n",
       "      <th>Updated On</th>\n",
       "      <th>Latitude</th>\n",
       "      <th>Longitude</th>\n",
       "      <th>Location</th>\n",
       "    </tr>\n",
       "  </thead>\n",
       "  <tbody>\n",
       "    <tr>\n",
       "      <th>count</th>\n",
       "      <td>1.456714e+06</td>\n",
       "      <td>1.456714e+06</td>\n",
       "      <td>1456713</td>\n",
       "      <td>1456714</td>\n",
       "      <td>1456714</td>\n",
       "      <td>1456714</td>\n",
       "      <td>1456714</td>\n",
       "      <td>1456714</td>\n",
       "      <td>1455056</td>\n",
       "      <td>1456714</td>\n",
       "      <td>1456714</td>\n",
       "      <td>1.456714e+06</td>\n",
       "      <td>1.456713e+06</td>\n",
       "      <td>1.456700e+06</td>\n",
       "      <td>1.456674e+06</td>\n",
       "      <td>1456714</td>\n",
       "      <td>1.419631e+06</td>\n",
       "      <td>1.419631e+06</td>\n",
       "      <td>1.456714e+06</td>\n",
       "      <td>1456714</td>\n",
       "      <td>1.419631e+06</td>\n",
       "      <td>1.419631e+06</td>\n",
       "      <td>1419631</td>\n",
       "    </tr>\n",
       "    <tr>\n",
       "      <th>unique</th>\n",
       "      <td>NaN</td>\n",
       "      <td>NaN</td>\n",
       "      <td>1456598</td>\n",
       "      <td>582146</td>\n",
       "      <td>32774</td>\n",
       "      <td>365</td>\n",
       "      <td>33</td>\n",
       "      <td>342</td>\n",
       "      <td>142</td>\n",
       "      <td>2</td>\n",
       "      <td>2</td>\n",
       "      <td>NaN</td>\n",
       "      <td>NaN</td>\n",
       "      <td>NaN</td>\n",
       "      <td>NaN</td>\n",
       "      <td>26</td>\n",
       "      <td>NaN</td>\n",
       "      <td>NaN</td>\n",
       "      <td>NaN</td>\n",
       "      <td>959</td>\n",
       "      <td>NaN</td>\n",
       "      <td>NaN</td>\n",
       "      <td>368286</td>\n",
       "    </tr>\n",
       "    <tr>\n",
       "      <th>top</th>\n",
       "      <td>NaN</td>\n",
       "      <td>NaN</td>\n",
       "      <td>HZ140230</td>\n",
       "      <td>01/01/2012 12:01:00 AM</td>\n",
       "      <td>001XX N STATE ST</td>\n",
       "      <td>0820</td>\n",
       "      <td>THEFT</td>\n",
       "      <td>SIMPLE</td>\n",
       "      <td>STREET</td>\n",
       "      <td>False</td>\n",
       "      <td>False</td>\n",
       "      <td>NaN</td>\n",
       "      <td>NaN</td>\n",
       "      <td>NaN</td>\n",
       "      <td>NaN</td>\n",
       "      <td>06</td>\n",
       "      <td>NaN</td>\n",
       "      <td>NaN</td>\n",
       "      <td>NaN</td>\n",
       "      <td>02/04/2016 06:33:39 AM</td>\n",
       "      <td>NaN</td>\n",
       "      <td>NaN</td>\n",
       "      <td>(41.883500187, -87.627876698)</td>\n",
       "    </tr>\n",
       "    <tr>\n",
       "      <th>freq</th>\n",
       "      <td>NaN</td>\n",
       "      <td>NaN</td>\n",
       "      <td>6</td>\n",
       "      <td>166</td>\n",
       "      <td>3634</td>\n",
       "      <td>136036</td>\n",
       "      <td>329460</td>\n",
       "      <td>150600</td>\n",
       "      <td>330471</td>\n",
       "      <td>1079242</td>\n",
       "      <td>1236660</td>\n",
       "      <td>NaN</td>\n",
       "      <td>NaN</td>\n",
       "      <td>NaN</td>\n",
       "      <td>NaN</td>\n",
       "      <td>329460</td>\n",
       "      <td>NaN</td>\n",
       "      <td>NaN</td>\n",
       "      <td>NaN</td>\n",
       "      <td>908366</td>\n",
       "      <td>NaN</td>\n",
       "      <td>NaN</td>\n",
       "      <td>2096</td>\n",
       "    </tr>\n",
       "    <tr>\n",
       "      <th>mean</th>\n",
       "      <td>3.308606e+06</td>\n",
       "      <td>9.597550e+06</td>\n",
       "      <td>NaN</td>\n",
       "      <td>NaN</td>\n",
       "      <td>NaN</td>\n",
       "      <td>NaN</td>\n",
       "      <td>NaN</td>\n",
       "      <td>NaN</td>\n",
       "      <td>NaN</td>\n",
       "      <td>NaN</td>\n",
       "      <td>NaN</td>\n",
       "      <td>1.150644e+03</td>\n",
       "      <td>1.125920e+01</td>\n",
       "      <td>2.287027e+01</td>\n",
       "      <td>3.745632e+01</td>\n",
       "      <td>NaN</td>\n",
       "      <td>1.164398e+06</td>\n",
       "      <td>1.885523e+06</td>\n",
       "      <td>2.013897e+03</td>\n",
       "      <td>NaN</td>\n",
       "      <td>4.184147e+01</td>\n",
       "      <td>-8.767224e+01</td>\n",
       "      <td>NaN</td>\n",
       "    </tr>\n",
       "    <tr>\n",
       "      <th>std</th>\n",
       "      <td>1.235350e+06</td>\n",
       "      <td>8.083505e+05</td>\n",
       "      <td>NaN</td>\n",
       "      <td>NaN</td>\n",
       "      <td>NaN</td>\n",
       "      <td>NaN</td>\n",
       "      <td>NaN</td>\n",
       "      <td>NaN</td>\n",
       "      <td>NaN</td>\n",
       "      <td>NaN</td>\n",
       "      <td>NaN</td>\n",
       "      <td>6.916466e+02</td>\n",
       "      <td>6.904691e+00</td>\n",
       "      <td>1.380589e+01</td>\n",
       "      <td>2.144029e+01</td>\n",
       "      <td>NaN</td>\n",
       "      <td>1.850835e+04</td>\n",
       "      <td>3.424775e+04</td>\n",
       "      <td>1.449584e+00</td>\n",
       "      <td>NaN</td>\n",
       "      <td>9.430126e-02</td>\n",
       "      <td>6.661726e-02</td>\n",
       "      <td>NaN</td>\n",
       "    </tr>\n",
       "    <tr>\n",
       "      <th>min</th>\n",
       "      <td>3.000000e+00</td>\n",
       "      <td>2.022400e+04</td>\n",
       "      <td>NaN</td>\n",
       "      <td>NaN</td>\n",
       "      <td>NaN</td>\n",
       "      <td>NaN</td>\n",
       "      <td>NaN</td>\n",
       "      <td>NaN</td>\n",
       "      <td>NaN</td>\n",
       "      <td>NaN</td>\n",
       "      <td>NaN</td>\n",
       "      <td>1.110000e+02</td>\n",
       "      <td>1.000000e+00</td>\n",
       "      <td>1.000000e+00</td>\n",
       "      <td>0.000000e+00</td>\n",
       "      <td>NaN</td>\n",
       "      <td>0.000000e+00</td>\n",
       "      <td>0.000000e+00</td>\n",
       "      <td>2.012000e+03</td>\n",
       "      <td>NaN</td>\n",
       "      <td>3.661945e+01</td>\n",
       "      <td>-9.168657e+01</td>\n",
       "      <td>NaN</td>\n",
       "    </tr>\n",
       "    <tr>\n",
       "      <th>25%</th>\n",
       "      <td>2.698636e+06</td>\n",
       "      <td>9.002709e+06</td>\n",
       "      <td>NaN</td>\n",
       "      <td>NaN</td>\n",
       "      <td>NaN</td>\n",
       "      <td>NaN</td>\n",
       "      <td>NaN</td>\n",
       "      <td>NaN</td>\n",
       "      <td>NaN</td>\n",
       "      <td>NaN</td>\n",
       "      <td>NaN</td>\n",
       "      <td>6.130000e+02</td>\n",
       "      <td>6.000000e+00</td>\n",
       "      <td>1.000000e+01</td>\n",
       "      <td>2.300000e+01</td>\n",
       "      <td>NaN</td>\n",
       "      <td>1.152544e+06</td>\n",
       "      <td>1.858762e+06</td>\n",
       "      <td>2.013000e+03</td>\n",
       "      <td>NaN</td>\n",
       "      <td>4.176787e+01</td>\n",
       "      <td>-8.771528e+01</td>\n",
       "      <td>NaN</td>\n",
       "    </tr>\n",
       "    <tr>\n",
       "      <th>50%</th>\n",
       "      <td>3.063654e+06</td>\n",
       "      <td>9.605776e+06</td>\n",
       "      <td>NaN</td>\n",
       "      <td>NaN</td>\n",
       "      <td>NaN</td>\n",
       "      <td>NaN</td>\n",
       "      <td>NaN</td>\n",
       "      <td>NaN</td>\n",
       "      <td>NaN</td>\n",
       "      <td>NaN</td>\n",
       "      <td>NaN</td>\n",
       "      <td>1.024000e+03</td>\n",
       "      <td>1.000000e+01</td>\n",
       "      <td>2.300000e+01</td>\n",
       "      <td>3.200000e+01</td>\n",
       "      <td>NaN</td>\n",
       "      <td>1.166021e+06</td>\n",
       "      <td>1.891502e+06</td>\n",
       "      <td>2.014000e+03</td>\n",
       "      <td>NaN</td>\n",
       "      <td>4.185797e+01</td>\n",
       "      <td>-8.766613e+01</td>\n",
       "      <td>NaN</td>\n",
       "    </tr>\n",
       "    <tr>\n",
       "      <th>75%</th>\n",
       "      <td>3.428849e+06</td>\n",
       "      <td>1.022577e+07</td>\n",
       "      <td>NaN</td>\n",
       "      <td>NaN</td>\n",
       "      <td>NaN</td>\n",
       "      <td>NaN</td>\n",
       "      <td>NaN</td>\n",
       "      <td>NaN</td>\n",
       "      <td>NaN</td>\n",
       "      <td>NaN</td>\n",
       "      <td>NaN</td>\n",
       "      <td>1.711000e+03</td>\n",
       "      <td>1.700000e+01</td>\n",
       "      <td>3.400000e+01</td>\n",
       "      <td>5.600000e+01</td>\n",
       "      <td>NaN</td>\n",
       "      <td>1.176363e+06</td>\n",
       "      <td>1.908713e+06</td>\n",
       "      <td>2.015000e+03</td>\n",
       "      <td>NaN</td>\n",
       "      <td>4.190529e+01</td>\n",
       "      <td>-8.762813e+01</td>\n",
       "      <td>NaN</td>\n",
       "    </tr>\n",
       "    <tr>\n",
       "      <th>max</th>\n",
       "      <td>6.253474e+06</td>\n",
       "      <td>1.082788e+07</td>\n",
       "      <td>NaN</td>\n",
       "      <td>NaN</td>\n",
       "      <td>NaN</td>\n",
       "      <td>NaN</td>\n",
       "      <td>NaN</td>\n",
       "      <td>NaN</td>\n",
       "      <td>NaN</td>\n",
       "      <td>NaN</td>\n",
       "      <td>NaN</td>\n",
       "      <td>2.535000e+03</td>\n",
       "      <td>3.100000e+01</td>\n",
       "      <td>5.000000e+01</td>\n",
       "      <td>7.700000e+01</td>\n",
       "      <td>NaN</td>\n",
       "      <td>1.205119e+06</td>\n",
       "      <td>1.951573e+06</td>\n",
       "      <td>2.017000e+03</td>\n",
       "      <td>NaN</td>\n",
       "      <td>4.202271e+01</td>\n",
       "      <td>-8.752453e+01</td>\n",
       "      <td>NaN</td>\n",
       "    </tr>\n",
       "  </tbody>\n",
       "</table>\n",
       "</div>"
      ],
      "text/plain": [
       "          Unnamed: 0            ID Case Number                    Date             Block     IUCR Primary Type Description Location Description   Arrest Domestic          Beat      District          Ward  Community Area FBI Code  X Coordinate  Y Coordinate          Year              Updated On      Latitude     Longitude                       Location\n",
       "count   1.456714e+06  1.456714e+06     1456713                 1456714           1456714  1456714      1456714     1456714              1455056  1456714  1456714  1.456714e+06  1.456713e+06  1.456700e+06    1.456674e+06  1456714  1.419631e+06  1.419631e+06  1.456714e+06                 1456714  1.419631e+06  1.419631e+06                        1419631\n",
       "unique           NaN           NaN     1456598                  582146             32774      365           33         342                  142        2        2           NaN           NaN           NaN             NaN       26           NaN           NaN           NaN                     959           NaN           NaN                         368286\n",
       "top              NaN           NaN    HZ140230  01/01/2012 12:01:00 AM  001XX N STATE ST     0820        THEFT      SIMPLE               STREET    False    False           NaN           NaN           NaN             NaN       06           NaN           NaN           NaN  02/04/2016 06:33:39 AM           NaN           NaN  (41.883500187, -87.627876698)\n",
       "freq             NaN           NaN           6                     166              3634   136036       329460      150600               330471  1079242  1236660           NaN           NaN           NaN             NaN   329460           NaN           NaN           NaN                  908366           NaN           NaN                           2096\n",
       "mean    3.308606e+06  9.597550e+06         NaN                     NaN               NaN      NaN          NaN         NaN                  NaN      NaN      NaN  1.150644e+03  1.125920e+01  2.287027e+01    3.745632e+01      NaN  1.164398e+06  1.885523e+06  2.013897e+03                     NaN  4.184147e+01 -8.767224e+01                            NaN\n",
       "std     1.235350e+06  8.083505e+05         NaN                     NaN               NaN      NaN          NaN         NaN                  NaN      NaN      NaN  6.916466e+02  6.904691e+00  1.380589e+01    2.144029e+01      NaN  1.850835e+04  3.424775e+04  1.449584e+00                     NaN  9.430126e-02  6.661726e-02                            NaN\n",
       "min     3.000000e+00  2.022400e+04         NaN                     NaN               NaN      NaN          NaN         NaN                  NaN      NaN      NaN  1.110000e+02  1.000000e+00  1.000000e+00    0.000000e+00      NaN  0.000000e+00  0.000000e+00  2.012000e+03                     NaN  3.661945e+01 -9.168657e+01                            NaN\n",
       "25%     2.698636e+06  9.002709e+06         NaN                     NaN               NaN      NaN          NaN         NaN                  NaN      NaN      NaN  6.130000e+02  6.000000e+00  1.000000e+01    2.300000e+01      NaN  1.152544e+06  1.858762e+06  2.013000e+03                     NaN  4.176787e+01 -8.771528e+01                            NaN\n",
       "50%     3.063654e+06  9.605776e+06         NaN                     NaN               NaN      NaN          NaN         NaN                  NaN      NaN      NaN  1.024000e+03  1.000000e+01  2.300000e+01    3.200000e+01      NaN  1.166021e+06  1.891502e+06  2.014000e+03                     NaN  4.185797e+01 -8.766613e+01                            NaN\n",
       "75%     3.428849e+06  1.022577e+07         NaN                     NaN               NaN      NaN          NaN         NaN                  NaN      NaN      NaN  1.711000e+03  1.700000e+01  3.400000e+01    5.600000e+01      NaN  1.176363e+06  1.908713e+06  2.015000e+03                     NaN  4.190529e+01 -8.762813e+01                            NaN\n",
       "max     6.253474e+06  1.082788e+07         NaN                     NaN               NaN      NaN          NaN         NaN                  NaN      NaN      NaN  2.535000e+03  3.100000e+01  5.000000e+01    7.700000e+01      NaN  1.205119e+06  1.951573e+06  2.017000e+03                     NaN  4.202271e+01 -8.752453e+01                            NaN"
      ]
     },
     "execution_count": 60,
     "metadata": {},
     "output_type": "execute_result"
    }
   ],
   "source": [
    "df_crimes.describe(include='all')"
   ]
  },
  {
   "cell_type": "markdown",
   "metadata": {},
   "source": [
    "for experimentation we'll use a small subset to get fast results"
   ]
  },
  {
   "cell_type": "code",
   "execution_count": 10,
   "metadata": {},
   "outputs": [],
   "source": [
    "df_crimes_sub = df_crimes.loc[:1000, :]"
   ]
  },
  {
   "cell_type": "markdown",
   "metadata": {},
   "source": [
    "# Synthetic Data Generation\n",
    "In this section we'll generate data based on the loaded input dataset. We'll define distinct variable clusters and show how we can generate them indepedently. Afterwards we'll create one multi-synthesis pipeline that combines all these steps in one go."
   ]
  },
  {
   "cell_type": "code",
   "execution_count": 12,
   "metadata": {},
   "outputs": [
    {
     "data": {
      "text/plain": [
       "<module 'synthesis.bayes_synthesis' from 'C:\\\\Users\\\\dkn1904.51564\\\\DataScience\\\\Projects\\\\synthetic_data_generation\\\\synthetic_data_generation\\\\synthesis\\\\bayes_synthesis.py'>"
      ]
     },
     "execution_count": 12,
     "metadata": {},
     "output_type": "execute_result"
    },
    {
     "data": {
      "text/plain": [
       "<module 'synthesis.evaluation.visual' from 'C:\\\\Users\\\\dkn1904.51564\\\\DataScience\\\\Projects\\\\synthetic_data_generation\\\\synthetic_data_generation\\\\synthesis\\\\evaluation\\\\visual.py'>"
      ]
     },
     "execution_count": 12,
     "metadata": {},
     "output_type": "execute_result"
    }
   ],
   "source": [
    "import synthesis.evaluation.visual\n",
    "reload(synthesis.bayes_synthesis)\n",
    "reload(synthesis.evaluation.visual)\n",
    "from synthesis.evaluation.visual import compare_synthetic_data\n",
    "from synthesis.bayes_synthesis import PrivBayes, PrivBayesFix, NodeParentPair\n"
   ]
  },
  {
   "cell_type": "markdown",
   "metadata": {},
   "source": [
    "## Variable Clustering\n",
    "Since the full dataset will likely be too large to synthesize in one go, we'll group variables together for which we would like to retain strong statistical relations."
   ]
  },
  {
   "cell_type": "code",
   "execution_count": 6,
   "metadata": {},
   "outputs": [],
   "source": [
    "crime_location = ['IUCR', 'Block', 'Location', 'District', 'Beat', 'Ward', 'Community Area'] # likely some of these locations can be inferred and thus do not need to be generated to retain strong consistency\n",
    "crime_details = ['IUCR', 'Location Description', 'Arrest', 'Domestic', 'FBI Code'] # IUCR will act as a bridging variable \n",
    "date_sequence = ['Date', 'Updated On']\n",
    "\n",
    "\n",
    "\n",
    "# following variable groups won't be generated based:\n",
    "identifiers = ['ID', 'Case Number'] # no statistical pattern to preserve\n",
    "latlang = ['Latitude', 'Longitude', 'Location', 'X Coordinate', 'Y Coordinate'] # too high caridnaliy and can be inferred from Block - likely we don't want to publish exact locations\n",
    "infer_columns = {\n",
    "    'IUCR': ['Primary Type', 'Description'], # IUCR is a unique code that combines both columns\n",
    "    'Date': ['Year']\n",
    "}\n",
    "\n"
   ]
  },
  {
   "cell_type": "code",
   "execution_count": 16,
   "metadata": {},
   "outputs": [],
   "source": [
    "import synthesis.tools.utils\n",
    "import synthesis.tools.dp_utils\n",
    "from synthesis.tools.dp_utils import dp_conditional_distribution"
   ]
  },
  {
   "cell_type": "code",
   "execution_count": null,
   "metadata": {},
   "outputs": [],
   "source": [
    "dp_conditional_distribution(df_crimes_sub[['IUCR', 'Community Area', 'Beat']], conditioned_variables='Beat')"
   ]
  },
  {
   "cell_type": "code",
   "execution_count": 24,
   "metadata": {},
   "outputs": [],
   "source": [
    "columns = ['IUCR', 'Beat']\n",
    "X = df_crimes_sub[columns]\n",
    "counts = X.fillna('nan').groupby(columns).size().astype(float)\n"
   ]
  },
  {
   "cell_type": "code",
   "execution_count": 26,
   "metadata": {},
   "outputs": [
    {
     "name": "stdout",
     "output_type": "stream",
     "text": [
      "MultiIndex([('0110',  111),\n",
      "            ('0110',  112),\n",
      "            ('0110',  121),\n",
      "            ('0110',  122),\n",
      "            ('0110',  123),\n",
      "            ('0110',  124),\n",
      "            ('0110',  131),\n",
      "            ('0110',  132),\n",
      "            ('0110',  133),\n",
      "            ('0110',  211),\n",
      "            ...\n",
      "            ('5111', 2515),\n",
      "            ('5111', 2521),\n",
      "            ('5111', 2523),\n",
      "            ('5111', 2524),\n",
      "            ('5111', 2525),\n",
      "            ('5111', 2531),\n",
      "            ('5111', 2532),\n",
      "            ('5111', 2533),\n",
      "            ('5111', 2534),\n",
      "            ('5111', 2535)],\n",
      "           names=['IUCR', 'Beat'], length=30996)\n"
     ]
    }
   ],
   "source": [
    "from itertools import product\n",
    "\n",
    "full_space_index = pd.MultiIndex.from_tuples(tuple(product(*counts.index.levels)),\n",
    "                                                 names=counts.index.names)\n",
    "print(full_space_index)"
   ]
  },
  {
   "cell_type": "code",
   "execution_count": 28,
   "metadata": {},
   "outputs": [
    {
     "data": {
      "text/plain": [
       "IUCR  Beat\n",
       "0110  111     0.0\n",
       "      112     0.0\n",
       "      121     0.0\n",
       "      122     0.0\n",
       "      123     0.0\n",
       "             ... \n",
       "5111  2531    0.0\n",
       "      2532    0.0\n",
       "      2533    0.0\n",
       "      2534    0.0\n",
       "      2535    0.0\n",
       "Length: 30996, dtype: float64"
      ]
     },
     "execution_count": 28,
     "metadata": {},
     "output_type": "execute_result"
    }
   ],
   "source": [
    "contingency_table_ = pd.Series(data=0, index=full_space_index).combine(counts, max)\n",
    "contingency_table_"
   ]
  },
  {
   "cell_type": "markdown",
   "metadata": {},
   "source": [
    "# Crime Location"
   ]
  },
  {
   "cell_type": "code",
   "execution_count": 7,
   "metadata": {},
   "outputs": [
    {
     "data": {
      "text/plain": [
       "inf"
      ]
     },
     "execution_count": 7,
     "metadata": {},
     "output_type": "execute_result"
    }
   ],
   "source": [
    "epsilon = float(np.inf)\n",
    "epsilon"
   ]
  },
  {
   "cell_type": "code",
   "execution_count": 13,
   "metadata": {},
   "outputs": [
    {
     "name": "stdout",
     "output_type": "stream",
     "text": [
      "1/7 - Degree of network (k): 2\n",
      "\n",
      "Root of network: IUCR\n",
      "\n",
      "2/7 - Evaluating next node to add to network\n",
      "Number of NodeParentPair candidates: 6\n",
      "Selected node: Community Area - with parents: ('IUCR',)\n",
      "\n",
      "3/7 - Evaluating next node to add to network\n",
      "Number of NodeParentPair candidates: 5\n",
      "Selected node: Beat - with parents: ('IUCR', 'Community Area')\n",
      "\n",
      "4/7 - Evaluating next node to add to network\n",
      "Number of NodeParentPair candidates: 12\n",
      "Selected node: District - with parents: ('Community Area', 'Beat')\n",
      "\n",
      "5/7 - Evaluating next node to add to network\n",
      "Number of NodeParentPair candidates: 18\n",
      "Selected node: Block - with parents: ('IUCR', 'District')\n",
      "\n",
      "6/7 - Evaluating next node to add to network\n",
      "Number of NodeParentPair candidates: 20\n",
      "Selected node: Ward - with parents: ('IUCR', 'Beat')\n",
      "\n",
      "7/7 - Evaluating next node to add to network\n",
      "Number of NodeParentPair candidates: 15\n",
      "Selected node: Location - with parents: ('Block', 'IUCR')\n",
      "\n",
      "Learned Network Structure\n",
      "\n",
      "Learning conditional probabilities: Beat - with parents ('IUCR', 'Community Area')\n"
     ]
    },
    {
     "ename": "KeyboardInterrupt",
     "evalue": "",
     "output_type": "error",
     "traceback": [
      "\u001b[1;31m---------------------------------------------------------------------------\u001b[0m",
      "\u001b[1;31mKeyboardInterrupt\u001b[0m                         Traceback (most recent call last)",
      "\u001b[1;32m<ipython-input-13-3e0b546e9321>\u001b[0m in \u001b[0;36m<module>\u001b[1;34m\u001b[0m\n\u001b[0;32m      1\u001b[0m \u001b[0mpb_location\u001b[0m \u001b[1;33m=\u001b[0m \u001b[0mPrivBayes\u001b[0m\u001b[1;33m(\u001b[0m\u001b[0mdegree_network\u001b[0m\u001b[1;33m=\u001b[0m\u001b[1;36m2\u001b[0m\u001b[1;33m,\u001b[0m \u001b[0mepsilon\u001b[0m\u001b[1;33m=\u001b[0m\u001b[0mepsilon\u001b[0m\u001b[1;33m)\u001b[0m\u001b[1;33m\u001b[0m\u001b[1;33m\u001b[0m\u001b[0m\n\u001b[1;32m----> 2\u001b[1;33m \u001b[0mpb_location\u001b[0m\u001b[1;33m.\u001b[0m\u001b[0mfit\u001b[0m\u001b[1;33m(\u001b[0m\u001b[0mdf_crimes_sub\u001b[0m\u001b[1;33m[\u001b[0m\u001b[0mcrime_location\u001b[0m\u001b[1;33m]\u001b[0m\u001b[1;33m)\u001b[0m\u001b[1;33m\u001b[0m\u001b[1;33m\u001b[0m\u001b[0m\n\u001b[0m",
      "\u001b[1;32m~\\DataScience\\Projects\\synthetic_data_generation\\synthetic_data_generation\\synthesis\\bayes_synthesis.py\u001b[0m in \u001b[0;36mfit\u001b[1;34m(self, X, y)\u001b[0m\n\u001b[0;32m     60\u001b[0m         \u001b[1;31m# todo integrate random state\u001b[0m\u001b[1;33m\u001b[0m\u001b[1;33m\u001b[0m\u001b[1;33m\u001b[0m\u001b[0m\n\u001b[0;32m     61\u001b[0m         \u001b[0mself\u001b[0m\u001b[1;33m.\u001b[0m\u001b[0m_greedy_bayes\u001b[0m\u001b[1;33m(\u001b[0m\u001b[0mX\u001b[0m\u001b[1;33m)\u001b[0m\u001b[1;33m\u001b[0m\u001b[1;33m\u001b[0m\u001b[0m\n\u001b[1;32m---> 62\u001b[1;33m         \u001b[0mself\u001b[0m\u001b[1;33m.\u001b[0m\u001b[0m_compute_conditional_distributions\u001b[0m\u001b[1;33m(\u001b[0m\u001b[0mX\u001b[0m\u001b[1;33m)\u001b[0m\u001b[1;33m\u001b[0m\u001b[1;33m\u001b[0m\u001b[0m\n\u001b[0m\u001b[0;32m     63\u001b[0m         \u001b[1;31m# todo specify name in init?\u001b[0m\u001b[1;33m\u001b[0m\u001b[1;33m\u001b[0m\u001b[1;33m\u001b[0m\u001b[0m\n\u001b[0;32m     64\u001b[0m         \u001b[0mself\u001b[0m\u001b[1;33m.\u001b[0m\u001b[0mbayesian_network_\u001b[0m \u001b[1;33m=\u001b[0m \u001b[0mBayesianNetwork\u001b[0m\u001b[1;33m.\u001b[0m\u001b[0mfrom_CPTs\u001b[0m\u001b[1;33m(\u001b[0m\u001b[1;34m'PrivBayes'\u001b[0m\u001b[1;33m,\u001b[0m \u001b[0mself\u001b[0m\u001b[1;33m.\u001b[0m\u001b[0mcpt_\u001b[0m\u001b[1;33m.\u001b[0m\u001b[0mvalues\u001b[0m\u001b[1;33m(\u001b[0m\u001b[1;33m)\u001b[0m\u001b[1;33m)\u001b[0m\u001b[1;33m\u001b[0m\u001b[1;33m\u001b[0m\u001b[0m\n",
      "\u001b[1;32m~\\DataScience\\Projects\\synthetic_data_generation\\synthetic_data_generation\\synthesis\\bayes_synthesis.py\u001b[0m in \u001b[0;36m_compute_conditional_distributions\u001b[1;34m(self, X)\u001b[0m\n\u001b[0;32m    230\u001b[0m \u001b[1;33m\u001b[0m\u001b[0m\n\u001b[0;32m    231\u001b[0m             \u001b[0mattributes\u001b[0m \u001b[1;33m=\u001b[0m \u001b[1;33m[\u001b[0m\u001b[1;33m*\u001b[0m\u001b[0mpair\u001b[0m\u001b[1;33m.\u001b[0m\u001b[0mparents\u001b[0m\u001b[1;33m,\u001b[0m \u001b[0mpair\u001b[0m\u001b[1;33m.\u001b[0m\u001b[0mnode\u001b[0m\u001b[1;33m]\u001b[0m\u001b[1;33m\u001b[0m\u001b[1;33m\u001b[0m\u001b[0m\n\u001b[1;32m--> 232\u001b[1;33m             \u001b[0mdp_joint_distribution\u001b[0m \u001b[1;33m=\u001b[0m \u001b[0mdp_utils\u001b[0m\u001b[1;33m.\u001b[0m\u001b[0mdp_joint_distribution\u001b[0m\u001b[1;33m(\u001b[0m\u001b[0mX\u001b[0m\u001b[1;33m[\u001b[0m\u001b[0mattributes\u001b[0m\u001b[1;33m]\u001b[0m\u001b[1;33m,\u001b[0m \u001b[0mepsilon\u001b[0m\u001b[1;33m=\u001b[0m\u001b[0mlocal_epsilon\u001b[0m\u001b[1;33m)\u001b[0m\u001b[1;33m\u001b[0m\u001b[1;33m\u001b[0m\u001b[0m\n\u001b[0m\u001b[0;32m    233\u001b[0m             \u001b[1;31m# dp_joint_distribution = utils.joint_distribution(X[attributes])\u001b[0m\u001b[1;33m\u001b[0m\u001b[1;33m\u001b[0m\u001b[1;33m\u001b[0m\u001b[0m\n\u001b[0;32m    234\u001b[0m             \u001b[0mcpt\u001b[0m \u001b[1;33m=\u001b[0m \u001b[0mCPT\u001b[0m\u001b[1;33m(\u001b[0m\u001b[0mdp_joint_distribution\u001b[0m\u001b[1;33m,\u001b[0m \u001b[0mconditioned_variables\u001b[0m\u001b[1;33m=\u001b[0m\u001b[1;33m[\u001b[0m\u001b[0mpair\u001b[0m\u001b[1;33m.\u001b[0m\u001b[0mnode\u001b[0m\u001b[1;33m]\u001b[0m\u001b[1;33m)\u001b[0m\u001b[1;33m\u001b[0m\u001b[1;33m\u001b[0m\u001b[0m\n",
      "\u001b[1;32m~\\DataScience\\Projects\\synthetic_data_generation\\synthetic_data_generation\\synthesis\\tools\\dp_utils.py\u001b[0m in \u001b[0;36mdp_joint_distribution\u001b[1;34m(X, epsilon, range)\u001b[0m\n\u001b[0;32m     55\u001b[0m     \u001b[1;31m# todo evaluate range privacy leakage\u001b[0m\u001b[1;33m\u001b[0m\u001b[1;33m\u001b[0m\u001b[1;33m\u001b[0m\u001b[0m\n\u001b[0;32m     56\u001b[0m \u001b[1;33m\u001b[0m\u001b[0m\n\u001b[1;32m---> 57\u001b[1;33m     \u001b[0mjoint_distribution_\u001b[0m \u001b[1;33m=\u001b[0m \u001b[0mutils\u001b[0m\u001b[1;33m.\u001b[0m\u001b[0mjoint_distribution\u001b[0m\u001b[1;33m(\u001b[0m\u001b[0mX\u001b[0m\u001b[1;33m)\u001b[0m\u001b[1;33m\u001b[0m\u001b[1;33m\u001b[0m\u001b[0m\n\u001b[0m\u001b[0;32m     58\u001b[0m \u001b[1;33m\u001b[0m\u001b[0m\n\u001b[0;32m     59\u001b[0m     \u001b[1;31m# removing one record from X will decrease probability 1/n in one cell of the\u001b[0m\u001b[1;33m\u001b[0m\u001b[1;33m\u001b[0m\u001b[1;33m\u001b[0m\u001b[0m\n",
      "\u001b[1;32m~\\DataScience\\Projects\\synthetic_data_generation\\synthetic_data_generation\\synthesis\\tools\\utils.py\u001b[0m in \u001b[0;36mjoint_distribution\u001b[1;34m(X)\u001b[0m\n\u001b[0;32m     34\u001b[0m \u001b[1;32mdef\u001b[0m \u001b[0mjoint_distribution\u001b[0m\u001b[1;33m(\u001b[0m\u001b[0mX\u001b[0m\u001b[1;33m)\u001b[0m\u001b[1;33m:\u001b[0m\u001b[1;33m\u001b[0m\u001b[1;33m\u001b[0m\u001b[0m\n\u001b[0;32m     35\u001b[0m     \u001b[1;34m\"\"\"Get joint distribution by normalizing contingency table\"\"\"\u001b[0m\u001b[1;33m\u001b[0m\u001b[1;33m\u001b[0m\u001b[0m\n\u001b[1;32m---> 36\u001b[1;33m     \u001b[0mcontingency_table_\u001b[0m \u001b[1;33m=\u001b[0m \u001b[0mcontingency_table\u001b[0m\u001b[1;33m(\u001b[0m\u001b[0mX\u001b[0m\u001b[1;33m)\u001b[0m\u001b[1;33m\u001b[0m\u001b[1;33m\u001b[0m\u001b[0m\n\u001b[0m\u001b[0;32m     37\u001b[0m     \u001b[0mjoint_distribution_\u001b[0m \u001b[1;33m=\u001b[0m \u001b[0mcontingency_table_\u001b[0m \u001b[1;33m/\u001b[0m \u001b[0mcontingency_table_\u001b[0m\u001b[1;33m.\u001b[0m\u001b[0msum\u001b[0m\u001b[1;33m(\u001b[0m\u001b[1;33m)\u001b[0m\u001b[1;33m\u001b[0m\u001b[1;33m\u001b[0m\u001b[0m\n\u001b[0;32m     38\u001b[0m \u001b[1;33m\u001b[0m\u001b[0m\n",
      "\u001b[1;32m~\\DataScience\\Projects\\synthetic_data_generation\\synthetic_data_generation\\synthesis\\tools\\utils.py\u001b[0m in \u001b[0;36mcontingency_table\u001b[1;34m(X)\u001b[0m\n\u001b[0;32m     29\u001b[0m     full_space_index = pd.MultiIndex.from_tuples(tuple(product(*counts.index.levels)),\n\u001b[0;32m     30\u001b[0m                                                  names=counts.index.names)\n\u001b[1;32m---> 31\u001b[1;33m     \u001b[0mcontingency_table_\u001b[0m \u001b[1;33m=\u001b[0m \u001b[0mpd\u001b[0m\u001b[1;33m.\u001b[0m\u001b[0mSeries\u001b[0m\u001b[1;33m(\u001b[0m\u001b[0mdata\u001b[0m\u001b[1;33m=\u001b[0m\u001b[1;36m0\u001b[0m\u001b[1;33m,\u001b[0m \u001b[0mindex\u001b[0m\u001b[1;33m=\u001b[0m\u001b[0mfull_space_index\u001b[0m\u001b[1;33m)\u001b[0m\u001b[1;33m.\u001b[0m\u001b[0mcombine\u001b[0m\u001b[1;33m(\u001b[0m\u001b[0mcounts\u001b[0m\u001b[1;33m,\u001b[0m \u001b[0mmax\u001b[0m\u001b[1;33m)\u001b[0m\u001b[1;33m\u001b[0m\u001b[1;33m\u001b[0m\u001b[0m\n\u001b[0m\u001b[0;32m     32\u001b[0m     \u001b[1;32mreturn\u001b[0m \u001b[0mcontingency_table_\u001b[0m\u001b[1;33m\u001b[0m\u001b[1;33m\u001b[0m\u001b[0m\n\u001b[0;32m     33\u001b[0m \u001b[1;33m\u001b[0m\u001b[0m\n",
      "\u001b[1;32m~\\.conda\\envs\\synthesis\\lib\\site-packages\\pandas\\core\\series.py\u001b[0m in \u001b[0;36mcombine\u001b[1;34m(self, other, func, fill_value)\u001b[0m\n\u001b[0;32m   2699\u001b[0m             \u001b[0mnew_values\u001b[0m \u001b[1;33m=\u001b[0m \u001b[1;33m[\u001b[0m\u001b[1;33m]\u001b[0m\u001b[1;33m\u001b[0m\u001b[1;33m\u001b[0m\u001b[0m\n\u001b[0;32m   2700\u001b[0m             \u001b[1;32mfor\u001b[0m \u001b[0midx\u001b[0m \u001b[1;32min\u001b[0m \u001b[0mnew_index\u001b[0m\u001b[1;33m:\u001b[0m\u001b[1;33m\u001b[0m\u001b[1;33m\u001b[0m\u001b[0m\n\u001b[1;32m-> 2701\u001b[1;33m                 \u001b[0mlv\u001b[0m \u001b[1;33m=\u001b[0m \u001b[0mself\u001b[0m\u001b[1;33m.\u001b[0m\u001b[0mget\u001b[0m\u001b[1;33m(\u001b[0m\u001b[0midx\u001b[0m\u001b[1;33m,\u001b[0m \u001b[0mfill_value\u001b[0m\u001b[1;33m)\u001b[0m\u001b[1;33m\u001b[0m\u001b[1;33m\u001b[0m\u001b[0m\n\u001b[0m\u001b[0;32m   2702\u001b[0m                 \u001b[0mrv\u001b[0m \u001b[1;33m=\u001b[0m \u001b[0mother\u001b[0m\u001b[1;33m.\u001b[0m\u001b[0mget\u001b[0m\u001b[1;33m(\u001b[0m\u001b[0midx\u001b[0m\u001b[1;33m,\u001b[0m \u001b[0mfill_value\u001b[0m\u001b[1;33m)\u001b[0m\u001b[1;33m\u001b[0m\u001b[1;33m\u001b[0m\u001b[0m\n\u001b[0;32m   2703\u001b[0m                 \u001b[1;32mwith\u001b[0m \u001b[0mnp\u001b[0m\u001b[1;33m.\u001b[0m\u001b[0merrstate\u001b[0m\u001b[1;33m(\u001b[0m\u001b[0mall\u001b[0m\u001b[1;33m=\u001b[0m\u001b[1;34m\"ignore\"\u001b[0m\u001b[1;33m)\u001b[0m\u001b[1;33m:\u001b[0m\u001b[1;33m\u001b[0m\u001b[1;33m\u001b[0m\u001b[0m\n",
      "\u001b[1;32m~\\.conda\\envs\\synthesis\\lib\\site-packages\\pandas\\core\\generic.py\u001b[0m in \u001b[0;36mget\u001b[1;34m(self, key, default)\u001b[0m\n\u001b[0;32m   3783\u001b[0m         \"\"\"\n\u001b[0;32m   3784\u001b[0m         \u001b[1;32mtry\u001b[0m\u001b[1;33m:\u001b[0m\u001b[1;33m\u001b[0m\u001b[1;33m\u001b[0m\u001b[0m\n\u001b[1;32m-> 3785\u001b[1;33m             \u001b[1;32mreturn\u001b[0m \u001b[0mself\u001b[0m\u001b[1;33m[\u001b[0m\u001b[0mkey\u001b[0m\u001b[1;33m]\u001b[0m\u001b[1;33m\u001b[0m\u001b[1;33m\u001b[0m\u001b[0m\n\u001b[0m\u001b[0;32m   3786\u001b[0m         \u001b[1;32mexcept\u001b[0m \u001b[1;33m(\u001b[0m\u001b[0mKeyError\u001b[0m\u001b[1;33m,\u001b[0m \u001b[0mValueError\u001b[0m\u001b[1;33m,\u001b[0m \u001b[0mIndexError\u001b[0m\u001b[1;33m)\u001b[0m\u001b[1;33m:\u001b[0m\u001b[1;33m\u001b[0m\u001b[1;33m\u001b[0m\u001b[0m\n\u001b[0;32m   3787\u001b[0m             \u001b[1;32mreturn\u001b[0m \u001b[0mdefault\u001b[0m\u001b[1;33m\u001b[0m\u001b[1;33m\u001b[0m\u001b[0m\n",
      "\u001b[1;32m~\\.conda\\envs\\synthesis\\lib\\site-packages\\pandas\\core\\series.py\u001b[0m in \u001b[0;36m__getitem__\u001b[1;34m(self, key)\u001b[0m\n\u001b[0;32m    869\u001b[0m         \u001b[0mkey\u001b[0m \u001b[1;33m=\u001b[0m \u001b[0mcom\u001b[0m\u001b[1;33m.\u001b[0m\u001b[0mapply_if_callable\u001b[0m\u001b[1;33m(\u001b[0m\u001b[0mkey\u001b[0m\u001b[1;33m,\u001b[0m \u001b[0mself\u001b[0m\u001b[1;33m)\u001b[0m\u001b[1;33m\u001b[0m\u001b[1;33m\u001b[0m\u001b[0m\n\u001b[0;32m    870\u001b[0m         \u001b[1;32mtry\u001b[0m\u001b[1;33m:\u001b[0m\u001b[1;33m\u001b[0m\u001b[1;33m\u001b[0m\u001b[0m\n\u001b[1;32m--> 871\u001b[1;33m             \u001b[0mresult\u001b[0m \u001b[1;33m=\u001b[0m \u001b[0mself\u001b[0m\u001b[1;33m.\u001b[0m\u001b[0mindex\u001b[0m\u001b[1;33m.\u001b[0m\u001b[0mget_value\u001b[0m\u001b[1;33m(\u001b[0m\u001b[0mself\u001b[0m\u001b[1;33m,\u001b[0m \u001b[0mkey\u001b[0m\u001b[1;33m)\u001b[0m\u001b[1;33m\u001b[0m\u001b[1;33m\u001b[0m\u001b[0m\n\u001b[0m\u001b[0;32m    872\u001b[0m \u001b[1;33m\u001b[0m\u001b[0m\n\u001b[0;32m    873\u001b[0m             \u001b[1;32mif\u001b[0m \u001b[1;32mnot\u001b[0m \u001b[0mis_scalar\u001b[0m\u001b[1;33m(\u001b[0m\u001b[0mresult\u001b[0m\u001b[1;33m)\u001b[0m\u001b[1;33m:\u001b[0m\u001b[1;33m\u001b[0m\u001b[1;33m\u001b[0m\u001b[0m\n",
      "\u001b[1;32m~\\.conda\\envs\\synthesis\\lib\\site-packages\\pandas\\core\\indexes\\multi.py\u001b[0m in \u001b[0;36mget_value\u001b[1;34m(self, series, key)\u001b[0m\n\u001b[0;32m   1476\u001b[0m         \u001b[0mk\u001b[0m \u001b[1;33m=\u001b[0m \u001b[0mcom\u001b[0m\u001b[1;33m.\u001b[0m\u001b[0mvalues_from_object\u001b[0m\u001b[1;33m(\u001b[0m\u001b[0mkey\u001b[0m\u001b[1;33m)\u001b[0m\u001b[1;33m\u001b[0m\u001b[1;33m\u001b[0m\u001b[0m\n\u001b[0;32m   1477\u001b[0m \u001b[1;33m\u001b[0m\u001b[0m\n\u001b[1;32m-> 1478\u001b[1;33m         \u001b[1;32mdef\u001b[0m \u001b[0m_try_mi\u001b[0m\u001b[1;33m(\u001b[0m\u001b[0mk\u001b[0m\u001b[1;33m)\u001b[0m\u001b[1;33m:\u001b[0m\u001b[1;33m\u001b[0m\u001b[1;33m\u001b[0m\u001b[0m\n\u001b[0m\u001b[0;32m   1479\u001b[0m             \u001b[1;31m# TODO: what if a level contains tuples??\u001b[0m\u001b[1;33m\u001b[0m\u001b[1;33m\u001b[0m\u001b[1;33m\u001b[0m\u001b[0m\n\u001b[0;32m   1480\u001b[0m             \u001b[0mloc\u001b[0m \u001b[1;33m=\u001b[0m \u001b[0mself\u001b[0m\u001b[1;33m.\u001b[0m\u001b[0mget_loc\u001b[0m\u001b[1;33m(\u001b[0m\u001b[0mk\u001b[0m\u001b[1;33m)\u001b[0m\u001b[1;33m\u001b[0m\u001b[1;33m\u001b[0m\u001b[0m\n",
      "\u001b[1;31mKeyboardInterrupt\u001b[0m: "
     ]
    }
   ],
   "source": [
    "pb_location = PrivBayes(degree_network=2, epsilon=epsilon)\n",
    "pb_location.fit(df_crimes_sub[crime_location])"
   ]
  },
  {
   "cell_type": "markdown",
   "metadata": {},
   "source": [
    "# Crime Details"
   ]
  },
  {
   "cell_type": "code",
   "execution_count": 50,
   "metadata": {},
   "outputs": [
    {
     "name": "stdout",
     "output_type": "stream",
     "text": [
      "1/5 - Degree of network (k): 2\n",
      "\n",
      "Root of network: FBI Code\n",
      "\n",
      "2/5 - Evaluating next node to add to network\n",
      "Sampled node: IUCR - with parents: ('FBI Code',)\n",
      "\n",
      "3/5 - Evaluating next node to add to network\n",
      "Sampled node: Arrest - with parents: ('IUCR', 'FBI Code')\n",
      "\n",
      "4/5 - Evaluating next node to add to network\n",
      "Sampled node: Location Description - with parents: ('Arrest', 'IUCR')\n",
      "\n",
      "5/5 - Evaluating next node to add to network\n",
      "Sampled node: Domestic - with parents: ('FBI Code', 'Location Description')\n",
      "\n",
      "Learned Network Structure\n",
      "\n",
      "Learning conditional probabilities: Arrest - with parents ('IUCR', 'FBI Code')\n",
      "Learning conditional probabilities: Location Description - with parents ('Arrest', 'IUCR')\n",
      "Learning conditional probabilities: Domestic - with parents ('FBI Code', 'Location Description')\n",
      "Learning conditional probabilities: IUCR - with parents ('FBI Code',)\n",
      "Learning conditional probabilities: FBI Code - with parents None\n"
     ]
    },
    {
     "data": {
      "text/plain": [
       "PrivBayes(epsilon=inf, theta_usefulness=None)"
      ]
     },
     "execution_count": 50,
     "metadata": {},
     "output_type": "execute_result"
    }
   ],
   "source": [
    "pb = PrivBayes(degree_network=2, epsilon =local_epsilon)\n",
    "pb.fit(df_crimes_sub[crime_details])"
   ]
  },
  {
   "cell_type": "code",
   "execution_count": 40,
   "metadata": {},
   "outputs": [
    {
     "data": {
      "text/plain": [
       "(1001, 23)"
      ]
     },
     "execution_count": 40,
     "metadata": {},
     "output_type": "execute_result"
    }
   ],
   "source": [
    "df_crimes_sub.shape"
   ]
  },
  {
   "cell_type": "code",
   "execution_count": 51,
   "metadata": {},
   "outputs": [
    {
     "name": "stdout",
     "output_type": "stream",
     "text": [
      "Number of records generated: 1001 / 1001\n",
      " Synthetic Data Generated\n"
     ]
    },
    {
     "data": {
      "text/html": [
       "<div>\n",
       "<style scoped>\n",
       "    .dataframe tbody tr th:only-of-type {\n",
       "        vertical-align: middle;\n",
       "    }\n",
       "\n",
       "    .dataframe tbody tr th {\n",
       "        vertical-align: top;\n",
       "    }\n",
       "\n",
       "    .dataframe thead th {\n",
       "        text-align: right;\n",
       "    }\n",
       "</style>\n",
       "<table border=\"1\" class=\"dataframe\">\n",
       "  <thead>\n",
       "    <tr style=\"text-align: right;\">\n",
       "      <th></th>\n",
       "      <th>IUCR</th>\n",
       "      <th>Location Description</th>\n",
       "      <th>Arrest</th>\n",
       "      <th>Domestic</th>\n",
       "      <th>FBI Code</th>\n",
       "    </tr>\n",
       "  </thead>\n",
       "  <tbody>\n",
       "    <tr>\n",
       "      <th>0</th>\n",
       "      <td>0486</td>\n",
       "      <td>APARTMENT</td>\n",
       "      <td>True</td>\n",
       "      <td>True</td>\n",
       "      <td>08B</td>\n",
       "    </tr>\n",
       "    <tr>\n",
       "      <th>1</th>\n",
       "      <td>1152</td>\n",
       "      <td>ATM (AUTOMATIC TELLER MACHINE)</td>\n",
       "      <td>False</td>\n",
       "      <td>False</td>\n",
       "      <td>11</td>\n",
       "    </tr>\n",
       "    <tr>\n",
       "      <th>2</th>\n",
       "      <td>0486</td>\n",
       "      <td>RESIDENCE</td>\n",
       "      <td>False</td>\n",
       "      <td>True</td>\n",
       "      <td>08B</td>\n",
       "    </tr>\n",
       "    <tr>\n",
       "      <th>3</th>\n",
       "      <td>2014</td>\n",
       "      <td>SIDEWALK</td>\n",
       "      <td>True</td>\n",
       "      <td>False</td>\n",
       "      <td>18</td>\n",
       "    </tr>\n",
       "    <tr>\n",
       "      <th>4</th>\n",
       "      <td>0820</td>\n",
       "      <td>STREET</td>\n",
       "      <td>False</td>\n",
       "      <td>False</td>\n",
       "      <td>06</td>\n",
       "    </tr>\n",
       "  </tbody>\n",
       "</table>\n",
       "</div>"
      ],
      "text/plain": [
       "   IUCR            Location Description Arrest Domestic FBI Code\n",
       "0  0486                       APARTMENT   True     True      08B\n",
       "1  1152  ATM (AUTOMATIC TELLER MACHINE)  False    False       11\n",
       "2  0486                       RESIDENCE  False     True      08B\n",
       "3  2014                        SIDEWALK   True    False       18\n",
       "4  0820                          STREET  False    False       06"
      ]
     },
     "execution_count": 51,
     "metadata": {},
     "output_type": "execute_result"
    }
   ],
   "source": [
    "df_synth_details = pb.transform(df_crimes_sub[crime_details])\n",
    "df_synth_details.head()"
   ]
  },
  {
   "cell_type": "code",
   "execution_count": 69,
   "metadata": {},
   "outputs": [
    {
     "data": {
      "text/html": [
       "<div>\n",
       "<style scoped>\n",
       "    .dataframe tbody tr th:only-of-type {\n",
       "        vertical-align: middle;\n",
       "    }\n",
       "\n",
       "    .dataframe tbody tr th {\n",
       "        vertical-align: top;\n",
       "    }\n",
       "\n",
       "    .dataframe thead th {\n",
       "        text-align: right;\n",
       "    }\n",
       "</style>\n",
       "<table border=\"1\" class=\"dataframe\">\n",
       "  <thead>\n",
       "    <tr style=\"text-align: right;\">\n",
       "      <th></th>\n",
       "      <th>age</th>\n",
       "      <th>sex</th>\n",
       "      <th>education</th>\n",
       "      <th>workclass</th>\n",
       "      <th>income</th>\n",
       "      <th>marital-status</th>\n",
       "      <th>relationship</th>\n",
       "      <th>native-country</th>\n",
       "      <th>race</th>\n",
       "    </tr>\n",
       "  </thead>\n",
       "  <tbody>\n",
       "    <tr>\n",
       "      <td>0</td>\n",
       "      <td>29</td>\n",
       "      <td>Male</td>\n",
       "      <td>Some-college</td>\n",
       "      <td>Private</td>\n",
       "      <td>&lt;=50K</td>\n",
       "      <td>Divorced</td>\n",
       "      <td>Not-in-family</td>\n",
       "      <td>England</td>\n",
       "      <td>White</td>\n",
       "    </tr>\n",
       "    <tr>\n",
       "      <td>1</td>\n",
       "      <td>36</td>\n",
       "      <td>Male</td>\n",
       "      <td>Bachelors</td>\n",
       "      <td>Private</td>\n",
       "      <td>&gt;50K</td>\n",
       "      <td>Married-civ-spouse</td>\n",
       "      <td>Husband</td>\n",
       "      <td>United-States</td>\n",
       "      <td>White</td>\n",
       "    </tr>\n",
       "    <tr>\n",
       "      <td>2</td>\n",
       "      <td>41</td>\n",
       "      <td>Male</td>\n",
       "      <td>Assoc-voc</td>\n",
       "      <td>Self-emp-not-inc</td>\n",
       "      <td>&lt;=50K</td>\n",
       "      <td>Never-married</td>\n",
       "      <td>Not-in-family</td>\n",
       "      <td>United-States</td>\n",
       "      <td>White</td>\n",
       "    </tr>\n",
       "    <tr>\n",
       "      <td>3</td>\n",
       "      <td>47</td>\n",
       "      <td>Male</td>\n",
       "      <td>Assoc-voc</td>\n",
       "      <td>Private</td>\n",
       "      <td>&lt;=50K</td>\n",
       "      <td>Divorced</td>\n",
       "      <td>Not-in-family</td>\n",
       "      <td>United-States</td>\n",
       "      <td>White</td>\n",
       "    </tr>\n",
       "    <tr>\n",
       "      <td>4</td>\n",
       "      <td>23</td>\n",
       "      <td>Female</td>\n",
       "      <td>Assoc-acdm</td>\n",
       "      <td>State-gov</td>\n",
       "      <td>&lt;=50K</td>\n",
       "      <td>Never-married</td>\n",
       "      <td>Own-child</td>\n",
       "      <td>United-States</td>\n",
       "      <td>Black</td>\n",
       "    </tr>\n",
       "  </tbody>\n",
       "</table>\n",
       "</div>"
      ],
      "text/plain": [
       "  age     sex     education         workclass income      marital-status   relationship native-country   race\n",
       "0  29    Male  Some-college           Private  <=50K            Divorced  Not-in-family        England  White\n",
       "1  36    Male     Bachelors           Private   >50K  Married-civ-spouse        Husband  United-States  White\n",
       "2  41    Male     Assoc-voc  Self-emp-not-inc  <=50K       Never-married  Not-in-family  United-States  White\n",
       "3  47    Male     Assoc-voc           Private  <=50K            Divorced  Not-in-family  United-States  White\n",
       "4  23  Female    Assoc-acdm         State-gov  <=50K       Never-married      Own-child  United-States  Black"
      ]
     },
     "execution_count": 69,
     "metadata": {},
     "output_type": "execute_result"
    }
   ],
   "source": [
    "df_synth.head()"
   ]
  },
  {
   "cell_type": "markdown",
   "metadata": {},
   "source": [
    "## Date Sequences"
   ]
  },
  {
   "cell_type": "code",
   "execution_count": 79,
   "metadata": {},
   "outputs": [
    {
     "data": {
      "text/plain": [
       "<module 'synthesis.preprocessing.dates' from 'C:\\\\Users\\\\dkn1904.51564\\\\DataScience\\\\Projects\\\\synthetic_data_generation\\\\synthetic_data_generation\\\\synthesis\\\\preprocessing\\\\dates.py'>"
      ]
     },
     "execution_count": 79,
     "metadata": {},
     "output_type": "execute_result"
    }
   ],
   "source": [
    "reload(synthesis.preprocessing.dates)\n",
    "from synthesis.preprocessing.dates import GeneralizeDateSequence"
   ]
  },
  {
   "cell_type": "code",
   "execution_count": 56,
   "metadata": {},
   "outputs": [
    {
     "data": {
      "text/html": [
       "<div>\n",
       "<style scoped>\n",
       "    .dataframe tbody tr th:only-of-type {\n",
       "        vertical-align: middle;\n",
       "    }\n",
       "\n",
       "    .dataframe tbody tr th {\n",
       "        vertical-align: top;\n",
       "    }\n",
       "\n",
       "    .dataframe thead th {\n",
       "        text-align: right;\n",
       "    }\n",
       "</style>\n",
       "<table border=\"1\" class=\"dataframe\">\n",
       "  <thead>\n",
       "    <tr style=\"text-align: right;\">\n",
       "      <th></th>\n",
       "      <th>Date</th>\n",
       "      <th>Updated On</th>\n",
       "    </tr>\n",
       "  </thead>\n",
       "  <tbody>\n",
       "    <tr>\n",
       "      <th>0</th>\n",
       "      <td>05/03/2016 11:40:00 PM</td>\n",
       "      <td>05/10/2016 03:56:50 PM</td>\n",
       "    </tr>\n",
       "    <tr>\n",
       "      <th>1</th>\n",
       "      <td>05/03/2016 09:40:00 PM</td>\n",
       "      <td>05/10/2016 03:56:50 PM</td>\n",
       "    </tr>\n",
       "    <tr>\n",
       "      <th>2</th>\n",
       "      <td>05/03/2016 11:31:00 PM</td>\n",
       "      <td>05/10/2016 03:56:50 PM</td>\n",
       "    </tr>\n",
       "    <tr>\n",
       "      <th>3</th>\n",
       "      <td>05/03/2016 10:10:00 PM</td>\n",
       "      <td>05/10/2016 03:56:50 PM</td>\n",
       "    </tr>\n",
       "    <tr>\n",
       "      <th>4</th>\n",
       "      <td>05/03/2016 10:00:00 PM</td>\n",
       "      <td>05/10/2016 03:56:50 PM</td>\n",
       "    </tr>\n",
       "  </tbody>\n",
       "</table>\n",
       "</div>"
      ],
      "text/plain": [
       "                     Date              Updated On\n",
       "0  05/03/2016 11:40:00 PM  05/10/2016 03:56:50 PM\n",
       "1  05/03/2016 09:40:00 PM  05/10/2016 03:56:50 PM\n",
       "2  05/03/2016 11:31:00 PM  05/10/2016 03:56:50 PM\n",
       "3  05/03/2016 10:10:00 PM  05/10/2016 03:56:50 PM\n",
       "4  05/03/2016 10:00:00 PM  05/10/2016 03:56:50 PM"
      ]
     },
     "execution_count": 56,
     "metadata": {},
     "output_type": "execute_result"
    }
   ],
   "source": [
    "df_crimes_sub[date_sequence].head()"
   ]
  },
  {
   "cell_type": "code",
   "execution_count": 77,
   "metadata": {},
   "outputs": [
    {
     "data": {
      "text/plain": [
       "GeneralizeDateSequence(date_sequence=['Date', 'Updated On'])"
      ]
     },
     "execution_count": 77,
     "metadata": {},
     "output_type": "execute_result"
    },
    {
     "data": {
      "text/html": [
       "<div>\n",
       "<style scoped>\n",
       "    .dataframe tbody tr th:only-of-type {\n",
       "        vertical-align: middle;\n",
       "    }\n",
       "\n",
       "    .dataframe tbody tr th {\n",
       "        vertical-align: top;\n",
       "    }\n",
       "\n",
       "    .dataframe thead th {\n",
       "        text-align: right;\n",
       "    }\n",
       "</style>\n",
       "<table border=\"1\" class=\"dataframe\">\n",
       "  <thead>\n",
       "    <tr style=\"text-align: right;\">\n",
       "      <th></th>\n",
       "      <th>Date</th>\n",
       "      <th>Updated On</th>\n",
       "    </tr>\n",
       "  </thead>\n",
       "  <tbody>\n",
       "    <tr>\n",
       "      <th>0</th>\n",
       "      <td>2016-05</td>\n",
       "      <td>6</td>\n",
       "    </tr>\n",
       "    <tr>\n",
       "      <th>1</th>\n",
       "      <td>2016-05</td>\n",
       "      <td>6</td>\n",
       "    </tr>\n",
       "    <tr>\n",
       "      <th>2</th>\n",
       "      <td>2016-05</td>\n",
       "      <td>6</td>\n",
       "    </tr>\n",
       "    <tr>\n",
       "      <th>3</th>\n",
       "      <td>2016-05</td>\n",
       "      <td>6</td>\n",
       "    </tr>\n",
       "    <tr>\n",
       "      <th>4</th>\n",
       "      <td>2016-05</td>\n",
       "      <td>6</td>\n",
       "    </tr>\n",
       "  </tbody>\n",
       "</table>\n",
       "</div>"
      ],
      "text/plain": [
       "      Date  Updated On\n",
       "0  2016-05           6\n",
       "1  2016-05           6\n",
       "2  2016-05           6\n",
       "3  2016-05           6\n",
       "4  2016-05           6"
      ]
     },
     "execution_count": 77,
     "metadata": {},
     "output_type": "execute_result"
    }
   ],
   "source": [
    "gds = GeneralizeDateSequence(date_sequence)\n",
    "gds.fit(df_crimes_sub[date_sequence])\n",
    "df_generalized_dates = gds.transform(df_crimes_sub[date_sequence])\n",
    "df_generalized_dates.head()"
   ]
  },
  {
   "cell_type": "code",
   "execution_count": 70,
   "metadata": {},
   "outputs": [
    {
     "name": "stdout",
     "output_type": "stream",
     "text": [
      "1/2 - Degree of network (k): 1\n",
      "\n",
      "1/2 - init node Date - with parents: None\n",
      "2/2 - init node Updated On - with parents: ['Date']\n",
      "Learned Network Structure\n",
      "\n",
      "Learning conditional probabilities: Updated On - with parents ['Date']\n",
      "Learning conditional probabilities: Date - with parents None\n"
     ]
    },
    {
     "data": {
      "text/plain": [
       "PrivBayes(epsilon=inf, theta_usefulness=None)"
      ]
     },
     "execution_count": 70,
     "metadata": {},
     "output_type": "execute_result"
    },
    {
     "name": "stdout",
     "output_type": "stream",
     "text": [
      "Number of records generated: 1001 / 1001\n",
      " Synthetic Data Generated\n"
     ]
    },
    {
     "data": {
      "text/html": [
       "<div>\n",
       "<style scoped>\n",
       "    .dataframe tbody tr th:only-of-type {\n",
       "        vertical-align: middle;\n",
       "    }\n",
       "\n",
       "    .dataframe tbody tr th {\n",
       "        vertical-align: top;\n",
       "    }\n",
       "\n",
       "    .dataframe thead th {\n",
       "        text-align: right;\n",
       "    }\n",
       "</style>\n",
       "<table border=\"1\" class=\"dataframe\">\n",
       "  <thead>\n",
       "    <tr style=\"text-align: right;\">\n",
       "      <th></th>\n",
       "      <th>Date</th>\n",
       "      <th>Updated On</th>\n",
       "    </tr>\n",
       "  </thead>\n",
       "  <tbody>\n",
       "    <tr>\n",
       "      <th>0</th>\n",
       "      <td>2016-05</td>\n",
       "      <td>6</td>\n",
       "    </tr>\n",
       "    <tr>\n",
       "      <th>1</th>\n",
       "      <td>2016-04</td>\n",
       "      <td>12</td>\n",
       "    </tr>\n",
       "    <tr>\n",
       "      <th>2</th>\n",
       "      <td>2016-05</td>\n",
       "      <td>7</td>\n",
       "    </tr>\n",
       "    <tr>\n",
       "      <th>3</th>\n",
       "      <td>2015-04</td>\n",
       "      <td>404</td>\n",
       "    </tr>\n",
       "    <tr>\n",
       "      <th>4</th>\n",
       "      <td>2016-03</td>\n",
       "      <td>70</td>\n",
       "    </tr>\n",
       "  </tbody>\n",
       "</table>\n",
       "</div>"
      ],
      "text/plain": [
       "      Date Updated On\n",
       "0  2016-05          6\n",
       "1  2016-04         12\n",
       "2  2016-05          7\n",
       "3  2015-04        404\n",
       "4  2016-03         70"
      ]
     },
     "execution_count": 70,
     "metadata": {},
     "output_type": "execute_result"
    }
   ],
   "source": [
    "pb_dates = PrivBayes(local_epsilon).set_network([NodeParentPair('Date', None), NodeParentPair('Updated On', ['Date'])])\n",
    "pb_dates.fit(df_generalized_dates)\n",
    "df_generalized_synth_dates = pb_dates.transform(df_generalized_dates)\n",
    "df_generalized_synth_dates.head()"
   ]
  },
  {
   "cell_type": "code",
   "execution_count": 86,
   "metadata": {},
   "outputs": [
    {
     "data": {
      "text/plain": [
       "05/11/2016 03:50:55 PM    543\n",
       "05/12/2016 03:48:29 PM    248\n",
       "05/10/2016 03:56:50 PM    163\n",
       "05/11/2016 03:48:18 PM     35\n",
       "05/12/2016 03:50:15 PM     10\n",
       "05/23/2016 03:48:54 PM      2\n",
       "Name: Updated On, dtype: int64"
      ]
     },
     "execution_count": 86,
     "metadata": {},
     "output_type": "execute_result"
    }
   ],
   "source": [
    "df_crimes_sub[date_sequence]['Updated On'].value_counts()"
   ]
  },
  {
   "cell_type": "code",
   "execution_count": 80,
   "metadata": {},
   "outputs": [
    {
     "data": {
      "text/html": [
       "<div>\n",
       "<style scoped>\n",
       "    .dataframe tbody tr th:only-of-type {\n",
       "        vertical-align: middle;\n",
       "    }\n",
       "\n",
       "    .dataframe tbody tr th {\n",
       "        vertical-align: top;\n",
       "    }\n",
       "\n",
       "    .dataframe thead th {\n",
       "        text-align: right;\n",
       "    }\n",
       "</style>\n",
       "<table border=\"1\" class=\"dataframe\">\n",
       "  <thead>\n",
       "    <tr style=\"text-align: right;\">\n",
       "      <th></th>\n",
       "      <th>Date</th>\n",
       "      <th>Updated On</th>\n",
       "    </tr>\n",
       "  </thead>\n",
       "  <tbody>\n",
       "    <tr>\n",
       "      <th>0</th>\n",
       "      <td>2016-05-17</td>\n",
       "      <td>2016-05-23</td>\n",
       "    </tr>\n",
       "    <tr>\n",
       "      <th>1</th>\n",
       "      <td>2016-04-04</td>\n",
       "      <td>2016-04-16</td>\n",
       "    </tr>\n",
       "    <tr>\n",
       "      <th>2</th>\n",
       "      <td>2016-05-24</td>\n",
       "      <td>2016-05-31</td>\n",
       "    </tr>\n",
       "    <tr>\n",
       "      <th>3</th>\n",
       "      <td>2015-04-01</td>\n",
       "      <td>2016-05-09</td>\n",
       "    </tr>\n",
       "    <tr>\n",
       "      <th>4</th>\n",
       "      <td>2016-03-27</td>\n",
       "      <td>2016-06-05</td>\n",
       "    </tr>\n",
       "  </tbody>\n",
       "</table>\n",
       "</div>"
      ],
      "text/plain": [
       "        Date Updated On\n",
       "0 2016-05-17 2016-05-23\n",
       "1 2016-04-04 2016-04-16\n",
       "2 2016-05-24 2016-05-31\n",
       "3 2015-04-01 2016-05-09\n",
       "4 2016-03-27 2016-06-05"
      ]
     },
     "execution_count": 80,
     "metadata": {},
     "output_type": "execute_result"
    }
   ],
   "source": [
    "df_synth_dates = gds.inverse_transform(dfnuniqueeneralized_synth_dates)\n",
    "df_synth_dates.head()"
   ]
  },
  {
   "cell_type": "code",
   "execution_count": 81,
   "metadata": {},
   "outputs": [
    {
     "name": "stdout",
     "output_type": "stream",
     "text": [
      "====================================================================================================\n",
      "Date\n",
      "                        real  synthetic\n",
      "01/01/2012 12:00:00 AM   2.0        NaN\n",
      "01/01/2014 09:00:00 AM   1.0        NaN\n",
      "01/01/2015 12:00:00 AM   2.0        NaN\n",
      "01/01/2016 12:00:00 AM   1.0        NaN\n",
      "01/01/2016 12:01:00 AM   2.0        NaN\n",
      "...                      ...        ...\n",
      "2016-05-27               NaN       16.0\n",
      "2016-05-28               NaN       23.0\n",
      "2016-05-29               NaN       18.0\n",
      "2016-05-30               NaN       24.0\n",
      "2016-05-31               NaN       16.0\n",
      "\n",
      "[848 rows x 2 columns]\n",
      "====================================================================================================\n",
      "Updated On\n",
      "                         real  synthetic\n",
      "05/10/2016 03:56:50 PM  163.0        NaN\n",
      "05/11/2016 03:48:18 PM   35.0        NaN\n",
      "05/11/2016 03:50:55 PM  543.0        NaN\n",
      "05/12/2016 03:48:29 PM  248.0        NaN\n",
      "05/12/2016 03:50:15 PM   10.0        NaN\n",
      "05/23/2016 03:48:54 PM    2.0        NaN\n",
      "2016-04-13                NaN        2.0\n",
      "2016-04-15                NaN        1.0\n",
      "2016-04-16                NaN        1.0\n",
      "2016-04-17                NaN        1.0\n",
      "2016-04-18                NaN        1.0\n",
      "2016-04-19                NaN        2.0\n",
      "2016-04-20                NaN        5.0\n",
      "2016-04-21                NaN        1.0\n",
      "2016-04-22                NaN        2.0\n",
      "2016-04-23                NaN        3.0\n",
      "2016-04-25                NaN        3.0\n",
      "2016-04-27                NaN        3.0\n",
      "2016-04-28                NaN        6.0\n",
      "2016-04-29                NaN        7.0\n",
      "2016-04-30                NaN        6.0\n",
      "2016-05-01                NaN        9.0\n",
      "2016-05-02                NaN        7.0\n",
      "2016-05-03                NaN        9.0\n",
      "2016-05-04                NaN       10.0\n",
      "2016-05-05                NaN        7.0\n",
      "2016-05-06                NaN        5.0\n",
      "2016-05-07                NaN       23.0\n",
      "2016-05-08                NaN       28.0\n",
      "2016-05-09                NaN       37.0\n",
      "2016-05-10                NaN       34.0\n",
      "2016-05-11                NaN       26.0\n",
      "2016-05-12                NaN       29.0\n",
      "2016-05-13                NaN       30.0\n",
      "2016-05-14                NaN       35.0\n",
      "2016-05-15                NaN       20.0\n",
      "2016-05-16                NaN       27.0\n",
      "2016-05-17                NaN       33.0\n",
      "2016-05-18                NaN       33.0\n",
      "2016-05-19                NaN       38.0\n",
      "2016-05-20                NaN       27.0\n",
      "2016-05-21                NaN       39.0\n",
      "2016-05-22                NaN       22.0\n",
      "2016-05-23                NaN       37.0\n",
      "2016-05-24                NaN       32.0\n",
      "2016-05-25                NaN       32.0\n",
      "2016-05-26                NaN       37.0\n",
      "2016-05-27                NaN       28.0\n",
      "2016-05-28                NaN       28.0\n",
      "2016-05-29                NaN       36.0\n",
      "2016-05-30                NaN       20.0\n",
      "2016-05-31                NaN       25.0\n",
      "2016-06-01                NaN       29.0\n",
      "2016-06-02                NaN       19.0\n",
      "2016-06-03                NaN       19.0\n",
      "2016-06-04                NaN       26.0\n",
      "2016-06-05                NaN       20.0\n",
      "2016-06-06                NaN       24.0\n",
      "2016-06-07                NaN        8.0\n",
      "2016-06-08                NaN        2.0\n",
      "2016-06-09                NaN        3.0\n",
      "2016-06-10                NaN        3.0\n",
      "2016-06-11                NaN        1.0\n"
     ]
    }
   ],
   "source": [
    "compare_synthetic_data(df_crimes_sub[date_sequence], df_synth_dates)"
   ]
  },
  {
   "cell_type": "markdown",
   "metadata": {},
   "source": [
    "## Chaining all these components together in one Pipeline\n",
    "As we're chaining multiple synthesizers we need split our privacy budget 'epsilon'."
   ]
  },
  {
   "cell_type": "code",
   "execution_count": null,
   "metadata": {},
   "outputs": [],
   "source": [
    "from sklearn.compose import ColumnTransformer"
   ]
  },
  {
   "cell_type": "code",
   "execution_count": null,
   "metadata": {},
   "outputs": [],
   "source": [
    "multi_synthesizer = ColumnTransformer(\n",
    "    [\n",
    "        ('crime_location', PrivBayes(epsilon=local_epsilon), crime_location)\n",
    "#         ('crime_details', PrivBayesFix(epsilon=local_epsilon).set_network[NodeParentPair('IUCR', None)], crime_details)\n",
    "    ]\n",
    ")\n",
    "df_synth = multi_synthesizer.fit_transform(df_crimes)"
   ]
  },
  {
   "cell_type": "markdown",
   "metadata": {},
   "source": [
    "Unfortunately sklearn return numpy arrays. Naturally we'd like to retain the functionality of pandas thus we need to map it back to a DataFrame."
   ]
  },
  {
   "cell_type": "code",
   "execution_count": 9,
   "metadata": {},
   "outputs": [],
   "source": [
    "combined_cols = synth1_cols + synth2_cols\n",
    "df_synth = pd.DataFrame(df_synth, columns=combined_cols)"
   ]
  },
  {
   "cell_type": "markdown",
   "metadata": {},
   "source": [
    "# Evaluate results"
   ]
  },
  {
   "cell_type": "code",
   "execution_count": 10,
   "metadata": {},
   "outputs": [],
   "source": [
    "from scipy.spatial.distance import cdist"
   ]
  },
  {
   "cell_type": "code",
   "execution_count": 11,
   "metadata": {},
   "outputs": [],
   "source": [
    "df_adult_subset = df_adult[combined_cols]"
   ]
  },
  {
   "cell_type": "code",
   "execution_count": 16,
   "metadata": {},
   "outputs": [],
   "source": [
    "distance = cdist(df_adult_subset['age'].values.reshape(-1,1), df_synth['age'].values.reshape(-1,1), metric='jensenshannon')"
   ]
  },
  {
   "cell_type": "code",
   "execution_count": 19,
   "metadata": {},
   "outputs": [
    {
     "data": {
      "text/plain": [
       "(32561, 1)"
      ]
     },
     "execution_count": 19,
     "metadata": {},
     "output_type": "execute_result"
    }
   ],
   "source": [
    "df_adult_subset['age'].values.reshape(-1,1).shape"
   ]
  },
  {
   "cell_type": "code",
   "execution_count": 22,
   "metadata": {},
   "outputs": [],
   "source": [
    "import scipy"
   ]
  },
  {
   "cell_type": "code",
   "execution_count": 23,
   "metadata": {},
   "outputs": [
    {
     "data": {
      "text/plain": [
       "array([0.17361559])"
      ]
     },
     "execution_count": 23,
     "metadata": {},
     "output_type": "execute_result"
    }
   ],
   "source": [
    "def jensen_shannon_distance(p, q):\n",
    "    \"\"\"\n",
    "    method to compute the Jenson-Shannon Distance \n",
    "    between two probability distributions\n",
    "    \"\"\"\n",
    "\n",
    "    # convert the vectors into numpy arrays in case that they aren't\n",
    "    p = np.array(p)\n",
    "    q = np.array(q)\n",
    "\n",
    "    # calculate m\n",
    "    m = (p + q) / 2\n",
    "\n",
    "    # compute Jensen Shannon Divergence\n",
    "    divergence = (scipy.stats.entropy(p, m) + scipy.stats.entropy(q, m)) / 2\n",
    "\n",
    "    # compute the Jensen Shannon Distance\n",
    "    distance = np.sqrt(divergence)\n",
    "\n",
    "    return distance\n",
    "\n",
    "jensen_shannon_distance(df_adult_subset['age'].astype(int).values.reshape(-1,1), df_synth['age'].astype(int).values.reshape(-1,1))"
   ]
  },
  {
   "cell_type": "code",
   "execution_count": 31,
   "metadata": {},
   "outputs": [
    {
     "data": {
      "text/plain": [
       "0.17361558745338193"
      ]
     },
     "execution_count": 31,
     "metadata": {},
     "output_type": "execute_result"
    }
   ],
   "source": [
    "scipy.spatial.distance.jensenshannon(df_adult_subset['age'].astype(int), df_synth['age'].astype(int))"
   ]
  },
  {
   "cell_type": "code",
   "execution_count": 32,
   "metadata": {},
   "outputs": [
    {
     "data": {
      "text/plain": [
       "155764.36809310576"
      ]
     },
     "execution_count": 32,
     "metadata": {},
     "output_type": "execute_result"
    }
   ],
   "source": [
    "scipy.special.kl_div(df_adult_subset['age'].astype(int).values.reshape(-1,1), df_synth['age'].astype(int).values.reshape(-1,1)).sum()"
   ]
  },
  {
   "cell_type": "markdown",
   "metadata": {},
   "source": [
    "# old"
   ]
  },
  {
   "cell_type": "markdown",
   "metadata": {},
   "source": [
    "Call and fit synthesizer object on our data. \n",
    "\n",
    "In this example we use a simple Schema Synthesizer. This method models all the values in each column separately and samples on a columnar basis. Thus does not take into account the relationships that exist between columns.\n",
    "\n",
    "Optional: set a value of epsilon to obtain a differentially private model of the data."
   ]
  },
  {
   "cell_type": "code",
   "execution_count": 120,
   "metadata": {},
   "outputs": [
    {
     "name": "stdout",
     "output_type": "stream",
     "text": [
      "fit completed\n"
     ]
    }
   ],
   "source": [
    "synthesizer = SchemaSynthesizer(epsilon=1)\n",
    "synthesizer.fit(df_adult)"
   ]
  },
  {
   "cell_type": "markdown",
   "metadata": {},
   "source": [
    "After our synthesizer has fitted the structure of the original data source, we can now use to generate a new dataset."
   ]
  },
  {
   "cell_type": "code",
   "execution_count": 121,
   "metadata": {},
   "outputs": [
    {
     "name": "stdout",
     "output_type": "stream",
     "text": [
      "Column sampled: age\n",
      "Column sampled: workclass\n",
      "Column sampled: fnlwgt\n",
      "Column sampled: education\n",
      "Column sampled: education-num\n",
      "Column sampled: marital-status\n",
      "Column sampled: occupation\n",
      "Column sampled: relationship\n",
      "Column sampled: race\n",
      "Column sampled: sex\n",
      "Column sampled: capital-gain\n",
      "Column sampled: capital-loss\n",
      "Column sampled: hours-per-week\n",
      "Column sampled: native-country\n",
      "Column sampled: income\n"
     ]
    }
   ],
   "source": [
    "df_adult_synth = synthesizer.generate()"
   ]
  },
  {
   "cell_type": "markdown",
   "metadata": {},
   "source": [
    "We now obtained a new dataset which looks very similar to the original one."
   ]
  },
  {
   "cell_type": "code",
   "execution_count": 122,
   "metadata": {},
   "outputs": [
    {
     "data": {
      "text/html": [
       "<div>\n",
       "<style scoped>\n",
       "    .dataframe tbody tr th:only-of-type {\n",
       "        vertical-align: middle;\n",
       "    }\n",
       "\n",
       "    .dataframe tbody tr th {\n",
       "        vertical-align: top;\n",
       "    }\n",
       "\n",
       "    .dataframe thead th {\n",
       "        text-align: right;\n",
       "    }\n",
       "</style>\n",
       "<table border=\"1\" class=\"dataframe\">\n",
       "  <thead>\n",
       "    <tr style=\"text-align: right;\">\n",
       "      <th></th>\n",
       "      <th>age</th>\n",
       "      <th>workclass</th>\n",
       "      <th>fnlwgt</th>\n",
       "      <th>education</th>\n",
       "      <th>education-num</th>\n",
       "      <th>marital-status</th>\n",
       "      <th>occupation</th>\n",
       "      <th>relationship</th>\n",
       "      <th>race</th>\n",
       "      <th>sex</th>\n",
       "      <th>capital-gain</th>\n",
       "      <th>capital-loss</th>\n",
       "      <th>hours-per-week</th>\n",
       "      <th>native-country</th>\n",
       "      <th>income</th>\n",
       "    </tr>\n",
       "  </thead>\n",
       "  <tbody>\n",
       "    <tr>\n",
       "      <th>0</th>\n",
       "      <td>35</td>\n",
       "      <td>Private</td>\n",
       "      <td>188467</td>\n",
       "      <td>Some-college</td>\n",
       "      <td>8</td>\n",
       "      <td>Never-married</td>\n",
       "      <td>Adm-clerical</td>\n",
       "      <td>Husband</td>\n",
       "      <td>White</td>\n",
       "      <td>Male</td>\n",
       "      <td>0</td>\n",
       "      <td>0</td>\n",
       "      <td>30</td>\n",
       "      <td>United-States</td>\n",
       "      <td>&lt;=50K</td>\n",
       "    </tr>\n",
       "    <tr>\n",
       "      <th>1</th>\n",
       "      <td>64</td>\n",
       "      <td>Private</td>\n",
       "      <td>178142</td>\n",
       "      <td>Bachelors</td>\n",
       "      <td>11</td>\n",
       "      <td>Married-civ-spouse</td>\n",
       "      <td>Other-service</td>\n",
       "      <td>Own-child</td>\n",
       "      <td>White</td>\n",
       "      <td>Male</td>\n",
       "      <td>0</td>\n",
       "      <td>0</td>\n",
       "      <td>48</td>\n",
       "      <td>United-States</td>\n",
       "      <td>&lt;=50K</td>\n",
       "    </tr>\n",
       "    <tr>\n",
       "      <th>2</th>\n",
       "      <td>47</td>\n",
       "      <td>Private</td>\n",
       "      <td>50122</td>\n",
       "      <td>HS-grad</td>\n",
       "      <td>13</td>\n",
       "      <td>Married-civ-spouse</td>\n",
       "      <td>Farming-fishing</td>\n",
       "      <td>Husband</td>\n",
       "      <td>White</td>\n",
       "      <td>Male</td>\n",
       "      <td>0</td>\n",
       "      <td>0</td>\n",
       "      <td>40</td>\n",
       "      <td>United-States</td>\n",
       "      <td>&lt;=50K</td>\n",
       "    </tr>\n",
       "    <tr>\n",
       "      <th>3</th>\n",
       "      <td>49</td>\n",
       "      <td>Self-emp-not-inc</td>\n",
       "      <td>175360</td>\n",
       "      <td>HS-grad</td>\n",
       "      <td>5</td>\n",
       "      <td>Married-civ-spouse</td>\n",
       "      <td>Other-service</td>\n",
       "      <td>Own-child</td>\n",
       "      <td>White</td>\n",
       "      <td>Male</td>\n",
       "      <td>0</td>\n",
       "      <td>0</td>\n",
       "      <td>40</td>\n",
       "      <td>United-States</td>\n",
       "      <td>&lt;=50K</td>\n",
       "    </tr>\n",
       "    <tr>\n",
       "      <th>4</th>\n",
       "      <td>52</td>\n",
       "      <td>Private</td>\n",
       "      <td>108183</td>\n",
       "      <td>HS-grad</td>\n",
       "      <td>4</td>\n",
       "      <td>Married-civ-spouse</td>\n",
       "      <td>Exec-managerial</td>\n",
       "      <td>Unmarried</td>\n",
       "      <td>White</td>\n",
       "      <td>Male</td>\n",
       "      <td>0</td>\n",
       "      <td>0</td>\n",
       "      <td>40</td>\n",
       "      <td>United-States</td>\n",
       "      <td>&lt;=50K</td>\n",
       "    </tr>\n",
       "  </tbody>\n",
       "</table>\n",
       "</div>"
      ],
      "text/plain": [
       "  age          workclass  fnlwgt      education education-num       marital-status        occupation relationship    race    sex capital-gain capital-loss hours-per-week  native-country  income\n",
       "0  35            Private  188467   Some-college             8        Never-married      Adm-clerical      Husband   White   Male            0            0             30   United-States   <=50K\n",
       "1  64            Private  178142      Bachelors            11   Married-civ-spouse     Other-service    Own-child   White   Male            0            0             48   United-States   <=50K\n",
       "2  47            Private   50122        HS-grad            13   Married-civ-spouse   Farming-fishing      Husband   White   Male            0            0             40   United-States   <=50K\n",
       "3  49   Self-emp-not-inc  175360        HS-grad             5   Married-civ-spouse     Other-service    Own-child   White   Male            0            0             40   United-States   <=50K\n",
       "4  52            Private  108183        HS-grad             4   Married-civ-spouse   Exec-managerial    Unmarried   White   Male            0            0             40   United-States   <=50K"
      ]
     },
     "execution_count": 122,
     "metadata": {},
     "output_type": "execute_result"
    }
   ],
   "source": [
    "df_adult_synth.head()"
   ]
  },
  {
   "cell_type": "markdown",
   "metadata": {},
   "source": [
    "## Optional: Other ways we can interact with the Schema_Synthesizer"
   ]
  },
  {
   "cell_type": "markdown",
   "metadata": {},
   "source": [
    "We could save the model we have created into a json file, so that we can share it with others or resample from it again in the future."
   ]
  },
  {
   "cell_type": "code",
   "execution_count": 123,
   "metadata": {},
   "outputs": [],
   "source": [
    "synthesizer.save_model(path='models/adult.json')"
   ]
  },
  {
   "cell_type": "markdown",
   "metadata": {},
   "source": [
    "Instead of fitting the model on the data again, we can simply load a model we have saved earlier.\n",
    "\n",
    "Note: we do have to specify the number of records we would like since we cannot infer this from the original dataset."
   ]
  },
  {
   "cell_type": "code",
   "execution_count": 124,
   "metadata": {},
   "outputs": [
    {
     "name": "stdout",
     "output_type": "stream",
     "text": [
      "Column sampled: age\n",
      "Column sampled: workclass\n",
      "Column sampled: fnlwgt\n",
      "Column sampled: education\n",
      "Column sampled: education-num\n",
      "Column sampled: marital-status\n",
      "Column sampled: occupation\n",
      "Column sampled: relationship\n",
      "Column sampled: race\n",
      "Column sampled: sex\n",
      "Column sampled: capital-gain\n",
      "Column sampled: capital-loss\n",
      "Column sampled: hours-per-week\n",
      "Column sampled: native-country\n",
      "Column sampled: income\n"
     ]
    },
    {
     "data": {
      "text/html": [
       "<div>\n",
       "<style scoped>\n",
       "    .dataframe tbody tr th:only-of-type {\n",
       "        vertical-align: middle;\n",
       "    }\n",
       "\n",
       "    .dataframe tbody tr th {\n",
       "        vertical-align: top;\n",
       "    }\n",
       "\n",
       "    .dataframe thead th {\n",
       "        text-align: right;\n",
       "    }\n",
       "</style>\n",
       "<table border=\"1\" class=\"dataframe\">\n",
       "  <thead>\n",
       "    <tr style=\"text-align: right;\">\n",
       "      <th></th>\n",
       "      <th>age</th>\n",
       "      <th>workclass</th>\n",
       "      <th>fnlwgt</th>\n",
       "      <th>education</th>\n",
       "      <th>education-num</th>\n",
       "      <th>marital-status</th>\n",
       "      <th>occupation</th>\n",
       "      <th>relationship</th>\n",
       "      <th>race</th>\n",
       "      <th>sex</th>\n",
       "      <th>capital-gain</th>\n",
       "      <th>capital-loss</th>\n",
       "      <th>hours-per-week</th>\n",
       "      <th>native-country</th>\n",
       "      <th>income</th>\n",
       "    </tr>\n",
       "  </thead>\n",
       "  <tbody>\n",
       "    <tr>\n",
       "      <th>0</th>\n",
       "      <td>42</td>\n",
       "      <td>State-gov</td>\n",
       "      <td>133060</td>\n",
       "      <td>7th-8th</td>\n",
       "      <td>9</td>\n",
       "      <td>Married-civ-spouse</td>\n",
       "      <td>Prof-specialty</td>\n",
       "      <td>Husband</td>\n",
       "      <td>White</td>\n",
       "      <td>Male</td>\n",
       "      <td>3137</td>\n",
       "      <td>0</td>\n",
       "      <td>40</td>\n",
       "      <td>United-States</td>\n",
       "      <td>&lt;=50K</td>\n",
       "    </tr>\n",
       "    <tr>\n",
       "      <th>1</th>\n",
       "      <td>37</td>\n",
       "      <td>Federal-gov</td>\n",
       "      <td>111795</td>\n",
       "      <td>HS-grad</td>\n",
       "      <td>10</td>\n",
       "      <td>Never-married</td>\n",
       "      <td>Prof-specialty</td>\n",
       "      <td>Wife</td>\n",
       "      <td>White</td>\n",
       "      <td>Female</td>\n",
       "      <td>0</td>\n",
       "      <td>0</td>\n",
       "      <td>38</td>\n",
       "      <td>United-States</td>\n",
       "      <td>&lt;=50K</td>\n",
       "    </tr>\n",
       "    <tr>\n",
       "      <th>2</th>\n",
       "      <td>43</td>\n",
       "      <td>Private</td>\n",
       "      <td>142566</td>\n",
       "      <td>Assoc-acdm</td>\n",
       "      <td>9</td>\n",
       "      <td>Married-spouse-absent</td>\n",
       "      <td>Machine-op-inspct</td>\n",
       "      <td>Not-in-family</td>\n",
       "      <td>White</td>\n",
       "      <td>Male</td>\n",
       "      <td>0</td>\n",
       "      <td>0</td>\n",
       "      <td>10</td>\n",
       "      <td>United-States</td>\n",
       "      <td>&lt;=50K</td>\n",
       "    </tr>\n",
       "  </tbody>\n",
       "</table>\n",
       "</div>"
      ],
      "text/plain": [
       "  age     workclass  fnlwgt    education education-num          marital-status          occupation    relationship    race      sex capital-gain capital-loss hours-per-week  native-country  income\n",
       "0  42     State-gov  133060      7th-8th             9      Married-civ-spouse      Prof-specialty         Husband   White     Male         3137            0             40   United-States   <=50K\n",
       "1  37   Federal-gov  111795      HS-grad            10           Never-married      Prof-specialty            Wife   White   Female            0            0             38   United-States   <=50K\n",
       "2  43       Private  142566   Assoc-acdm             9   Married-spouse-absent   Machine-op-inspct   Not-in-family   White     Male            0            0             10   United-States   <=50K"
      ]
     },
     "execution_count": 124,
     "metadata": {},
     "output_type": "execute_result"
    }
   ],
   "source": [
    "synthesizer_prefit = SchemaSynthesizer()\n",
    "synthesizer_prefit.load_model(path='models/adult.json')\n",
    "\n",
    "df_adult_synth_prefit = synthesizer_prefit.generate(num_records=10000)\n",
    "df_adult_synth_prefit.head(3)"
   ]
  },
  {
   "cell_type": "markdown",
   "metadata": {},
   "source": [
    "This also means that one can load an arbritary schema format directly into the Schema_Synthesizer that does not have to be based on real data. Hence, we can generate data with public information, as long as it follows the following structure:\n",
    "\n",
    "{\n",
    "\n",
    "    \"col_name\":{\n",
    "    \n",
    "        \"column_values\": [ list of values ],\n",
    "        \"counts\": [ list of counts ],\n",
    "        \"probs\": [ probabilities ]\n",
    "        \n",
    "        },\n",
    "    \"col_name_2\":{\n",
    "    \n",
    "        \"column_values\": [ list of values ],\n",
    "        \"counts\": [ list of counts ],\n",
    "        \"probs\": [ probabilities ]\n",
    "        \n",
    "        },\n",
    "    ...\n",
    "    \"col_name_n\": {\n",
    "   \n",
    "        \"column_values\": [ list of values ],\n",
    "        \"counts\": [ list of counts ],\n",
    "        \"probs\": [ probabilities ]\n",
    "      \n",
    "        }\n",
    "}\n",
    "\n",
    "\n",
    "\"probs\" can be random if not known, just need to follow the simple probability rule, that is, their total sum should equal to 1."
   ]
  },
  {
   "cell_type": "code",
   "execution_count": 135,
   "metadata": {},
   "outputs": [],
   "source": [
    "example_schema =  {\n",
    "    \"tumor_icd10\": {\n",
    "        \"column_values\": [\"C18\" , \"C19\", \"C20\", \"C21\"],\n",
    "        \"probs\": [0.25, 0.25, 0.25, 0.25]\n",
    "    },\n",
    "    \"gender\": {\n",
    "        \"column_values\": [\"male\", \"female\"],\n",
    "        \"probs\": [0.5, 0.5]\n",
    "    },\n",
    "    \"5year_survival\": {\n",
    "        \"column_values\": [\"0\", \"1\"],\n",
    "        \"probs\": [0.7, 0.3]\n",
    "    }\n",
    "}"
   ]
  },
  {
   "cell_type": "code",
   "execution_count": 138,
   "metadata": {},
   "outputs": [
    {
     "name": "stdout",
     "output_type": "stream",
     "text": [
      "Column sampled: tumor_icd10\n",
      "Column sampled: gender\n",
      "Column sampled: 5year_survival\n"
     ]
    },
    {
     "data": {
      "text/html": [
       "<div>\n",
       "<style scoped>\n",
       "    .dataframe tbody tr th:only-of-type {\n",
       "        vertical-align: middle;\n",
       "    }\n",
       "\n",
       "    .dataframe tbody tr th {\n",
       "        vertical-align: top;\n",
       "    }\n",
       "\n",
       "    .dataframe thead th {\n",
       "        text-align: right;\n",
       "    }\n",
       "</style>\n",
       "<table border=\"1\" class=\"dataframe\">\n",
       "  <thead>\n",
       "    <tr style=\"text-align: right;\">\n",
       "      <th></th>\n",
       "      <th>tumor_icd10</th>\n",
       "      <th>gender</th>\n",
       "      <th>5year_survival</th>\n",
       "    </tr>\n",
       "  </thead>\n",
       "  <tbody>\n",
       "    <tr>\n",
       "      <th>0</th>\n",
       "      <td>C20</td>\n",
       "      <td>female</td>\n",
       "      <td>0</td>\n",
       "    </tr>\n",
       "    <tr>\n",
       "      <th>1</th>\n",
       "      <td>C21</td>\n",
       "      <td>female</td>\n",
       "      <td>1</td>\n",
       "    </tr>\n",
       "    <tr>\n",
       "      <th>2</th>\n",
       "      <td>C20</td>\n",
       "      <td>male</td>\n",
       "      <td>0</td>\n",
       "    </tr>\n",
       "    <tr>\n",
       "      <th>3</th>\n",
       "      <td>C21</td>\n",
       "      <td>female</td>\n",
       "      <td>0</td>\n",
       "    </tr>\n",
       "    <tr>\n",
       "      <th>4</th>\n",
       "      <td>C21</td>\n",
       "      <td>male</td>\n",
       "      <td>0</td>\n",
       "    </tr>\n",
       "  </tbody>\n",
       "</table>\n",
       "</div>"
      ],
      "text/plain": [
       "  tumor_icd10  gender 5year_survival\n",
       "0         C20  female              0\n",
       "1         C21  female              1\n",
       "2         C20    male              0\n",
       "3         C21  female              0\n",
       "4         C21    male              0"
      ]
     },
     "execution_count": 138,
     "metadata": {},
     "output_type": "execute_result"
    }
   ],
   "source": [
    "synthesizer_schemabased = SchemaSynthesizer()\n",
    "synthesizer_schemabased.model_ = example_schema\n",
    "\n",
    "df_synth_schemabased = synthesizer_schemabased.generate(num_records=10000)\n",
    "df_synth_schemabased.head()"
   ]
  },
  {
   "cell_type": "markdown",
   "metadata": {},
   "source": [
    "We can inspect whether the marginal distributions are according to our input specifications, note that 5year survival indeed follows a 70/30 distribution."
   ]
  },
  {
   "cell_type": "code",
   "execution_count": 141,
   "metadata": {},
   "outputs": [
    {
     "data": {
      "text/plain": [
       "C21    2544\n",
       "C18    2490\n",
       "C19    2487\n",
       "C20    2479\n",
       "Name: tumor_icd10, dtype: int64"
      ]
     },
     "execution_count": 141,
     "metadata": {},
     "output_type": "execute_result"
    },
    {
     "data": {
      "text/plain": [
       "female    5083\n",
       "male      4917\n",
       "Name: gender, dtype: int64"
      ]
     },
     "execution_count": 141,
     "metadata": {},
     "output_type": "execute_result"
    },
    {
     "data": {
      "text/plain": [
       "0    7014\n",
       "1    2986\n",
       "Name: 5year_survival, dtype: int64"
      ]
     },
     "execution_count": 141,
     "metadata": {},
     "output_type": "execute_result"
    }
   ],
   "source": [
    "for c in df_synth_schemabased.columns:\n",
    "    df_synth_schemabased[c].value_counts()"
   ]
  },
  {
   "cell_type": "code",
   "execution_count": null,
   "metadata": {},
   "outputs": [],
   "source": []
  }
 ],
 "metadata": {
  "kernelspec": {
   "display_name": "Python 3",
   "language": "python",
   "name": "python3"
  },
  "language_info": {
   "codemirror_mode": {
    "name": "ipython",
    "version": 3
   },
   "file_extension": ".py",
   "mimetype": "text/x-python",
   "name": "python",
   "nbconvert_exporter": "python",
   "pygments_lexer": "ipython3",
   "version": "3.8.3"
  },
  "toc": {
   "base_numbering": 1,
   "nav_menu": {},
   "number_sections": true,
   "sideBar": true,
   "skip_h1_title": false,
   "title_cell": "Table of Contents",
   "title_sidebar": "Contents",
   "toc_cell": false,
   "toc_position": {},
   "toc_section_display": true,
   "toc_window_display": false
  }
 },
 "nbformat": 4,
 "nbformat_minor": 4
}
